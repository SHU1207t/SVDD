{
 "cells": [
  {
   "cell_type": "code",
   "execution_count": 1,
   "id": "31716e25",
   "metadata": {},
   "outputs": [],
   "source": [
    "import os\n",
    "import sys\n",
    "import csv\n",
    "import numpy as np\n",
    "import matplotlib.pyplot as plt\n",
    "import tensorflow as tf\n",
    "from tensorflow.keras.models import Model\n",
    "from tensorflow.keras.layers import Dense, UpSampling2D, Conv2D, Conv2DTranspose, Reshape, Input\n",
    "from tensorflow.keras import optimizers\n",
    "from efficientnet.tfkeras import EfficientNetB2, preprocess_input\n",
    "import sklearn\n",
    "from sklearn.model_selection import train_test_split, GridSearchCV\n",
    "from sklearn.svm import OneClassSVM\n",
    "from sklearn.metrics import roc_auc_score, f1_score, accuracy_score\n",
    "import cv2\n",
    "import MVTecAD_loaddata as mv\n",
    "import pandas as pd\n",
    "\n",
    "res = []\n",
    "def mahalanobis_kernel(X1, X2):\n",
    "    m, n = X1.shape\n",
    "    o, p = X2.shape\n",
    "    K = np.zeros((m,o))\n",
    "    # 共分散行列の計算\n",
    "    S = np.cov(X1.T)\n",
    "    S = S + 1e-3 * np.eye(n)\n",
    "    # 共分散行列の逆行列の計算\n",
    "    S_inv = np.linalg.inv(S)\n",
    "    # マハラノビスカーネル\n",
    "    for i in range(m):\n",
    "        for j in range(o):\n",
    "            K[i,j] = np.exp(-1*(X1[i,:]-X2[j,:])@S_inv@((X1[i,:]-X2[j,:]).T))\n",
    "    return K\n",
    "\n",
    "def OCSVM(X, x_test, y, y_test):\n",
    "#     tuned_parameters = [\n",
    "#         {'nu': [2**-3, 2**-4, 2**-5, 2**-6, 2**-7], 'kernel': ['precomputed']},\n",
    "#     ]\n",
    "    tuned_parameters = [\n",
    "        {'nu': [2**-3, 2**-4, 2**-5, 2**-6, 2**-7], 'kernel': ['rbf'], 'gamma': [10**-3, 10**-4, 10**-5, 10**-6, 10**-7]},\n",
    "    ]\n",
    "    score = 'accuracy'\n",
    "    clf = GridSearchCV(\n",
    "        OneClassSVM(),\n",
    "        tuned_parameters,\n",
    "        cv=5,\n",
    "        scoring=score)\n",
    "#         scoring='%s_weighted' % score )\n",
    "          \n",
    "    clf.fit(X, y)\n",
    "          \n",
    "    a = clf.decision_function(x_test)\n",
    "    b = clf.predict(x_test)\n",
    "    r1 = roc_auc_score(y_test,a)\n",
    "    r2 = f1_score(y_test,b)\n",
    "    r3 = accuracy_score(y_test,b)\n",
    "    print('roc_auc : ',r1)\n",
    "    print('f1_score : ', r2)\n",
    "    print('accuracy_score : ', r3)\n",
    "    print('best_params : ', clf.best_params_)\n",
    "    result = [r1,r2,r3]\n",
    "    return result\n",
    "\n",
    "def model_train(X_train, X_test):\n",
    "    input_shape = (256, 256, 3)\n",
    "    inputs = Input(input_shape)\n",
    "\n",
    "    base_model = EfficientNetB2(include_top=False, weights='imagenet', pooling='avg')(inputs)\n",
    "    outputs = Reshape((1,1,1408))(base_model)\n",
    "    model = Model(inputs=inputs, outputs=outputs)\n",
    "    model.compile(optimizer=optimizers.Adam(learning_rate=1e-4), loss='mean_squared_error')\n",
    "    f_tr = model.predict(X_train, verbose=0)\n",
    "    f_ts = model.predict(X_test, verbose=0)\n",
    "    \n",
    "    x_tr = np.reshape(f_tr, (f_tr.shape[0], -1))\n",
    "    x_ts = np.reshape(f_ts, (f_ts.shape[0], -1))\n",
    "    \n",
    "    incov_train = np.linalg.inv(np.cov(x_tr.T))\n",
    "    incov_test = np.linalg.inv(np.cov(x_ts.T))\n",
    "    \n",
    "    x_tr = (x_tr@incov_train)\n",
    "    x_ts = (x_ts@incov_test)\n",
    "    \n",
    "    x_tr = x_tr/(np.max(x_tr))\n",
    "    x_ts = x_ts/(np.max(x_ts))\n",
    "    \n",
    "    return x_tr, x_ts"
   ]
  },
  {
   "cell_type": "code",
   "execution_count": 2,
   "id": "d1cc4d3f",
   "metadata": {},
   "outputs": [
    {
     "name": "stdout",
     "output_type": "stream",
     "text": [
      "roc_auc :  0.5\n",
      "f1_score :  0.0\n",
      "accuracy_score :  0.7590361445783133\n",
      "best_params :  {'gamma': 0.001, 'kernel': 'rbf', 'nu': 0.125}\n"
     ]
    }
   ],
   "source": [
    "X_train, X_test, X_test_good, X_test_error, y_tr, y_tg, y_te, y_ts = mv.bottle()\n",
    "# X_train, X_test, X_test_good, X_test_error, y_tr, y_tg, y_te, y_ts = mv.cable()\n",
    "# X_train, X_test, X_test_good, X_test_error, y_tr, y_tg, y_te, y_ts = mv.capsule()\n",
    "# X_train, X_test, X_test_good, X_test_error, y_tr, y_tg, y_te, y_ts = mv.carpet()\n",
    "# X_train, X_test, X_test_good, X_test_error, y_tr, y_tg, y_te, y_ts = mv.grid()\n",
    "# X_train, X_test, X_test_good, X_test_error, y_tr, y_tg, y_te, y_ts = mv.hazelnut()\n",
    "# X_train, X_test, X_test_good, X_test_error, y_tr, y_tg, y_te, y_ts = mv.leather()\n",
    "# X_train, X_test, X_test_good, X_test_error, y_tr, y_tg, y_te, y_ts = mv.metal_nut()\n",
    "# X_train, X_test, X_test_good, X_test_error, y_tr, y_tg, y_te, y_ts = mv.pill()\n",
    "# X_train, X_test, X_test_good, X_test_error, y_tr, y_tg, y_te, y_ts = mv.screw()\n",
    "# X_train, X_test, X_test_good, X_test_error, y_tr, y_tg, y_te, y_ts = mv.tile()\n",
    "# X_train, X_test, X_test_good, X_test_error, y_tr, y_tg, y_te, y_ts = mv.toothbrush()\n",
    "# X_train, X_test, X_test_good, X_test_error, y_tr, y_tg, y_te, y_ts = mv.transistor()\n",
    "# X_train, X_test, X_test_good, X_test_error, y_tr, y_tg, y_te, y_ts = mv.wood()\n",
    "# X_train, X_test, X_test_good, X_test_error, y_tr, y_tg, y_te, y_ts = mv.zipper()\n",
    "x_train, x_test = model_train(X_train, X_test)\n",
    "result = OCSVM(x_train, x_test, y_tr, y_ts)\n",
    "res.append(result)"
   ]
  },
  {
   "cell_type": "code",
   "execution_count": 7,
   "id": "272028b8",
   "metadata": {},
   "outputs": [
    {
     "data": {
      "text/plain": [
       "<matplotlib.collections.PathCollection at 0x18875859760>"
      ]
     },
     "execution_count": 7,
     "metadata": {},
     "output_type": "execute_result"
    },
    {
     "data": {
      "image/png": "[encoded data removed]",
      "text/plain": [
       "<Figure size 432x288 with 1 Axes>"
      ]
     },
     "metadata": {
      "needs_background": "light"
     },
     "output_type": "display_data"
    }
   ],
   "source": [
    "from sklearn.decomposition import PCA\n",
    "\n",
    "x_tg, x_te = model_train(X_test_good, X_test_error)\n",
    "\n",
    "# pca = PCA()\n",
    "# pca.fit(x_train)\n",
    "# f_tr = pca.transform(x_train)\n",
    "# f_tr = f_tr[:,:2]\n",
    "\n",
    "pca.fit(x_te)\n",
    "f_te = pca.transform(x_te)\n",
    "f_te = f_te[:,:2]\n",
    "\n",
    "pca.fit(x_tg)\n",
    "f_tg = pca.transform(x_tg)\n",
    "f_tg = f_tg[:,:2]\n",
    "\n",
    "# pca.fit(x_test)\n",
    "# f_ts = pca.transform(x_test)\n",
    "# f_ts = f_ts[:,:2]\n",
    "plt.scatter(f_tg[:,0], f_tg[:,1], color='r')\n",
    "plt.scatter(f_te[:,0], f_te[:,1], color='b')\n",
    "plt.scatter(f_ts[:,0], f_ts[:,1], color='g')"
   ]
  },
  {
   "cell_type": "code",
   "execution_count": 26,
   "id": "d27785ee",
   "metadata": {},
   "outputs": [],
   "source": [
    "c = OneClassSVM(nu=0.1)\n",
    "c.fit(x_train)\n",
    "sv = c.support_vectors_\n",
    "n = c.support_"
   ]
  },
  {
   "cell_type": "code",
   "execution_count": 38,
   "id": "6600319d",
   "metadata": {},
   "outputs": [
    {
     "data": {
      "text/plain": [
       "(21, 209)"
      ]
     },
     "execution_count": 38,
     "metadata": {},
     "output_type": "execute_result"
    }
   ],
   "source": [
    "f = f_tr[n,:]\n",
    "f.shape"
   ]
  },
  {
   "cell_type": "code",
   "execution_count": 39,
   "id": "eeaedce0",
   "metadata": {},
   "outputs": [
    {
     "data": {
      "text/plain": [
       "<matplotlib.collections.PathCollection at 0x1881d1dbfa0>"
      ]
     },
     "execution_count": 39,
     "metadata": {},
     "output_type": "execute_result"
    },
    {
     "data": {
      "image/png": "[encoded data removed]",
      "text/plain": [
       "<Figure size 432x288 with 1 Axes>"
      ]
     },
     "metadata": {
      "needs_background": "light"
     },
     "output_type": "display_data"
    }
   ],
   "source": [
    "pca.fit(x_train)\n",
    "f_tr = pca.transform(x_train)\n",
    "# pca.fit(f)\n",
    "# f = pca.transform(f)\n",
    "plt.scatter(f_tr[:,0], f_tr[:,1], color='b')\n",
    "plt.scatter(f[:,0], f[:,1], color='r')"
   ]
  },
  {
   "cell_type": "code",
   "execution_count": 3,
   "id": "a53cf1f9",
   "metadata": {},
   "outputs": [
    {
     "name": "stdout",
     "output_type": "stream",
     "text": [
      "roc_auc :  0.4222035323801514\n",
      "f1_score :  0.0\n",
      "accuracy_score :  0.5857142857142857\n",
      "best_params :  {'gamma': 0.001, 'kernel': 'rbf', 'nu': 0.125}\n"
     ]
    }
   ],
   "source": [
    "# X_train, X_test, X_test_good, X_test_error, y_tr, y_tg, y_te, y_ts = mv.bottle()\n",
    "X_train, X_test, X_test_good, X_test_error, y_tr, y_tg, y_te, y_ts = mv.cable()\n",
    "# X_train, X_test, X_test_good, X_test_error, y_tr, y_tg, y_te, y_ts = mv.capsule()\n",
    "# X_train, X_test, X_test_good, X_test_error, y_tr, y_tg, y_te, y_ts = mv.carpet()\n",
    "# X_train, X_test, X_test_good, X_test_error, y_tr, y_tg, y_te, y_ts = mv.grid()\n",
    "# X_train, X_test, X_test_good, X_test_error, y_tr, y_tg, y_te, y_ts = mv.hazelnut()\n",
    "# X_train, X_test, X_test_good, X_test_error, y_tr, y_tg, y_te, y_ts = mv.leather()\n",
    "# X_train, X_test, X_test_good, X_test_error, y_tr, y_tg, y_te, y_ts = mv.metal_nut()\n",
    "# X_train, X_test, X_test_good, X_test_error, y_tr, y_tg, y_te, y_ts = mv.pill()\n",
    "# X_train, X_test, X_test_good, X_test_error, y_tr, y_tg, y_te, y_ts = mv.screw()\n",
    "# X_train, X_test, X_test_good, X_test_error, y_tr, y_tg, y_te, y_ts = mv.tile()\n",
    "# X_train, X_test, X_test_good, X_test_error, y_tr, y_tg, y_te, y_ts = mv.toothbrush()\n",
    "# X_train, X_test, X_test_good, X_test_error, y_tr, y_tg, y_te, y_ts = mv.transistor()\n",
    "# X_train, X_test, X_test_good, X_test_error, y_tr, y_tg, y_te, y_ts = mv.wood()\n",
    "# X_train, X_test, X_test_good, X_test_error, y_tr, y_tg, y_te, y_ts = mv.zipper()\n",
    "x_train, x_test = model_train(X_train, X_test)\n",
    "result = OCSVM(x_train, x_test, y_tr, y_ts)\n",
    "res.append(result)"
   ]
  },
  {
   "cell_type": "code",
   "execution_count": 4,
   "id": "daa210cc",
   "metadata": {},
   "outputs": [
    {
     "name": "stdout",
     "output_type": "stream",
     "text": [
      "roc_auc :  0.5\n",
      "f1_score :  0.0\n",
      "accuracy_score :  0.8257575757575758\n",
      "best_params :  {'gamma': 0.001, 'kernel': 'rbf', 'nu': 0.125}\n"
     ]
    }
   ],
   "source": [
    "# X_train, X_test, X_test_good, X_test_error, y_tr, y_tg, y_te, y_ts = mv.bottle()\n",
    "# X_train, X_test, X_test_good, X_test_error, y_tr, y_tg, y_te, y_ts = mv.cable()\n",
    "X_train, X_test, X_test_good, X_test_error, y_tr, y_tg, y_te, y_ts = mv.capsule()\n",
    "# X_train, X_test, X_test_good, X_test_error, y_tr, y_tg, y_te, y_ts = mv.carpet()\n",
    "# X_train, X_test, X_test_good, X_test_error, y_tr, y_tg, y_te, y_ts = mv.grid()\n",
    "# X_train, X_test, X_test_good, X_test_error, y_tr, y_tg, y_te, y_ts = mv.hazelnut()\n",
    "# X_train, X_test, X_test_good, X_test_error, y_tr, y_tg, y_te, y_ts = mv.leather()\n",
    "# X_train, X_test, X_test_good, X_test_error, y_tr, y_tg, y_te, y_ts = mv.metal_nut()\n",
    "# X_train, X_test, X_test_good, X_test_error, y_tr, y_tg, y_te, y_ts = mv.pill()\n",
    "# X_train, X_test, X_test_good, X_test_error, y_tr, y_tg, y_te, y_ts = mv.screw()\n",
    "# X_train, X_test, X_test_good, X_test_error, y_tr, y_tg, y_te, y_ts = mv.tile()\n",
    "# X_train, X_test, X_test_good, X_test_error, y_tr, y_tg, y_te, y_ts = mv.toothbrush()\n",
    "# X_train, X_test, X_test_good, X_test_error, y_tr, y_tg, y_te, y_ts = mv.transistor()\n",
    "# X_train, X_test, X_test_good, X_test_error, y_tr, y_tg, y_te, y_ts = mv.wood()\n",
    "# X_train, X_test, X_test_good, X_test_error, y_tr, y_tg, y_te, y_ts = mv.zipper()\n",
    "x_train, x_test = model_train(X_train, X_test)\n",
    "result = OCSVM(x_train, x_test, y_tr, y_ts)\n",
    "res.append(result)"
   ]
  },
  {
   "cell_type": "code",
   "execution_count": 5,
   "id": "eec953f6",
   "metadata": {},
   "outputs": [
    {
     "name": "stdout",
     "output_type": "stream",
     "text": [
      "roc_auc :  0.5\n",
      "f1_score :  0.0\n",
      "accuracy_score :  0.7941176470588235\n",
      "best_params :  {'gamma': 0.001, 'kernel': 'rbf', 'nu': 0.125}\n"
     ]
    }
   ],
   "source": [
    "# X_train, X_test, X_test_good, X_test_error, y_tr, y_tg, y_te, y_ts = mv.bottle()\n",
    "# X_train, X_test, X_test_good, X_test_error, y_tr, y_tg, y_te, y_ts = mv.cable()\n",
    "# X_train, X_test, X_test_good, X_test_error, y_tr, y_tg, y_te, y_ts = mv.capsule()\n",
    "X_train, X_test, X_test_good, X_test_error, y_tr, y_tg, y_te, y_ts = mv.carpet()\n",
    "# X_train, X_test, X_test_good, X_test_error, y_tr, y_tg, y_te, y_ts = mv.grid()\n",
    "# X_train, X_test, X_test_good, X_test_error, y_tr, y_tg, y_te, y_ts = mv.hazelnut()\n",
    "# X_train, X_test, X_test_good, X_test_error, y_tr, y_tg, y_te, y_ts = mv.leather()\n",
    "# X_train, X_test, X_test_good, X_test_error, y_tr, y_tg, y_te, y_ts = mv.metal_nut()\n",
    "# X_train, X_test, X_test_good, X_test_error, y_tr, y_tg, y_te, y_ts = mv.pill()\n",
    "# X_train, X_test, X_test_good, X_test_error, y_tr, y_tg, y_te, y_ts = mv.screw()\n",
    "# X_train, X_test, X_test_good, X_test_error, y_tr, y_tg, y_te, y_ts = mv.tile()\n",
    "# X_train, X_test, X_test_good, X_test_error, y_tr, y_tg, y_te, y_ts = mv.toothbrush()\n",
    "# X_train, X_test, X_test_good, X_test_error, y_tr, y_tg, y_te, y_ts = mv.transistor()\n",
    "# X_train, X_test, X_test_good, X_test_error, y_tr, y_tg, y_te, y_ts = mv.wood()\n",
    "# X_train, X_test, X_test_good, X_test_error, y_tr, y_tg, y_te, y_ts = mv.zipper()\n",
    "x_train, x_test = model_train(X_train, X_test)\n",
    "result = OCSVM(x_train, x_test, y_tr, y_ts)\n",
    "res.append(result)"
   ]
  },
  {
   "cell_type": "code",
   "execution_count": 6,
   "id": "5b85ac73",
   "metadata": {},
   "outputs": [
    {
     "name": "stdout",
     "output_type": "stream",
     "text": [
      "roc_auc :  0.5\n",
      "f1_score :  0.0\n",
      "accuracy_score :  0.7307692307692307\n",
      "best_params :  {'gamma': 0.001, 'kernel': 'rbf', 'nu': 0.125}\n"
     ]
    }
   ],
   "source": [
    "# X_train, X_test, X_test_good, X_test_error, y_tr, y_tg, y_te, y_ts = mv.bottle()\n",
    "# X_train, X_test, X_test_good, X_test_error, y_tr, y_tg, y_te, y_ts = mv.cable()\n",
    "# X_train, X_test, X_test_good, X_test_error, y_tr, y_tg, y_te, y_ts = mv.capsule()\n",
    "# X_train, X_test, X_test_good, X_test_error, y_tr, y_tg, y_te, y_ts = mv.carpet()\n",
    "X_train, X_test, X_test_good, X_test_error, y_tr, y_tg, y_te, y_ts = mv.grid()\n",
    "# X_train, X_test, X_test_good, X_test_error, y_tr, y_tg, y_te, y_ts = mv.hazelnut()\n",
    "# X_train, X_test, X_test_good, X_test_error, y_tr, y_tg, y_te, y_ts = mv.leather()\n",
    "# X_train, X_test, X_test_good, X_test_error, y_tr, y_tg, y_te, y_ts = mv.metal_nut()\n",
    "# X_train, X_test, X_test_good, X_test_error, y_tr, y_tg, y_te, y_ts = mv.pill()\n",
    "# X_train, X_test, X_test_good, X_test_error, y_tr, y_tg, y_te, y_ts = mv.screw()\n",
    "# X_train, X_test, X_test_good, X_test_error, y_tr, y_tg, y_te, y_ts = mv.tile()\n",
    "# X_train, X_test, X_test_good, X_test_error, y_tr, y_tg, y_te, y_ts = mv.toothbrush()\n",
    "# X_train, X_test, X_test_good, X_test_error, y_tr, y_tg, y_te, y_ts = mv.transistor()\n",
    "# X_train, X_test, X_test_good, X_test_error, y_tr, y_tg, y_te, y_ts = mv.wood()\n",
    "# X_train, X_test, X_test_good, X_test_error, y_tr, y_tg, y_te, y_ts = mv.zipper()\n",
    "x_train, x_test = model_train(X_train, X_test)\n",
    "result = OCSVM(x_train, x_test, y_tr, y_ts)\n",
    "res.append(result)"
   ]
  },
  {
   "cell_type": "code",
   "execution_count": 7,
   "id": "00fa33d3",
   "metadata": {},
   "outputs": [
    {
     "name": "stdout",
     "output_type": "stream",
     "text": [
      "roc_auc :  0.5\n",
      "f1_score :  0.0\n",
      "accuracy_score :  0.6363636363636364\n",
      "best_params :  {'gamma': 0.001, 'kernel': 'rbf', 'nu': 0.125}\n"
     ]
    }
   ],
   "source": [
    "# X_train, X_test, X_test_good, X_test_error, y_tr, y_tg, y_te, y_ts = mv.bottle()\n",
    "# X_train, X_test, X_test_good, X_test_error, y_tr, y_tg, y_te, y_ts = mv.cable()\n",
    "# X_train, X_test, X_test_good, X_test_error, y_tr, y_tg, y_te, y_ts = mv.capsule()\n",
    "# X_train, X_test, X_test_good, X_test_error, y_tr, y_tg, y_te, y_ts = mv.carpet()\n",
    "# X_train, X_test, X_test_good, X_test_error, y_tr, y_tg, y_te, y_ts = mv.grid()\n",
    "X_train, X_test, X_test_good, X_test_error, y_tr, y_tg, y_te, y_ts = mv.hazelnut()\n",
    "# X_train, X_test, X_test_good, X_test_error, y_tr, y_tg, y_te, y_ts = mv.leather()\n",
    "# X_train, X_test, X_test_good, X_test_error, y_tr, y_tg, y_te, y_ts = mv.metal_nut()\n",
    "# X_train, X_test, X_test_good, X_test_error, y_tr, y_tg, y_te, y_ts = mv.pill()\n",
    "# X_train, X_test, X_test_good, X_test_error, y_tr, y_tg, y_te, y_ts = mv.screw()\n",
    "# X_train, X_test, X_test_good, X_test_error, y_tr, y_tg, y_te, y_ts = mv.tile()\n",
    "# X_train, X_test, X_test_good, X_test_error, y_tr, y_tg, y_te, y_ts = mv.toothbrush()\n",
    "# X_train, X_test, X_test_good, X_test_error, y_tr, y_tg, y_te, y_ts = mv.transistor()\n",
    "# X_train, X_test, X_test_good, X_test_error, y_tr, y_tg, y_te, y_ts = mv.wood()\n",
    "# X_train, X_test, X_test_good, X_test_error, y_tr, y_tg, y_te, y_ts = mv.zipper()\n",
    "x_train, x_test = model_train(X_train, X_test)\n",
    "result = OCSVM(x_train, x_test, y_tr, y_ts)\n",
    "res.append(result)"
   ]
  },
  {
   "cell_type": "code",
   "execution_count": 8,
   "id": "ff3819a2",
   "metadata": {},
   "outputs": [
    {
     "name": "stdout",
     "output_type": "stream",
     "text": [
      "roc_auc :  0.425101902173913\n",
      "f1_score :  0.0\n",
      "accuracy_score :  0.7419354838709677\n",
      "best_params :  {'gamma': 0.001, 'kernel': 'rbf', 'nu': 0.125}\n"
     ]
    }
   ],
   "source": [
    "# X_train, X_test, X_test_good, X_test_error, y_tr, y_tg, y_te, y_ts = mv.bottle()\n",
    "# X_train, X_test, X_test_good, X_test_error, y_tr, y_tg, y_te, y_ts = mv.cable()\n",
    "# X_train, X_test, X_test_good, X_test_error, y_tr, y_tg, y_te, y_ts = mv.capsule()\n",
    "# X_train, X_test, X_test_good, X_test_error, y_tr, y_tg, y_te, y_ts = mv.carpet()\n",
    "# X_train, X_test, X_test_good, X_test_error, y_tr, y_tg, y_te, y_ts = mv.grid()\n",
    "# X_train, X_test, X_test_good, X_test_error, y_tr, y_tg, y_te, y_ts = mv.hazelnut()\n",
    "X_train, X_test, X_test_good, X_test_error, y_tr, y_tg, y_te, y_ts = mv.leather()\n",
    "# X_train, X_test, X_test_good, X_test_error, y_tr, y_tg, y_te, y_ts = mv.metal_nut()\n",
    "# X_train, X_test, X_test_good, X_test_error, y_tr, y_tg, y_te, y_ts = mv.pill()\n",
    "# X_train, X_test, X_test_good, X_test_error, y_tr, y_tg, y_te, y_ts = mv.screw()\n",
    "# X_train, X_test, X_test_good, X_test_error, y_tr, y_tg, y_te, y_ts = mv.tile()\n",
    "# X_train, X_test, X_test_good, X_test_error, y_tr, y_tg, y_te, y_ts = mv.toothbrush()\n",
    "# X_train, X_test, X_test_good, X_test_error, y_tr, y_tg, y_te, y_ts = mv.transistor()\n",
    "# X_train, X_test, X_test_good, X_test_error, y_tr, y_tg, y_te, y_ts = mv.wood()\n",
    "# X_train, X_test, X_test_good, X_test_error, y_tr, y_tg, y_te, y_ts = mv.zipper()\n",
    "x_train, x_test = model_train(X_train, X_test)\n",
    "result = OCSVM(x_train, x_test, y_tr, y_ts)\n",
    "res.append(result)"
   ]
  },
  {
   "cell_type": "code",
   "execution_count": 9,
   "id": "fb70364b",
   "metadata": {},
   "outputs": [
    {
     "name": "stdout",
     "output_type": "stream",
     "text": [
      "roc_auc :  0.5\n",
      "f1_score :  0.0\n",
      "accuracy_score :  0.808695652173913\n",
      "best_params :  {'gamma': 0.001, 'kernel': 'rbf', 'nu': 0.125}\n"
     ]
    }
   ],
   "source": [
    "# X_train, X_test, X_test_good, X_test_error, y_tr, y_tg, y_te, y_ts = mv.bottle()\n",
    "# X_train, X_test, X_test_good, X_test_error, y_tr, y_tg, y_te, y_ts = mv.cable()\n",
    "# X_train, X_test, X_test_good, X_test_error, y_tr, y_tg, y_te, y_ts = mv.capsule()\n",
    "# X_train, X_test, X_test_good, X_test_error, y_tr, y_tg, y_te, y_ts = mv.carpet()\n",
    "# X_train, X_test, X_test_good, X_test_error, y_tr, y_tg, y_te, y_ts = mv.grid()\n",
    "# X_train, X_test, X_test_good, X_test_error, y_tr, y_tg, y_te, y_ts = mv.hazelnut()\n",
    "# X_train, X_test, X_test_good, X_test_error, y_tr, y_tg, y_te, y_ts = mv.leather()\n",
    "X_train, X_test, X_test_good, X_test_error, y_tr, y_tg, y_te, y_ts = mv.metal_nut()\n",
    "# X_train, X_test, X_test_good, X_test_error, y_tr, y_tg, y_te, y_ts = mv.pill()\n",
    "# X_train, X_test, X_test_good, X_test_error, y_tr, y_tg, y_te, y_ts = mv.screw()\n",
    "# X_train, X_test, X_test_good, X_test_error, y_tr, y_tg, y_te, y_ts = mv.tile()\n",
    "# X_train, X_test, X_test_good, X_test_error, y_tr, y_tg, y_te, y_ts = mv.toothbrush()\n",
    "# X_train, X_test, X_test_good, X_test_error, y_tr, y_tg, y_te, y_ts = mv.transistor()\n",
    "# X_train, X_test, X_test_good, X_test_error, y_tr, y_tg, y_te, y_ts = mv.wood()\n",
    "# X_train, X_test, X_test_good, X_test_error, y_tr, y_tg, y_te, y_ts = mv.zipper()\n",
    "x_train, x_test = model_train(X_train, X_test)\n",
    "result = OCSVM(x_train, x_test, y_tr, y_ts)\n",
    "res.append(result)"
   ]
  },
  {
   "cell_type": "code",
   "execution_count": 10,
   "id": "8ebc55f5",
   "metadata": {},
   "outputs": [
    {
     "name": "stdout",
     "output_type": "stream",
     "text": [
      "roc_auc :  0.5\n",
      "f1_score :  0.0\n",
      "accuracy_score :  0.844311377245509\n",
      "best_params :  {'gamma': 0.001, 'kernel': 'rbf', 'nu': 0.125}\n"
     ]
    }
   ],
   "source": [
    "# X_train, X_test, X_test_good, X_test_error, y_tr, y_tg, y_te, y_ts = mv.bottle()\n",
    "# X_train, X_test, X_test_good, X_test_error, y_tr, y_tg, y_te, y_ts = mv.cable()\n",
    "# X_train, X_test, X_test_good, X_test_error, y_tr, y_tg, y_te, y_ts = mv.capsule()\n",
    "# X_train, X_test, X_test_good, X_test_error, y_tr, y_tg, y_te, y_ts = mv.carpet()\n",
    "# X_train, X_test, X_test_good, X_test_error, y_tr, y_tg, y_te, y_ts = mv.grid()\n",
    "# X_train, X_test, X_test_good, X_test_error, y_tr, y_tg, y_te, y_ts = mv.hazelnut()\n",
    "# X_train, X_test, X_test_good, X_test_error, y_tr, y_tg, y_te, y_ts = mv.leather()\n",
    "# X_train, X_test, X_test_good, X_test_error, y_tr, y_tg, y_te, y_ts = mv.metal_nut()\n",
    "X_train, X_test, X_test_good, X_test_error, y_tr, y_tg, y_te, y_ts = mv.pill()\n",
    "# X_train, X_test, X_test_good, X_test_error, y_tr, y_tg, y_te, y_ts = mv.screw()\n",
    "# X_train, X_test, X_test_good, X_test_error, y_tr, y_tg, y_te, y_ts = mv.tile()\n",
    "# X_train, X_test, X_test_good, X_test_error, y_tr, y_tg, y_te, y_ts = mv.toothbrush()\n",
    "# X_train, X_test, X_test_good, X_test_error, y_tr, y_tg, y_te, y_ts = mv.transistor()\n",
    "# X_train, X_test, X_test_good, X_test_error, y_tr, y_tg, y_te, y_ts = mv.wood()\n",
    "# X_train, X_test, X_test_good, X_test_error, y_tr, y_tg, y_te, y_ts = mv.zipper()\n",
    "x_train, x_test = model_train(X_train, X_test)\n",
    "result = OCSVM(x_train, x_test, y_tr, y_ts)\n",
    "res.append(result)"
   ]
  },
  {
   "cell_type": "code",
   "execution_count": 11,
   "id": "81c4a83d",
   "metadata": {},
   "outputs": [
    {
     "name": "stdout",
     "output_type": "stream",
     "text": [
      "roc_auc :  0.5014347202295553\n",
      "f1_score :  0.0\n",
      "accuracy_score :  0.74375\n",
      "best_params :  {'gamma': 0.001, 'kernel': 'rbf', 'nu': 0.125}\n"
     ]
    }
   ],
   "source": [
    "# X_train, X_test, X_test_good, X_test_error, y_tr, y_tg, y_te, y_ts = mv.bottle()\n",
    "# X_train, X_test, X_test_good, X_test_error, y_tr, y_tg, y_te, y_ts = mv.cable()\n",
    "# X_train, X_test, X_test_good, X_test_error, y_tr, y_tg, y_te, y_ts = mv.capsule()\n",
    "# X_train, X_test, X_test_good, X_test_error, y_tr, y_tg, y_te, y_ts = mv.carpet()\n",
    "# X_train, X_test, X_test_good, X_test_error, y_tr, y_tg, y_te, y_ts = mv.grid()\n",
    "# X_train, X_test, X_test_good, X_test_error, y_tr, y_tg, y_te, y_ts = mv.hazelnut()\n",
    "# X_train, X_test, X_test_good, X_test_error, y_tr, y_tg, y_te, y_ts = mv.leather()\n",
    "# X_train, X_test, X_test_good, X_test_error, y_tr, y_tg, y_te, y_ts = mv.metal_nut()\n",
    "# X_train, X_test, X_test_good, X_test_error, y_tr, y_tg, y_te, y_ts = mv.pill()\n",
    "X_train, X_test, X_test_good, X_test_error, y_tr, y_tg, y_te, y_ts = mv.screw()\n",
    "# X_train, X_test, X_test_good, X_test_error, y_tr, y_tg, y_te, y_ts = mv.tile()\n",
    "# X_train, X_test, X_test_good, X_test_error, y_tr, y_tg, y_te, y_ts = mv.toothbrush()\n",
    "# X_train, X_test, X_test_good, X_test_error, y_tr, y_tg, y_te, y_ts = mv.transistor()\n",
    "# X_train, X_test, X_test_good, X_test_error, y_tr, y_tg, y_te, y_ts = mv.wood()\n",
    "# X_train, X_test, X_test_good, X_test_error, y_tr, y_tg, y_te, y_ts = mv.zipper()\n",
    "x_train, x_test = model_train(X_train, X_test)\n",
    "result = OCSVM(x_train, x_test, y_tr, y_ts)\n",
    "res.append(result)"
   ]
  },
  {
   "cell_type": "code",
   "execution_count": 13,
   "id": "fc4bce90",
   "metadata": {},
   "outputs": [
    {
     "name": "stdout",
     "output_type": "stream",
     "text": [
      "roc_auc :  0.5957792207792209\n",
      "f1_score :  0.0\n",
      "accuracy_score :  0.717948717948718\n",
      "best_params :  {'gamma': 0.001, 'kernel': 'rbf', 'nu': 0.125}\n"
     ]
    }
   ],
   "source": [
    "# X_train, X_test, X_test_good, X_test_error, y_tr, y_tg, y_te, y_ts = mv.bottle()\n",
    "# X_train, X_test, X_test_good, X_test_error, y_tr, y_tg, y_te, y_ts = mv.cable()\n",
    "# X_train, X_test, X_test_good, X_test_error, y_tr, y_tg, y_te, y_ts = mv.capsule()\n",
    "# X_train, X_test, X_test_good, X_test_error, y_tr, y_tg, y_te, y_ts = mv.carpet()\n",
    "# X_train, X_test, X_test_good, X_test_error, y_tr, y_tg, y_te, y_ts = mv.grid()\n",
    "# X_train, X_test, X_test_good, X_test_error, y_tr, y_tg, y_te, y_ts = mv.hazelnut()\n",
    "# X_train, X_test, X_test_good, X_test_error, y_tr, y_tg, y_te, y_ts = mv.leather()\n",
    "# X_train, X_test, X_test_good, X_test_error, y_tr, y_tg, y_te, y_ts = mv.metal_nut()\n",
    "# X_train, X_test, X_test_good, X_test_error, y_tr, y_tg, y_te, y_ts = mv.pill()\n",
    "# X_train, X_test, X_test_good, X_test_error, y_tr, y_tg, y_te, y_ts = mv.screw()\n",
    "X_train, X_test, X_test_good, X_test_error, y_tr, y_tg, y_te, y_ts = mv.tile()\n",
    "# X_train, X_test, X_test_good, X_test_error, y_tr, y_tg, y_te, y_ts = mv.toothbrush()\n",
    "# X_train, X_test, X_test_good, X_test_error, y_tr, y_tg, y_te, y_ts = mv.transistor()\n",
    "# X_train, X_test, X_test_good, X_test_error, y_tr, y_tg, y_te, y_ts = mv.wood()\n",
    "# X_train, X_test, X_test_good, X_test_error, y_tr, y_tg, y_te, y_ts = mv.zipper()\n",
    "x_train, x_test = model_train(X_train, X_test)\n",
    "result = OCSVM(x_train, x_test, y_tr, y_ts)\n",
    "res.append(result)"
   ]
  },
  {
   "cell_type": "code",
   "execution_count": 14,
   "id": "534fffdc",
   "metadata": {},
   "outputs": [
    {
     "name": "stdout",
     "output_type": "stream",
     "text": [
      "roc_auc :  0.5\n",
      "f1_score :  0.0\n",
      "accuracy_score :  0.7142857142857143\n",
      "best_params :  {'gamma': 0.001, 'kernel': 'rbf', 'nu': 0.125}\n"
     ]
    }
   ],
   "source": [
    "# X_train, X_test, X_test_good, X_test_error, y_tr, y_tg, y_te, y_ts = mv.bottle()\n",
    "# X_train, X_test, X_test_good, X_test_error, y_tr, y_tg, y_te, y_ts = mv.cable()\n",
    "# X_train, X_test, X_test_good, X_test_error, y_tr, y_tg, y_te, y_ts = mv.capsule()\n",
    "# X_train, X_test, X_test_good, X_test_error, y_tr, y_tg, y_te, y_ts = mv.carpet()\n",
    "# X_train, X_test, X_test_good, X_test_error, y_tr, y_tg, y_te, y_ts = mv.grid()\n",
    "# X_train, X_test, X_test_good, X_test_error, y_tr, y_tg, y_te, y_ts = mv.hazelnut()\n",
    "# X_train, X_test, X_test_good, X_test_error, y_tr, y_tg, y_te, y_ts = mv.leather()\n",
    "# X_train, X_test, X_test_good, X_test_error, y_tr, y_tg, y_te, y_ts = mv.metal_nut()\n",
    "# X_train, X_test, X_test_good, X_test_error, y_tr, y_tg, y_te, y_ts = mv.pill()\n",
    "# X_train, X_test, X_test_good, X_test_error, y_tr, y_tg, y_te, y_ts = mv.screw()\n",
    "# X_train, X_test, X_test_good, X_test_error, y_tr, y_tg, y_te, y_ts = mv.tile()\n",
    "X_train, X_test, X_test_good, X_test_error, y_tr, y_tg, y_te, y_ts = mv.toothbrush()\n",
    "# X_train, X_test, X_test_good, X_test_error, y_tr, y_tg, y_te, y_ts = mv.transistor()\n",
    "# X_train, X_test, X_test_good, X_test_error, y_tr, y_tg, y_te, y_ts = mv.wood()\n",
    "# X_train, X_test, X_test_good, X_test_error, y_tr, y_tg, y_te, y_ts = mv.zipper()\n",
    "x_train, x_test = model_train(X_train, X_test)\n",
    "result = OCSVM(x_train, x_test, y_tr, y_ts)\n",
    "res.append(result)"
   ]
  },
  {
   "cell_type": "code",
   "execution_count": 15,
   "id": "8e275d11",
   "metadata": {},
   "outputs": [
    {
     "name": "stdout",
     "output_type": "stream",
     "text": [
      "roc_auc :  0.5375\n",
      "f1_score :  0.0\n",
      "accuracy_score :  0.4\n",
      "best_params :  {'gamma': 0.001, 'kernel': 'rbf', 'nu': 0.125}\n"
     ]
    }
   ],
   "source": [
    "# X_train, X_test, X_test_good, X_test_error, y_tr, y_tg, y_te, y_ts = mv.bottle()\n",
    "# X_train, X_test, X_test_good, X_test_error, y_tr, y_tg, y_te, y_ts = mv.cable()\n",
    "# X_train, X_test, X_test_good, X_test_error, y_tr, y_tg, y_te, y_ts = mv.capsule()\n",
    "# X_train, X_test, X_test_good, X_test_error, y_tr, y_tg, y_te, y_ts = mv.carpet()\n",
    "# X_train, X_test, X_test_good, X_test_error, y_tr, y_tg, y_te, y_ts = mv.grid()\n",
    "# X_train, X_test, X_test_good, X_test_error, y_tr, y_tg, y_te, y_ts = mv.hazelnut()\n",
    "# X_train, X_test, X_test_good, X_test_error, y_tr, y_tg, y_te, y_ts = mv.leather()\n",
    "# X_train, X_test, X_test_good, X_test_error, y_tr, y_tg, y_te, y_ts = mv.metal_nut()\n",
    "# X_train, X_test, X_test_good, X_test_error, y_tr, y_tg, y_te, y_ts = mv.pill()\n",
    "# X_train, X_test, X_test_good, X_test_error, y_tr, y_tg, y_te, y_ts = mv.screw()\n",
    "# X_train, X_test, X_test_good, X_test_error, y_tr, y_tg, y_te, y_ts = mv.tile()\n",
    "# X_train, X_test, X_test_good, X_test_error, y_tr, y_tg, y_te, y_ts = mv.toothbrush()\n",
    "X_train, X_test, X_test_good, X_test_error, y_tr, y_tg, y_te, y_ts = mv.transistor()\n",
    "# X_train, X_test, X_test_good, X_test_error, y_tr, y_tg, y_te, y_ts = mv.wood()\n",
    "# X_train, X_test, X_test_good, X_test_error, y_tr, y_tg, y_te, y_ts = mv.zipper()\n",
    "x_train, x_test = model_train(X_train, X_test)\n",
    "result = OCSVM(x_train, x_test, y_tr, y_ts)\n",
    "res.append(result)"
   ]
  },
  {
   "cell_type": "code",
   "execution_count": 16,
   "id": "576d9e61",
   "metadata": {},
   "outputs": [
    {
     "name": "stdout",
     "output_type": "stream",
     "text": [
      "roc_auc :  0.4473684210526315\n",
      "f1_score :  0.0\n",
      "accuracy_score :  0.759493670886076\n",
      "best_params :  {'gamma': 0.001, 'kernel': 'rbf', 'nu': 0.125}\n"
     ]
    }
   ],
   "source": [
    "# X_train, X_test, X_test_good, X_test_error, y_tr, y_tg, y_te, y_ts = mv.bottle()\n",
    "# X_train, X_test, X_test_good, X_test_error, y_tr, y_tg, y_te, y_ts = mv.cable()\n",
    "# X_train, X_test, X_test_good, X_test_error, y_tr, y_tg, y_te, y_ts = mv.capsule()\n",
    "# X_train, X_test, X_test_good, X_test_error, y_tr, y_tg, y_te, y_ts = mv.carpet()\n",
    "# X_train, X_test, X_test_good, X_test_error, y_tr, y_tg, y_te, y_ts = mv.grid()\n",
    "# X_train, X_test, X_test_good, X_test_error, y_tr, y_tg, y_te, y_ts = mv.hazelnut()\n",
    "# X_train, X_test, X_test_good, X_test_error, y_tr, y_tg, y_te, y_ts = mv.leather()\n",
    "# X_train, X_test, X_test_good, X_test_error, y_tr, y_tg, y_te, y_ts = mv.metal_nut()\n",
    "# X_train, X_test, X_test_good, X_test_error, y_tr, y_tg, y_te, y_ts = mv.pill()\n",
    "# X_train, X_test, X_test_good, X_test_error, y_tr, y_tg, y_te, y_ts = mv.screw()\n",
    "# X_train, X_test, X_test_good, X_test_error, y_tr, y_tg, y_te, y_ts = mv.tile()\n",
    "# X_train, X_test, X_test_good, X_test_error, y_tr, y_tg, y_te, y_ts = mv.toothbrush()\n",
    "# X_train, X_test, X_test_good, X_test_error, y_tr, y_tg, y_te, y_ts = mv.transistor()\n",
    "X_train, X_test, X_test_good, X_test_error, y_tr, y_tg, y_te, y_ts = mv.wood()\n",
    "# X_train, X_test, X_test_good, X_test_error, y_tr, y_tg, y_te, y_ts = mv.zipper()\n",
    "x_train, x_test = model_train(X_train, X_test)\n",
    "result = OCSVM(x_train, x_test, y_tr, y_ts)\n",
    "res.append(result)"
   ]
  },
  {
   "cell_type": "code",
   "execution_count": 17,
   "id": "85b55cd6",
   "metadata": {},
   "outputs": [
    {
     "name": "stdout",
     "output_type": "stream",
     "text": [
      "roc_auc :  0.5\n",
      "f1_score :  0.0\n",
      "accuracy_score :  0.7880794701986755\n",
      "best_params :  {'gamma': 0.001, 'kernel': 'rbf', 'nu': 0.125}\n"
     ]
    }
   ],
   "source": [
    "# X_train, X_test, X_test_good, X_test_error, y_tr, y_tg, y_te, y_ts = mv.bottle()\n",
    "# X_train, X_test, X_test_good, X_test_error, y_tr, y_tg, y_te, y_ts = mv.cable()\n",
    "# X_train, X_test, X_test_good, X_test_error, y_tr, y_tg, y_te, y_ts = mv.capsule()\n",
    "# X_train, X_test, X_test_good, X_test_error, y_tr, y_tg, y_te, y_ts = mv.carpet()\n",
    "# X_train, X_test, X_test_good, X_test_error, y_tr, y_tg, y_te, y_ts = mv.grid()\n",
    "# X_train, X_test, X_test_good, X_test_error, y_tr, y_tg, y_te, y_ts = mv.hazelnut()\n",
    "# X_train, X_test, X_test_good, X_test_error, y_tr, y_tg, y_te, y_ts = mv.leather()\n",
    "# X_train, X_test, X_test_good, X_test_error, y_tr, y_tg, y_te, y_ts = mv.metal_nut()\n",
    "# X_train, X_test, X_test_good, X_test_error, y_tr, y_tg, y_te, y_ts = mv.pill()\n",
    "# X_train, X_test, X_test_good, X_test_error, y_tr, y_tg, y_te, y_ts = mv.screw()\n",
    "# X_train, X_test, X_test_good, X_test_error, y_tr, y_tg, y_te, y_ts = mv.tile()\n",
    "# X_train, X_test, X_test_good, X_test_error, y_tr, y_tg, y_te, y_ts = mv.toothbrush()\n",
    "# X_train, X_test, X_test_good, X_test_error, y_tr, y_tg, y_te, y_ts = mv.transistor()\n",
    "# X_train, X_test, X_test_good, X_test_error, y_tr, y_tg, y_te, y_ts = mv.wood()\n",
    "X_train, X_test, X_test_good, X_test_error, y_tr, y_tg, y_te, y_ts = mv.zipper()\n",
    "x_train, x_test = model_train(X_train, X_test)\n",
    "result = OCSVM(x_train, x_test, y_tr, y_ts)\n",
    "res.append(result)"
   ]
  },
  {
   "cell_type": "code",
   "execution_count": 18,
   "id": "b239705b",
   "metadata": {},
   "outputs": [],
   "source": [
    "df = pd.DataFrame(res)\n",
    "df.to_csv('DCAEOCSVM_Nop_MAH.csv')"
   ]
  },
  {
   "cell_type": "code",
   "execution_count": null,
   "id": "d5cae7ba",
   "metadata": {},
   "outputs": [],
   "source": []
  }
 ],
 "metadata": {
  "kernelspec": {
   "display_name": "Python 3 (ipykernel)",
   "language": "python",
   "name": "python3"
  },
  "language_info": {
   "codemirror_mode": {
    "name": "ipython",
    "version": 3
   },
   "file_extension": ".py",
   "mimetype": "text/x-python",
   "name": "python",
   "nbconvert_exporter": "python",
   "pygments_lexer": "ipython3",
   "version": "3.9.12"
  }
 },
 "nbformat": 4,
 "nbformat_minor": 5
}
