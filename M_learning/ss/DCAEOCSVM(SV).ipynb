{
 "cells": [
  {
   "cell_type": "code",
   "execution_count": 1,
   "id": "1264dd6f",
   "metadata": {},
   "outputs": [],
   "source": [
    "import os\n",
    "import sys\n",
    "import csv\n",
    "import numpy as np\n",
    "import matplotlib.pyplot as plt\n",
    "import tensorflow as tf\n",
    "from tensorflow.keras.models import Model\n",
    "from tensorflow.keras.layers import Dense, UpSampling2D, Conv2D, Conv2DTranspose, Reshape, Input\n",
    "from tensorflow.keras import optimizers\n",
    "from efficientnet.tfkeras import EfficientNetB2, preprocess_input\n",
    "import sklearn\n",
    "from sklearn.model_selection import train_test_split, GridSearchCV\n",
    "from sklearn.svm import OneClassSVM\n",
    "from sklearn.metrics import roc_auc_score, f1_score, accuracy_score\n",
    "import cv2\n",
    "import MVTecAD_loaddata as mv\n",
    "import pandas as pd\n",
    "res = []\n",
    "def OCSVM_split(X, y, train_data):\n",
    "    tuned_parameters = [\n",
    "    {'nu': [2**-3, 2**-4, 2**-5,2**-6,2**-7], 'kernel': ['rbf'], 'gamma': [10**-3, 10**-4, 10**-5, 10**-6, 10**-7]},\n",
    "    ]\n",
    "    score = 'accuracy'\n",
    "    clf = GridSearchCV(\n",
    "        OneClassSVM(),\n",
    "        tuned_parameters,\n",
    "        cv=5,\n",
    "        scoring=score)\n",
    "#         scoring='%s_weighted' % score )\n",
    "    clf.fit(X, y)\n",
    "    svm = OneClassSVM(nu=clf.best_params_['nu'], gamma=clf.best_params_['gamma'])\n",
    "    svm.fit(X,y)\n",
    "    sv_num = svm.support_\n",
    "    sv = train_data[sv_num,:]\n",
    "    return clf, svm, sv\n",
    "\n",
    "def OCSVM2(clf, svm, X, x_test, y, y_test):\n",
    "    svm.fit(X, y)\n",
    "    a = svm.decision_function(x_test)\n",
    "    b = svm.predict(x_test)\n",
    "    r1 = roc_auc_score(y_test,a)\n",
    "    r2 = f1_score(y_test,b)\n",
    "    r3 = accuracy_score(y_test,b)\n",
    "    print('roc_auc : ',r1)\n",
    "    print('f1_score : ', r2)\n",
    "    print('accuracy_score : ', r3)\n",
    "    print('best_params : ', clf.best_params_)\n",
    "    result = [r1,r2,r3]\n",
    "    return result\n",
    "def OCSVM(X, x_test, y, y_test):\n",
    "    tuned_parameters = [\n",
    "        {'nu': [2**-3, 2**-4, 2**-5, 2**-6, 2**-7], 'kernel': ['rbf'], 'gamma': [10**-3, 10**-4, 10**-5, 10**-6, 10**-7]},\n",
    "    ]\n",
    "    score = 'f1'\n",
    "    clf = GridSearchCV(\n",
    "        OneClassSVM(),\n",
    "        tuned_parameters,\n",
    "        cv=5,\n",
    "        scoring='%s_weighted' % score)\n",
    "          \n",
    "    clf.fit(X, y)\n",
    "          \n",
    "    a = clf.decision_function(x_test)\n",
    "    b = clf.predict(x_test)\n",
    "    print('roc_auc : ', roc_auc_score(y_test, a))\n",
    "    print('f1_score : ', f1_score(y_test, b))\n",
    "    print('accuracy_score : ', accuracy_score(y_test, b))\n",
    "    print('best_params : ', clf.best_params_)\n",
    "\n",
    "def model_fit(X_train, X_test, SVs, model):\n",
    "    model.fit(SVs, SVs, epochs=1, batch_size=16, shuffle=True)\n",
    "    encoder = Model(model.layers[0].input, model.layers[-8].output)\n",
    "    f_tr = encoder.predict(X_train, verbose=0)\n",
    "    f_ts = encoder.predict(X_test, verbose=0)\n",
    "    x_tr = np.reshape(f_tr, (f_tr.shape[0], f_tr.shape[1] * f_tr.shape[2] * f_tr.shape[3]))\n",
    "    x_ts = np.reshape(f_ts, (f_ts.shape[0], f_ts.shape[1] * f_ts.shape[2] * f_ts.shape[3]))\n",
    "    return x_tr, x_ts\n",
    "\n",
    "def model_predict(X_train):\n",
    "    input_shape = (256, 256, 3)\n",
    "    inputs = Input(input_shape)\n",
    "\n",
    "    base_model = EfficientNetB2(include_top=False, weights='imagenet')(inputs)\n",
    "    x = Reshape((8, 8, 1408))(base_model)\n",
    "    x = Conv2D(256, kernel_size=(3, 3), activation='relu', padding='same')(x)\n",
    "    x = Conv2DTranspose(64, kernel_size=(3, 3), activation='relu', padding='same', strides=2)(x)\n",
    "    x = UpSampling2D(size=(2, 2))(x)\n",
    "    x = Conv2DTranspose(64, kernel_size=(3, 3), activation='relu', padding='same', strides=2)(x)\n",
    "    x = UpSampling2D(size=(2, 2))(x)\n",
    "    x = Conv2DTranspose(64, kernel_size=(3, 3), activation='relu', padding='same', strides=2)(x)\n",
    "    outputs = Conv2D(3, kernel_size=(3, 3), activation='sigmoid', padding='same')(x)\n",
    "    model = Model(inputs=inputs, outputs=outputs)\n",
    "    model.compile(optimizer=optimizers.Adam(learning_rate=1e-4), loss=\"mean_squared_error\")\n",
    "    \n",
    "    encoder = Model(model.layers[0].input, model.layers[-8].output)\n",
    "    f_tr = encoder.predict(X_train, verbose=0)\n",
    "    x_tr = np.reshape(f_tr, (f_tr.shape[0], f_tr.shape[1] * f_tr.shape[2] * f_tr.shape[3]))\n",
    "    return model, x_tr"
   ]
  },
  {
   "cell_type": "code",
   "execution_count": 2,
   "id": "904a2987",
   "metadata": {},
   "outputs": [
    {
     "name": "stdout",
     "output_type": "stream",
     "text": [
      "Model: \"model\"\n",
      "_________________________________________________________________\n",
      " Layer (type)                Output Shape              Param #   \n",
      "=================================================================\n",
      " input_1 (InputLayer)        [(None, 256, 256, 3)]     0         \n",
      "                                                                 \n",
      " efficientnet-b2 (Functional  (None, None, None, 1408)  7768562  \n",
      " )                                                               \n",
      "                                                                 \n",
      " reshape (Reshape)           (None, 8, 8, 1408)        0         \n",
      "                                                                 \n",
      " conv2d (Conv2D)             (None, 8, 8, 256)         3244288   \n",
      "                                                                 \n",
      " conv2d_transpose (Conv2DTra  (None, 16, 16, 64)       147520    \n",
      " nspose)                                                         \n",
      "                                                                 \n",
      " up_sampling2d (UpSampling2D  (None, 32, 32, 64)       0         \n",
      " )                                                               \n",
      "                                                                 \n",
      " conv2d_transpose_1 (Conv2DT  (None, 64, 64, 64)       36928     \n",
      " ranspose)                                                       \n",
      "                                                                 \n",
      " up_sampling2d_1 (UpSampling  (None, 128, 128, 64)     0         \n",
      " 2D)                                                             \n",
      "                                                                 \n",
      " conv2d_transpose_2 (Conv2DT  (None, 256, 256, 64)     36928     \n",
      " ranspose)                                                       \n",
      "                                                                 \n",
      " conv2d_1 (Conv2D)           (None, 256, 256, 3)       1731      \n",
      "                                                                 \n",
      "=================================================================\n",
      "Total params: 11,235,957\n",
      "Trainable params: 11,168,389\n",
      "Non-trainable params: 67,568\n",
      "_________________________________________________________________\n"
     ]
    }
   ],
   "source": [
    "input_shape = (256, 256, 3)\n",
    "inputs = Input(input_shape)\n",
    "\n",
    "base_model = EfficientNetB2(include_top=False, weights='imagenet')(inputs)\n",
    "x = Reshape((8, 8, 1408))(base_model)\n",
    "x = Conv2D(256, kernel_size=(3, 3), activation='relu', padding='same')(x)\n",
    "x = Conv2DTranspose(64, kernel_size=(3, 3), activation='relu', padding='same', strides=2)(x)\n",
    "x = UpSampling2D(size=(2, 2))(x)\n",
    "x = Conv2DTranspose(64, kernel_size=(3, 3), activation='relu', padding='same', strides=2)(x)\n",
    "x = UpSampling2D(size=(2, 2))(x)\n",
    "x = Conv2DTranspose(64, kernel_size=(3, 3), activation='relu', padding='same', strides=2)(x)\n",
    "outputs = Conv2D(3, kernel_size=(3, 3), activation='sigmoid', padding='same')(x)\n",
    "model = Model(inputs=inputs, outputs=outputs)\n",
    "model.compile(optimizer=optimizers.Adam(learning_rate=1e-4), loss=\"mean_squared_error\")\n",
    "model.summary()"
   ]
  },
  {
   "cell_type": "code",
   "execution_count": 2,
   "id": "91d3477c",
   "metadata": {},
   "outputs": [
    {
     "name": "stdout",
     "output_type": "stream",
     "text": [
      "1/1 [==============================] - 20s 20s/step - loss: 0.1329\n",
      "roc_auc :  0.9888888888888889\n",
      "f1_score :  0.9230769230769231\n",
      "accuracy_score :  0.963855421686747\n",
      "best_params :  {'gamma': 1e-06, 'kernel': 'rbf', 'nu': 0.015625}\n"
     ]
    }
   ],
   "source": [
    "X_train, X_test, X_test_good, X_test_error, y_tr, y_tg, y_te, y_ts = mv.bottle()\n",
    "# X_train, X_test, X_test_good, X_test_error, y_tr, y_tg, y_te, y_ts = mv.cable()\n",
    "# X_train, X_test, X_test_good, X_test_error, y_tr, y_tg, y_te, y_ts = mv.capsule()\n",
    "# X_train, X_test, X_test_good, X_test_error, y_tr, y_tg, y_te, y_ts = mv.carpet()\n",
    "# X_train, X_test, X_test_good, X_test_error, y_tr, y_tg, y_te, y_ts = mv.grid()\n",
    "# X_train, X_test, X_test_good, X_test_error, y_tr, y_tg, y_te, y_ts = mv.hazelnut()\n",
    "# X_train, X_test, X_test_good, X_test_error, y_tr, y_tg, y_te, y_ts = mv.leather()\n",
    "# X_train, X_test, X_test_good, X_test_error, y_tr, y_tg, y_te, y_ts = mv.metal_nut()\n",
    "# X_train, X_test, X_test_good, X_test_error, y_tr, y_tg, y_te, y_ts = mv.pill()\n",
    "# X_train, X_test, X_test_good, X_test_error, y_tr, y_tg, y_te, y_ts = mv.screw()\n",
    "# X_train, X_test, X_test_good, X_test_error, y_tr, y_tg, y_te, y_ts = mv.tile()\n",
    "# X_train, X_test, X_test_good, X_test_error, y_tr, y_tg, y_te, y_ts = mv.toothbrush()\n",
    "# X_train, X_test, X_test_good, X_test_error, y_tr, y_tg, y_te, y_ts = mv.transistor()\n",
    "# X_train, X_test, X_test_good, X_test_error, y_tr, y_tg, y_te, y_ts = mv.wood()\n",
    "# X_train, X_test, X_test_good, X_test_error, y_tr, y_tg, y_te, y_ts = mv.zipper()\n",
    "\n",
    "model, f_train = model_predict(X_train)\n",
    "clf, svm, sv = OCSVM_split(f_train, y_tr, X_train)\n",
    "f_train, f_test = model_fit(X_train, X_test, sv, model)\n",
    "result = OCSVM2(clf, svm, f_train, f_test, y_tr, y_ts)\n",
    "res.append(result)"
   ]
  },
  {
   "cell_type": "code",
   "execution_count": 3,
   "id": "23c4d354",
   "metadata": {},
   "outputs": [
    {
     "name": "stdout",
     "output_type": "stream",
     "text": [
      "1/1 [==============================] - 31s 31s/step - loss: 0.0531\n",
      "roc_auc :  0.8969722455845248\n",
      "f1_score :  0.759124087591241\n",
      "accuracy_score :  0.7642857142857142\n",
      "best_params :  {'gamma': 1e-06, 'kernel': 'rbf', 'nu': 0.015625}\n"
     ]
    }
   ],
   "source": [
    "# X_train, X_test, X_test_good, X_test_error, y_tr, y_tg, y_te, y_ts = mv.bottle()\n",
    "X_train, X_test, X_test_good, X_test_error, y_tr, y_tg, y_te, y_ts = mv.cable()\n",
    "# X_train, X_test, X_test_good, X_test_error, y_tr, y_tg, y_te, y_ts = mv.capsule()\n",
    "# X_train, X_test, X_test_good, X_test_error, y_tr, y_tg, y_te, y_ts = mv.carpet()\n",
    "# X_train, X_test, X_test_good, X_test_error, y_tr, y_tg, y_te, y_ts = mv.grid()\n",
    "# X_train, X_test, X_test_good, X_test_error, y_tr, y_tg, y_te, y_ts = mv.hazelnut()\n",
    "# X_train, X_test, X_test_good, X_test_error, y_tr, y_tg, y_te, y_ts = mv.leather()\n",
    "# X_train, X_test, X_test_good, X_test_error, y_tr, y_tg, y_te, y_ts = mv.metal_nut()\n",
    "# X_train, X_test, X_test_good, X_test_error, y_tr, y_tg, y_te, y_ts = mv.pill()\n",
    "# X_train, X_test, X_test_good, X_test_error, y_tr, y_tg, y_te, y_ts = mv.screw()\n",
    "# X_train, X_test, X_test_good, X_test_error, y_tr, y_tg, y_te, y_ts = mv.tile()\n",
    "# X_train, X_test, X_test_good, X_test_error, y_tr, y_tg, y_te, y_ts = mv.toothbrush()\n",
    "# X_train, X_test, X_test_good, X_test_error, y_tr, y_tg, y_te, y_ts = mv.transistor()\n",
    "# X_train, X_test, X_test_good, X_test_error, y_tr, y_tg, y_te, y_ts = mv.wood()\n",
    "# X_train, X_test, X_test_good, X_test_error, y_tr, y_tg, y_te, y_ts = mv.zipper()\n",
    "\n",
    "model, f_train = model_predict(X_train)\n",
    "clf, svm, sv = OCSVM_split(f_train, y_tr, X_train)\n",
    "f_train, f_test = model_fit(X_train, X_test, sv, model)\n",
    "result = OCSVM2(clf, svm, f_train, f_test, y_tr, y_ts)\n",
    "res.append(result)"
   ]
  },
  {
   "cell_type": "code",
   "execution_count": 4,
   "id": "3796aec9",
   "metadata": {},
   "outputs": [
    {
     "name": "stdout",
     "output_type": "stream",
     "text": [
      "1/1 [==============================] - 22s 22s/step - loss: 0.0976\n",
      "roc_auc :  0.7179896290386917\n",
      "f1_score :  0.37606837606837606\n",
      "accuracy_score :  0.44696969696969696\n",
      "best_params :  {'gamma': 1e-06, 'kernel': 'rbf', 'nu': 0.0078125}\n"
     ]
    }
   ],
   "source": [
    "# X_train, X_test, X_test_good, X_test_error, y_tr, y_tg, y_te, y_ts = mv.bottle()\n",
    "# X_train, X_test, X_test_good, X_test_error, y_tr, y_tg, y_te, y_ts = mv.cable()\n",
    "X_train, X_test, X_test_good, X_test_error, y_tr, y_tg, y_te, y_ts = mv.capsule()\n",
    "# X_train, X_test, X_test_good, X_test_error, y_tr, y_tg, y_te, y_ts = mv.carpet()\n",
    "# X_train, X_test, X_test_good, X_test_error, y_tr, y_tg, y_te, y_ts = mv.grid()\n",
    "# X_train, X_test, X_test_good, X_test_error, y_tr, y_tg, y_te, y_ts = mv.hazelnut()\n",
    "# X_train, X_test, X_test_good, X_test_error, y_tr, y_tg, y_te, y_ts = mv.leather()\n",
    "# X_train, X_test, X_test_good, X_test_error, y_tr, y_tg, y_te, y_ts = mv.metal_nut()\n",
    "# X_train, X_test, X_test_good, X_test_error, y_tr, y_tg, y_te, y_ts = mv.pill()\n",
    "# X_train, X_test, X_test_good, X_test_error, y_tr, y_tg, y_te, y_ts = mv.screw()\n",
    "# X_train, X_test, X_test_good, X_test_error, y_tr, y_tg, y_te, y_ts = mv.tile()\n",
    "# X_train, X_test, X_test_good, X_test_error, y_tr, y_tg, y_te, y_ts = mv.toothbrush()\n",
    "# X_train, X_test, X_test_good, X_test_error, y_tr, y_tg, y_te, y_ts = mv.transistor()\n",
    "# X_train, X_test, X_test_good, X_test_error, y_tr, y_tg, y_te, y_ts = mv.wood()\n",
    "# X_train, X_test, X_test_good, X_test_error, y_tr, y_tg, y_te, y_ts = mv.zipper()\n",
    "\n",
    "model, f_train = model_predict(X_train)\n",
    "clf, svm, sv = OCSVM_split(f_train, y_tr, X_train)\n",
    "f_train, f_test = model_fit(X_train, X_test, sv, model)\n",
    "result = OCSVM2(clf, svm, f_train, f_test, y_tr, y_ts)\n",
    "res.append(result)"
   ]
  },
  {
   "cell_type": "code",
   "execution_count": 5,
   "id": "3d6a6755",
   "metadata": {},
   "outputs": [
    {
     "name": "stdout",
     "output_type": "stream",
     "text": [
      "1/1 [==============================] - 23s 23s/step - loss: 0.0390\n",
      "roc_auc :  0.8756613756613756\n",
      "f1_score :  0.5423728813559322\n",
      "accuracy_score :  0.8014705882352942\n",
      "best_params :  {'gamma': 1e-05, 'kernel': 'rbf', 'nu': 0.015625}\n"
     ]
    }
   ],
   "source": [
    "# X_train, X_test, X_test_good, X_test_error, y_tr, y_tg, y_te, y_ts = mv.bottle()\n",
    "# X_train, X_test, X_test_good, X_test_error, y_tr, y_tg, y_te, y_ts = mv.cable()\n",
    "# X_train, X_test, X_test_good, X_test_error, y_tr, y_tg, y_te, y_ts = mv.capsule()\n",
    "X_train, X_test, X_test_good, X_test_error, y_tr, y_tg, y_te, y_ts = mv.carpet()\n",
    "# X_train, X_test, X_test_good, X_test_error, y_tr, y_tg, y_te, y_ts = mv.grid()\n",
    "# X_train, X_test, X_test_good, X_test_error, y_tr, y_tg, y_te, y_ts = mv.hazelnut()\n",
    "# X_train, X_test, X_test_good, X_test_error, y_tr, y_tg, y_te, y_ts = mv.leather()\n",
    "# X_train, X_test, X_test_good, X_test_error, y_tr, y_tg, y_te, y_ts = mv.metal_nut()\n",
    "# X_train, X_test, X_test_good, X_test_error, y_tr, y_tg, y_te, y_ts = mv.pill()\n",
    "# X_train, X_test, X_test_good, X_test_error, y_tr, y_tg, y_te, y_ts = mv.screw()\n",
    "# X_train, X_test, X_test_good, X_test_error, y_tr, y_tg, y_te, y_ts = mv.tile()\n",
    "# X_train, X_test, X_test_good, X_test_error, y_tr, y_tg, y_te, y_ts = mv.toothbrush()\n",
    "# X_train, X_test, X_test_good, X_test_error, y_tr, y_tg, y_te, y_ts = mv.transistor()\n",
    "# X_train, X_test, X_test_good, X_test_error, y_tr, y_tg, y_te, y_ts = mv.wood()\n",
    "# X_train, X_test, X_test_good, X_test_error, y_tr, y_tg, y_te, y_ts = mv.zipper()\n",
    "\n",
    "model, f_train = model_predict(X_train)\n",
    "clf, svm, sv = OCSVM_split(f_train, y_tr, X_train)\n",
    "f_train, f_test = model_fit(X_train, X_test, sv, model)\n",
    "result = OCSVM2(clf, svm, f_train, f_test, y_tr, y_ts)\n",
    "res.append(result)"
   ]
  },
  {
   "cell_type": "code",
   "execution_count": 6,
   "id": "f3629491",
   "metadata": {},
   "outputs": [
    {
     "name": "stdout",
     "output_type": "stream",
     "text": [
      "WARNING:tensorflow:5 out of the last 5 calls to <function Model.make_train_function.<locals>.train_function at 0x0000013D0580A430> triggered tf.function retracing. Tracing is expensive and the excessive number of tracings could be due to (1) creating @tf.function repeatedly in a loop, (2) passing tensors with different shapes, (3) passing Python objects instead of tensors. For (1), please define your @tf.function outside of the loop. For (2), @tf.function has reduce_retracing=True option that can avoid unnecessary retracing. For (3), please refer to https://www.tensorflow.org/guide/function#controlling_retracing and https://www.tensorflow.org/api_docs/python/tf/function for  more details.\n",
      "1/1 [==============================] - 22s 22s/step - loss: 0.0309\n",
      "roc_auc :  0.4845446950710109\n",
      "f1_score :  0.39534883720930236\n",
      "accuracy_score :  0.3333333333333333\n",
      "best_params :  {'gamma': 1e-06, 'kernel': 'rbf', 'nu': 0.015625}\n"
     ]
    }
   ],
   "source": [
    "# X_train, X_test, X_test_good, X_test_error, y_tr, y_tg, y_te, y_ts = mv.bottle()\n",
    "# X_train, X_test, X_test_good, X_test_error, y_tr, y_tg, y_te, y_ts = mv.cable()\n",
    "# X_train, X_test, X_test_good, X_test_error, y_tr, y_tg, y_te, y_ts = mv.capsule()\n",
    "# X_train, X_test, X_test_good, X_test_error, y_tr, y_tg, y_te, y_ts = mv.carpet()\n",
    "X_train, X_test, X_test_good, X_test_error, y_tr, y_tg, y_te, y_ts = mv.grid()\n",
    "# X_train, X_test, X_test_good, X_test_error, y_tr, y_tg, y_te, y_ts = mv.hazelnut()\n",
    "# X_train, X_test, X_test_good, X_test_error, y_tr, y_tg, y_te, y_ts = mv.leather()\n",
    "# X_train, X_test, X_test_good, X_test_error, y_tr, y_tg, y_te, y_ts = mv.metal_nut()\n",
    "# X_train, X_test, X_test_good, X_test_error, y_tr, y_tg, y_te, y_ts = mv.pill()\n",
    "# X_train, X_test, X_test_good, X_test_error, y_tr, y_tg, y_te, y_ts = mv.screw()\n",
    "# X_train, X_test, X_test_good, X_test_error, y_tr, y_tg, y_te, y_ts = mv.tile()\n",
    "# X_train, X_test, X_test_good, X_test_error, y_tr, y_tg, y_te, y_ts = mv.toothbrush()\n",
    "# X_train, X_test, X_test_good, X_test_error, y_tr, y_tg, y_te, y_ts = mv.transistor()\n",
    "# X_train, X_test, X_test_good, X_test_error, y_tr, y_tg, y_te, y_ts = mv.wood()\n",
    "# X_train, X_test, X_test_good, X_test_error, y_tr, y_tg, y_te, y_ts = mv.zipper()\n",
    "\n",
    "model, f_train = model_predict(X_train)\n",
    "clf, svm, sv = OCSVM_split(f_train, y_tr, X_train)\n",
    "f_train, f_test = model_fit(X_train, X_test, sv, model)\n",
    "result = OCSVM2(clf, svm, f_train, f_test, y_tr, y_ts)\n",
    "res.append(result)"
   ]
  },
  {
   "cell_type": "code",
   "execution_count": 7,
   "id": "e973e454",
   "metadata": {},
   "outputs": [
    {
     "name": "stdout",
     "output_type": "stream",
     "text": [
      "WARNING:tensorflow:6 out of the last 6 calls to <function Model.make_train_function.<locals>.train_function at 0x0000013D0011A8B0> triggered tf.function retracing. Tracing is expensive and the excessive number of tracings could be due to (1) creating @tf.function repeatedly in a loop, (2) passing tensors with different shapes, (3) passing Python objects instead of tensors. For (1), please define your @tf.function outside of the loop. For (2), @tf.function has reduce_retracing=True option that can avoid unnecessary retracing. For (3), please refer to https://www.tensorflow.org/guide/function#controlling_retracing and https://www.tensorflow.org/api_docs/python/tf/function for  more details.\n",
      "1/1 [==============================] - 25s 25s/step - loss: 0.1065\n",
      "roc_auc :  0.8042857142857143\n",
      "f1_score :  0.6324786324786325\n",
      "accuracy_score :  0.6090909090909091\n",
      "best_params :  {'gamma': 1e-07, 'kernel': 'rbf', 'nu': 0.015625}\n"
     ]
    }
   ],
   "source": [
    "# X_train, X_test, X_test_good, X_test_error, y_tr, y_tg, y_te, y_ts = mv.bottle()\n",
    "# X_train, X_test, X_test_good, X_test_error, y_tr, y_tg, y_te, y_ts = mv.cable()\n",
    "# X_train, X_test, X_test_good, X_test_error, y_tr, y_tg, y_te, y_ts = mv.capsule()\n",
    "# X_train, X_test, X_test_good, X_test_error, y_tr, y_tg, y_te, y_ts = mv.carpet()\n",
    "# X_train, X_test, X_test_good, X_test_error, y_tr, y_tg, y_te, y_ts = mv.grid()\n",
    "X_train, X_test, X_test_good, X_test_error, y_tr, y_tg, y_te, y_ts = mv.hazelnut()\n",
    "# X_train, X_test, X_test_good, X_test_error, y_tr, y_tg, y_te, y_ts = mv.leather()\n",
    "# X_train, X_test, X_test_good, X_test_error, y_tr, y_tg, y_te, y_ts = mv.metal_nut()\n",
    "# X_train, X_test, X_test_good, X_test_error, y_tr, y_tg, y_te, y_ts = mv.pill()\n",
    "# X_train, X_test, X_test_good, X_test_error, y_tr, y_tg, y_te, y_ts = mv.screw()\n",
    "# X_train, X_test, X_test_good, X_test_error, y_tr, y_tg, y_te, y_ts = mv.tile()\n",
    "# X_train, X_test, X_test_good, X_test_error, y_tr, y_tg, y_te, y_ts = mv.toothbrush()\n",
    "# X_train, X_test, X_test_good, X_test_error, y_tr, y_tg, y_te, y_ts = mv.transistor()\n",
    "# X_train, X_test, X_test_good, X_test_error, y_tr, y_tg, y_te, y_ts = mv.wood()\n",
    "# X_train, X_test, X_test_good, X_test_error, y_tr, y_tg, y_te, y_ts = mv.zipper()\n",
    "\n",
    "model, f_train = model_predict(X_train)\n",
    "clf, svm, sv = OCSVM_split(f_train, y_tr, X_train)\n",
    "f_train, f_test = model_fit(X_train, X_test, sv, model)\n",
    "result = OCSVM2(clf, svm, f_train, f_test, y_tr, y_ts)\n",
    "res.append(result)"
   ]
  },
  {
   "cell_type": "code",
   "execution_count": 8,
   "id": "cf436dfc",
   "metadata": {},
   "outputs": [
    {
     "name": "stdout",
     "output_type": "stream",
     "text": [
      "1/1 [==============================] - 23s 23s/step - loss: 0.0498\n",
      "roc_auc :  0.9894701086956522\n",
      "f1_score :  0.8275862068965517\n",
      "accuracy_score :  0.9193548387096774\n",
      "best_params :  {'gamma': 1e-05, 'kernel': 'rbf', 'nu': 0.015625}\n"
     ]
    }
   ],
   "source": [
    "# X_train, X_test, X_test_good, X_test_error, y_tr, y_tg, y_te, y_ts = mv.bottle()\n",
    "# X_train, X_test, X_test_good, X_test_error, y_tr, y_tg, y_te, y_ts = mv.cable()\n",
    "# X_train, X_test, X_test_good, X_test_error, y_tr, y_tg, y_te, y_ts = mv.capsule()\n",
    "# X_train, X_test, X_test_good, X_test_error, y_tr, y_tg, y_te, y_ts = mv.carpet()\n",
    "# X_train, X_test, X_test_good, X_test_error, y_tr, y_tg, y_te, y_ts = mv.grid()\n",
    "# X_train, X_test, X_test_good, X_test_error, y_tr, y_tg, y_te, y_ts = mv.hazelnut()\n",
    "X_train, X_test, X_test_good, X_test_error, y_tr, y_tg, y_te, y_ts = mv.leather()\n",
    "# X_train, X_test, X_test_good, X_test_error, y_tr, y_tg, y_te, y_ts = mv.metal_nut()\n",
    "# X_train, X_test, X_test_good, X_test_error, y_tr, y_tg, y_te, y_ts = mv.pill()\n",
    "# X_train, X_test, X_test_good, X_test_error, y_tr, y_tg, y_te, y_ts = mv.screw()\n",
    "# X_train, X_test, X_test_good, X_test_error, y_tr, y_tg, y_te, y_ts = mv.tile()\n",
    "# X_train, X_test, X_test_good, X_test_error, y_tr, y_tg, y_te, y_ts = mv.toothbrush()\n",
    "# X_train, X_test, X_test_good, X_test_error, y_tr, y_tg, y_te, y_ts = mv.transistor()\n",
    "# X_train, X_test, X_test_good, X_test_error, y_tr, y_tg, y_te, y_ts = mv.wood()\n",
    "# X_train, X_test, X_test_good, X_test_error, y_tr, y_tg, y_te, y_ts = mv.zipper()\n",
    "\n",
    "model, f_train = model_predict(X_train)\n",
    "clf, svm, sv = OCSVM_split(f_train, y_tr, X_train)\n",
    "f_train, f_test = model_fit(X_train, X_test, sv, model)\n",
    "result = OCSVM2(clf, svm, f_train, f_test, y_tr, y_ts)\n",
    "res.append(result)"
   ]
  },
  {
   "cell_type": "code",
   "execution_count": 9,
   "id": "a5e83da4",
   "metadata": {},
   "outputs": [
    {
     "name": "stdout",
     "output_type": "stream",
     "text": [
      "1/1 [==============================] - 23s 23s/step - loss: 0.0995\n",
      "roc_auc :  0.9345063538611926\n",
      "f1_score :  0.6027397260273972\n",
      "accuracy_score :  0.7478260869565218\n",
      "best_params :  {'gamma': 1e-06, 'kernel': 'rbf', 'nu': 0.0078125}\n"
     ]
    }
   ],
   "source": [
    "# X_train, X_test, X_test_good, X_test_error, y_tr, y_tg, y_te, y_ts = mv.bottle()\n",
    "# X_train, X_test, X_test_good, X_test_error, y_tr, y_tg, y_te, y_ts = mv.cable()\n",
    "# X_train, X_test, X_test_good, X_test_error, y_tr, y_tg, y_te, y_ts = mv.capsule()\n",
    "# X_train, X_test, X_test_good, X_test_error, y_tr, y_tg, y_te, y_ts = mv.carpet()\n",
    "# X_train, X_test, X_test_good, X_test_error, y_tr, y_tg, y_te, y_ts = mv.grid()\n",
    "# X_train, X_test, X_test_good, X_test_error, y_tr, y_tg, y_te, y_ts = mv.hazelnut()\n",
    "# X_train, X_test, X_test_good, X_test_error, y_tr, y_tg, y_te, y_ts = mv.leather()\n",
    "X_train, X_test, X_test_good, X_test_error, y_tr, y_tg, y_te, y_ts = mv.metal_nut()\n",
    "# X_train, X_test, X_test_good, X_test_error, y_tr, y_tg, y_te, y_ts = mv.pill()\n",
    "# X_train, X_test, X_test_good, X_test_error, y_tr, y_tg, y_te, y_ts = mv.screw()\n",
    "# X_train, X_test, X_test_good, X_test_error, y_tr, y_tg, y_te, y_ts = mv.tile()\n",
    "# X_train, X_test, X_test_good, X_test_error, y_tr, y_tg, y_te, y_ts = mv.toothbrush()\n",
    "# X_train, X_test, X_test_good, X_test_error, y_tr, y_tg, y_te, y_ts = mv.transistor()\n",
    "# X_train, X_test, X_test_good, X_test_error, y_tr, y_tg, y_te, y_ts = mv.wood()\n",
    "# X_train, X_test, X_test_good, X_test_error, y_tr, y_tg, y_te, y_ts = mv.zipper()\n",
    "\n",
    "model, f_train = model_predict(X_train)\n",
    "clf, svm, sv = OCSVM_split(f_train, y_tr, X_train)\n",
    "f_train, f_test = model_fit(X_train, X_test, sv, model)\n",
    "result = OCSVM2(clf, svm, f_train, f_test, y_tr, y_ts)\n",
    "res.append(result)"
   ]
  },
  {
   "cell_type": "code",
   "execution_count": 10,
   "id": "30e4fdc9",
   "metadata": {},
   "outputs": [
    {
     "name": "stdout",
     "output_type": "stream",
     "text": [
      "1/1 [==============================] - 22s 22s/step - loss: 0.1218\n",
      "roc_auc :  0.7067648663393344\n",
      "f1_score :  0.2911392405063291\n",
      "accuracy_score :  0.32934131736526945\n",
      "best_params :  {'gamma': 1e-06, 'kernel': 'rbf', 'nu': 0.0078125}\n"
     ]
    }
   ],
   "source": [
    "# X_train, X_test, X_test_good, X_test_error, y_tr, y_tg, y_te, y_ts = mv.bottle()\n",
    "# X_train, X_test, X_test_good, X_test_error, y_tr, y_tg, y_te, y_ts = mv.cable()\n",
    "# X_train, X_test, X_test_good, X_test_error, y_tr, y_tg, y_te, y_ts = mv.capsule()\n",
    "# X_train, X_test, X_test_good, X_test_error, y_tr, y_tg, y_te, y_ts = mv.carpet()\n",
    "# X_train, X_test, X_test_good, X_test_error, y_tr, y_tg, y_te, y_ts = mv.grid()\n",
    "# X_train, X_test, X_test_good, X_test_error, y_tr, y_tg, y_te, y_ts = mv.hazelnut()\n",
    "# X_train, X_test, X_test_good, X_test_error, y_tr, y_tg, y_te, y_ts = mv.leather()\n",
    "# X_train, X_test, X_test_good, X_test_error, y_tr, y_tg, y_te, y_ts = mv.metal_nut()\n",
    "X_train, X_test, X_test_good, X_test_error, y_tr, y_tg, y_te, y_ts = mv.pill()\n",
    "# X_train, X_test, X_test_good, X_test_error, y_tr, y_tg, y_te, y_ts = mv.screw()\n",
    "# X_train, X_test, X_test_good, X_test_error, y_tr, y_tg, y_te, y_ts = mv.tile()\n",
    "# X_train, X_test, X_test_good, X_test_error, y_tr, y_tg, y_te, y_ts = mv.toothbrush()\n",
    "# X_train, X_test, X_test_good, X_test_error, y_tr, y_tg, y_te, y_ts = mv.transistor()\n",
    "# X_train, X_test, X_test_good, X_test_error, y_tr, y_tg, y_te, y_ts = mv.wood()\n",
    "# X_train, X_test, X_test_good, X_test_error, y_tr, y_tg, y_te, y_ts = mv.zipper()\n",
    "\n",
    "model, f_train = model_predict(X_train)\n",
    "clf, svm, sv = OCSVM_split(f_train, y_tr, X_train)\n",
    "f_train, f_test = model_fit(X_train, X_test, sv, model)\n",
    "result = OCSVM2(clf, svm, f_train, f_test, y_tr, y_ts)\n",
    "res.append(result)"
   ]
  },
  {
   "cell_type": "code",
   "execution_count": 11,
   "id": "d35e40dc",
   "metadata": {},
   "outputs": [
    {
     "name": "stdout",
     "output_type": "stream",
     "text": [
      "2/2 [==============================] - 32s 2s/step - loss: 0.0656\n",
      "roc_auc :  0.3756917401106784\n",
      "f1_score :  0.37569060773480667\n",
      "accuracy_score :  0.29375\n",
      "best_params :  {'gamma': 1e-06, 'kernel': 'rbf', 'nu': 0.03125}\n"
     ]
    }
   ],
   "source": [
    "# X_train, X_test, X_test_good, X_test_error, y_tr, y_tg, y_te, y_ts = mv.bottle()\n",
    "# X_train, X_test, X_test_good, X_test_error, y_tr, y_tg, y_te, y_ts = mv.cable()\n",
    "# X_train, X_test, X_test_good, X_test_error, y_tr, y_tg, y_te, y_ts = mv.capsule()\n",
    "# X_train, X_test, X_test_good, X_test_error, y_tr, y_tg, y_te, y_ts = mv.carpet()\n",
    "# X_train, X_test, X_test_good, X_test_error, y_tr, y_tg, y_te, y_ts = mv.grid()\n",
    "# X_train, X_test, X_test_good, X_test_error, y_tr, y_tg, y_te, y_ts = mv.hazelnut()\n",
    "# X_train, X_test, X_test_good, X_test_error, y_tr, y_tg, y_te, y_ts = mv.leather()\n",
    "# X_train, X_test, X_test_good, X_test_error, y_tr, y_tg, y_te, y_ts = mv.metal_nut()\n",
    "# X_train, X_test, X_test_good, X_test_error, y_tr, y_tg, y_te, y_ts = mv.pill()\n",
    "X_train, X_test, X_test_good, X_test_error, y_tr, y_tg, y_te, y_ts = mv.screw()\n",
    "# X_train, X_test, X_test_good, X_test_error, y_tr, y_tg, y_te, y_ts = mv.tile()\n",
    "# X_train, X_test, X_test_good, X_test_error, y_tr, y_tg, y_te, y_ts = mv.toothbrush()\n",
    "# X_train, X_test, X_test_good, X_test_error, y_tr, y_tg, y_te, y_ts = mv.transistor()\n",
    "# X_train, X_test, X_test_good, X_test_error, y_tr, y_tg, y_te, y_ts = mv.wood()\n",
    "# X_train, X_test, X_test_good, X_test_error, y_tr, y_tg, y_te, y_ts = mv.zipper()\n",
    "\n",
    "model, f_train = model_predict(X_train)\n",
    "clf, svm, sv = OCSVM_split(f_train, y_tr, X_train)\n",
    "f_train, f_test = model_fit(X_train, X_test, sv, model)\n",
    "result = OCSVM2(clf, svm, f_train, f_test, y_tr, y_ts)\n",
    "res.append(result)"
   ]
  },
  {
   "cell_type": "code",
   "execution_count": 12,
   "id": "43a4b1c6",
   "metadata": {},
   "outputs": [
    {
     "name": "stdout",
     "output_type": "stream",
     "text": [
      "1/1 [==============================] - 24s 24s/step - loss: 0.0183\n",
      "roc_auc :  0.939033189033189\n",
      "f1_score :  0.8148148148148148\n",
      "accuracy_score :  0.8717948717948718\n",
      "best_params :  {'gamma': 1e-05, 'kernel': 'rbf', 'nu': 0.015625}\n"
     ]
    }
   ],
   "source": [
    "# X_train, X_test, X_test_good, X_test_error, y_tr, y_tg, y_te, y_ts = mv.bottle()\n",
    "# X_train, X_test, X_test_good, X_test_error, y_tr, y_tg, y_te, y_ts = mv.cable()\n",
    "# X_train, X_test, X_test_good, X_test_error, y_tr, y_tg, y_te, y_ts = mv.capsule()\n",
    "# X_train, X_test, X_test_good, X_test_error, y_tr, y_tg, y_te, y_ts = mv.carpet()\n",
    "# X_train, X_test, X_test_good, X_test_error, y_tr, y_tg, y_te, y_ts = mv.grid()\n",
    "# X_train, X_test, X_test_good, X_test_error, y_tr, y_tg, y_te, y_ts = mv.hazelnut()\n",
    "# X_train, X_test, X_test_good, X_test_error, y_tr, y_tg, y_te, y_ts = mv.leather()\n",
    "# X_train, X_test, X_test_good, X_test_error, y_tr, y_tg, y_te, y_ts = mv.metal_nut()\n",
    "# X_train, X_test, X_test_good, X_test_error, y_tr, y_tg, y_te, y_ts = mv.pill()\n",
    "# X_train, X_test, X_test_good, X_test_error, y_tr, y_tg, y_te, y_ts = mv.screw()\n",
    "X_train, X_test, X_test_good, X_test_error, y_tr, y_tg, y_te, y_ts = mv.tile()\n",
    "# X_train, X_test, X_test_good, X_test_error, y_tr, y_tg, y_te, y_ts = mv.toothbrush()\n",
    "# X_train, X_test, X_test_good, X_test_error, y_tr, y_tg, y_te, y_ts = mv.transistor()\n",
    "# X_train, X_test, X_test_good, X_test_error, y_tr, y_tg, y_te, y_ts = mv.wood()\n",
    "# X_train, X_test, X_test_good, X_test_error, y_tr, y_tg, y_te, y_ts = mv.zipper()\n",
    "\n",
    "model, f_train = model_predict(X_train)\n",
    "clf, svm, sv = OCSVM_split(f_train, y_tr, X_train)\n",
    "f_train, f_test = model_fit(X_train, X_test, sv, model)\n",
    "result = OCSVM2(clf, svm, f_train, f_test, y_tr, y_ts)\n",
    "res.append(result)"
   ]
  },
  {
   "cell_type": "code",
   "execution_count": 13,
   "id": "52036932",
   "metadata": {},
   "outputs": [
    {
     "name": "stdout",
     "output_type": "stream",
     "text": [
      "1/1 [==============================] - 22s 22s/step - loss: 0.1420\n",
      "roc_auc :  0.8194444444444444\n",
      "f1_score :  0.6451612903225806\n",
      "accuracy_score :  0.7380952380952381\n",
      "best_params :  {'gamma': 1e-06, 'kernel': 'rbf', 'nu': 0.015625}\n"
     ]
    }
   ],
   "source": [
    "# X_train, X_test, X_test_good, X_test_error, y_tr, y_tg, y_te, y_ts = mv.bottle()\n",
    "# X_train, X_test, X_test_good, X_test_error, y_tr, y_tg, y_te, y_ts = mv.cable()\n",
    "# X_train, X_test, X_test_good, X_test_error, y_tr, y_tg, y_te, y_ts = mv.capsule()\n",
    "# X_train, X_test, X_test_good, X_test_error, y_tr, y_tg, y_te, y_ts = mv.carpet()\n",
    "# X_train, X_test, X_test_good, X_test_error, y_tr, y_tg, y_te, y_ts = mv.grid()\n",
    "# X_train, X_test, X_test_good, X_test_error, y_tr, y_tg, y_te, y_ts = mv.hazelnut()\n",
    "# X_train, X_test, X_test_good, X_test_error, y_tr, y_tg, y_te, y_ts = mv.leather()\n",
    "# X_train, X_test, X_test_good, X_test_error, y_tr, y_tg, y_te, y_ts = mv.metal_nut()\n",
    "# X_train, X_test, X_test_good, X_test_error, y_tr, y_tg, y_te, y_ts = mv.pill()\n",
    "# X_train, X_test, X_test_good, X_test_error, y_tr, y_tg, y_te, y_ts = mv.screw()\n",
    "# X_train, X_test, X_test_good, X_test_error, y_tr, y_tg, y_te, y_ts = mv.tile()\n",
    "X_train, X_test, X_test_good, X_test_error, y_tr, y_tg, y_te, y_ts = mv.toothbrush()\n",
    "# X_train, X_test, X_test_good, X_test_error, y_tr, y_tg, y_te, y_ts = mv.transistor()\n",
    "# X_train, X_test, X_test_good, X_test_error, y_tr, y_tg, y_te, y_ts = mv.wood()\n",
    "# X_train, X_test, X_test_good, X_test_error, y_tr, y_tg, y_te, y_ts = mv.zipper()\n",
    "\n",
    "model, f_train = model_predict(X_train)\n",
    "clf, svm, sv = OCSVM_split(f_train, y_tr, X_train)\n",
    "f_train, f_test = model_fit(X_train, X_test, sv, model)\n",
    "result = OCSVM2(clf, svm, f_train, f_test, y_tr, y_ts)\n",
    "res.append(result)"
   ]
  },
  {
   "cell_type": "code",
   "execution_count": 14,
   "id": "5bee91c1",
   "metadata": {},
   "outputs": [
    {
     "name": "stdout",
     "output_type": "stream",
     "text": [
      "1/1 [==============================] - 21s 21s/step - loss: 0.0703\n",
      "roc_auc :  0.83875\n",
      "f1_score :  0.8489208633093525\n",
      "accuracy_score :  0.79\n",
      "best_params :  {'gamma': 1e-07, 'kernel': 'rbf', 'nu': 0.015625}\n"
     ]
    }
   ],
   "source": [
    "# X_train, X_test, X_test_good, X_test_error, y_tr, y_tg, y_te, y_ts = mv.bottle()\n",
    "# X_train, X_test, X_test_good, X_test_error, y_tr, y_tg, y_te, y_ts = mv.cable()\n",
    "# X_train, X_test, X_test_good, X_test_error, y_tr, y_tg, y_te, y_ts = mv.capsule()\n",
    "# X_train, X_test, X_test_good, X_test_error, y_tr, y_tg, y_te, y_ts = mv.carpet()\n",
    "# X_train, X_test, X_test_good, X_test_error, y_tr, y_tg, y_te, y_ts = mv.grid()\n",
    "# X_train, X_test, X_test_good, X_test_error, y_tr, y_tg, y_te, y_ts = mv.hazelnut()\n",
    "# X_train, X_test, X_test_good, X_test_error, y_tr, y_tg, y_te, y_ts = mv.leather()\n",
    "# X_train, X_test, X_test_good, X_test_error, y_tr, y_tg, y_te, y_ts = mv.metal_nut()\n",
    "# X_train, X_test, X_test_good, X_test_error, y_tr, y_tg, y_te, y_ts = mv.pill()\n",
    "# X_train, X_test, X_test_good, X_test_error, y_tr, y_tg, y_te, y_ts = mv.screw()\n",
    "# X_train, X_test, X_test_good, X_test_error, y_tr, y_tg, y_te, y_ts = mv.tile()\n",
    "# X_train, X_test, X_test_good, X_test_error, y_tr, y_tg, y_te, y_ts = mv.toothbrush()\n",
    "X_train, X_test, X_test_good, X_test_error, y_tr, y_tg, y_te, y_ts = mv.transistor()\n",
    "# X_train, X_test, X_test_good, X_test_error, y_tr, y_tg, y_te, y_ts = mv.wood()\n",
    "# X_train, X_test, X_test_good, X_test_error, y_tr, y_tg, y_te, y_ts = mv.zipper()\n",
    "\n",
    "model, f_train = model_predict(X_train)\n",
    "clf, svm, sv = OCSVM_split(f_train, y_tr, X_train)\n",
    "f_train, f_test = model_fit(X_train, X_test, sv, model)\n",
    "result = OCSVM2(clf, svm, f_train, f_test, y_tr, y_ts)\n",
    "res.append(result)"
   ]
  },
  {
   "cell_type": "code",
   "execution_count": 15,
   "id": "679ddf6e",
   "metadata": {},
   "outputs": [
    {
     "name": "stdout",
     "output_type": "stream",
     "text": [
      "1/1 [==============================] - 21s 21s/step - loss: 0.0216\n",
      "roc_auc :  0.9780701754385964\n",
      "f1_score :  0.8571428571428571\n",
      "accuracy_score :  0.9240506329113924\n",
      "best_params :  {'gamma': 1e-06, 'kernel': 'rbf', 'nu': 0.0078125}\n"
     ]
    }
   ],
   "source": [
    "# X_train, X_test, X_test_good, X_test_error, y_tr, y_tg, y_te, y_ts = mv.bottle()\n",
    "# X_train, X_test, X_test_good, X_test_error, y_tr, y_tg, y_te, y_ts = mv.cable()\n",
    "# X_train, X_test, X_test_good, X_test_error, y_tr, y_tg, y_te, y_ts = mv.capsule()\n",
    "# X_train, X_test, X_test_good, X_test_error, y_tr, y_tg, y_te, y_ts = mv.carpet()\n",
    "# X_train, X_test, X_test_good, X_test_error, y_tr, y_tg, y_te, y_ts = mv.grid()\n",
    "# X_train, X_test, X_test_good, X_test_error, y_tr, y_tg, y_te, y_ts = mv.hazelnut()\n",
    "# X_train, X_test, X_test_good, X_test_error, y_tr, y_tg, y_te, y_ts = mv.leather()\n",
    "# X_train, X_test, X_test_good, X_test_error, y_tr, y_tg, y_te, y_ts = mv.metal_nut()\n",
    "# X_train, X_test, X_test_good, X_test_error, y_tr, y_tg, y_te, y_ts = mv.pill()\n",
    "# X_train, X_test, X_test_good, X_test_error, y_tr, y_tg, y_te, y_ts = mv.screw()\n",
    "# X_train, X_test, X_test_good, X_test_error, y_tr, y_tg, y_te, y_ts = mv.tile()\n",
    "# X_train, X_test, X_test_good, X_test_error, y_tr, y_tg, y_te, y_ts = mv.toothbrush()\n",
    "# X_train, X_test, X_test_good, X_test_error, y_tr, y_tg, y_te, y_ts = mv.transistor()\n",
    "X_train, X_test, X_test_good, X_test_error, y_tr, y_tg, y_te, y_ts = mv.wood()\n",
    "# X_train, X_test, X_test_good, X_test_error, y_tr, y_tg, y_te, y_ts = mv.zipper()\n",
    "\n",
    "model, f_train = model_predict(X_train)\n",
    "clf, svm, sv = OCSVM_split(f_train, y_tr, X_train)\n",
    "f_train, f_test = model_fit(X_train, X_test, sv, model)\n",
    "result = OCSVM2(clf, svm, f_train, f_test, y_tr, y_ts)\n",
    "res.append(result)"
   ]
  },
  {
   "cell_type": "code",
   "execution_count": 16,
   "id": "772d5eec",
   "metadata": {},
   "outputs": [
    {
     "name": "stdout",
     "output_type": "stream",
     "text": [
      "1/1 [==============================] - 22s 22s/step - loss: 0.1124\n",
      "roc_auc :  0.8300945378151261\n",
      "f1_score :  0.49180327868852464\n",
      "accuracy_score :  0.5894039735099338\n",
      "best_params :  {'gamma': 1e-06, 'kernel': 'rbf', 'nu': 0.015625}\n"
     ]
    }
   ],
   "source": [
    "# X_train, X_test, X_test_good, X_test_error, y_tr, y_tg, y_te, y_ts = mv.bottle()\n",
    "# X_train, X_test, X_test_good, X_test_error, y_tr, y_tg, y_te, y_ts = mv.cable()\n",
    "# X_train, X_test, X_test_good, X_test_error, y_tr, y_tg, y_te, y_ts = mv.capsule()\n",
    "# X_train, X_test, X_test_good, X_test_error, y_tr, y_tg, y_te, y_ts = mv.carpet()\n",
    "# X_train, X_test, X_test_good, X_test_error, y_tr, y_tg, y_te, y_ts = mv.grid()\n",
    "# X_train, X_test, X_test_good, X_test_error, y_tr, y_tg, y_te, y_ts = mv.hazelnut()\n",
    "# X_train, X_test, X_test_good, X_test_error, y_tr, y_tg, y_te, y_ts = mv.leather()\n",
    "# X_train, X_test, X_test_good, X_test_error, y_tr, y_tg, y_te, y_ts = mv.metal_nut()\n",
    "# X_train, X_test, X_test_good, X_test_error, y_tr, y_tg, y_te, y_ts = mv.pill()\n",
    "# X_train, X_test, X_test_good, X_test_error, y_tr, y_tg, y_te, y_ts = mv.screw()\n",
    "# X_train, X_test, X_test_good, X_test_error, y_tr, y_tg, y_te, y_ts = mv.tile()\n",
    "# X_train, X_test, X_test_good, X_test_error, y_tr, y_tg, y_te, y_ts = mv.toothbrush()\n",
    "# X_train, X_test, X_test_good, X_test_error, y_tr, y_tg, y_te, y_ts = mv.transistor()\n",
    "# X_train, X_test, X_test_good, X_test_error, y_tr, y_tg, y_te, y_ts = mv.wood()\n",
    "X_train, X_test, X_test_good, X_test_error, y_tr, y_tg, y_te, y_ts = mv.zipper()\n",
    "\n",
    "model, f_train = model_predict(X_train)\n",
    "clf, svm, sv = OCSVM_split(f_train, y_tr, X_train)\n",
    "f_train, f_test = model_fit(X_train, X_test, sv, model)\n",
    "result = OCSVM2(clf, svm, f_train, f_test, y_tr, y_ts)\n",
    "res.append(result)"
   ]
  },
  {
   "cell_type": "code",
   "execution_count": 17,
   "id": "1d0974e2",
   "metadata": {},
   "outputs": [],
   "source": [
    "df = pd.DataFrame(res)\n",
    "df.to_csv('DCAEOCSVM_SV.csv')"
   ]
  }
 ],
 "metadata": {
  "kernelspec": {
   "display_name": "Python 3 (ipykernel)",
   "language": "python",
   "name": "python3"
  },
  "language_info": {
   "codemirror_mode": {
    "name": "ipython",
    "version": 3
   },
   "file_extension": ".py",
   "mimetype": "text/x-python",
   "name": "python",
   "nbconvert_exporter": "python",
   "pygments_lexer": "ipython3",
   "version": "3.9.12"
  }
 },
 "nbformat": 4,
 "nbformat_minor": 5
}
