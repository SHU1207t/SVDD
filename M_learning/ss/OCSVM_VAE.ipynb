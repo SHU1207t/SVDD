{
 "cells": [
  {
   "cell_type": "code",
   "execution_count": 1,
   "id": "1931cb3f",
   "metadata": {},
   "outputs": [],
   "source": [
    "import os\n",
    "import sys\n",
    "import csv\n",
    "import numpy as np\n",
    "import matplotlib.pyplot as plt\n",
    "import tensorflow as tf\n",
    "import keras\n",
    "import glob\n",
    "import cv2\n",
    "from keras import layers\n",
    "from sklearn.model_selection import train_test_split\n",
    "from keras.layers import Lambda, Input, Dense\n",
    "from keras.models import Model\n",
    "from keras.losses import mse\n",
    "from keras import backend as K\n",
    "from keras import models\n",
    "from sklearn.svm import OneClassSVM"
   ]
  },
  {
   "cell_type": "code",
   "execution_count": 2,
   "id": "fccbe59d",
   "metadata": {},
   "outputs": [
    {
     "name": "stdout",
     "output_type": "stream",
     "text": [
      "CPU times: total: 22.4 s\n",
      "Wall time: 25.8 s\n"
     ]
    }
   ],
   "source": [
    "%%time\n",
    "X_list = glob.glob('bottle/train/good/*.png')\n",
    "Y_list1 = glob.glob('bottle/test/broken_large/*.png')\n",
    "Y_list2 = glob.glob('bottle/test/broken_small/*.png')\n",
    "Y_list3 = glob.glob('bottle/test/contamination/*.png')\n",
    "Y_list4 = glob.glob('bottle/test/good/*.png')\n",
    "X_train = None\n",
    "X_test_good = None\n",
    "X_test_error = None\n",
    "for X_file in X_list:\n",
    "  im = cv2.imread(X_file)\n",
    "  im = cv2.cvtColor(im, cv2.COLOR_BGR2RGB)\n",
    "  im = cv2.resize(im, (256,256))\n",
    "  im = im.reshape(1,im.shape[0],im.shape[1],im.shape[2])\n",
    "  if X_train is not None:\n",
    "    X_train = np.concatenate((X_train, im))\n",
    "  if X_train is None:\n",
    "    X_train = im\n",
    "\n",
    "for Y_file in Y_list1:\n",
    "  im = cv2.imread(Y_file)\n",
    "  im = cv2.cvtColor(im, cv2.COLOR_BGR2RGB)\n",
    "  im = cv2.resize(im, (256,256))\n",
    "  im = im.reshape(1,im.shape[0],im.shape[1],im.shape[2])\n",
    "  if X_test_error is not None:\n",
    "    X_test_error = np.concatenate((X_test_error, im))\n",
    "  if X_test_error is None:\n",
    "    X_test_error = im\n",
    "\n",
    "for Y_file in Y_list2:\n",
    "  im = cv2.imread(Y_file)\n",
    "  im = cv2.cvtColor(im, cv2.COLOR_BGR2RGB)\n",
    "  im = cv2.resize(im, (256,256))\n",
    "  im = im.reshape(1,im.shape[0],im.shape[1],im.shape[2])\n",
    "  if X_test_error is not None:\n",
    "    X_test_error = np.concatenate((X_test_error, im))\n",
    "  if X_test_error is None:\n",
    "    X_test_error = im\n",
    "\n",
    "for Y_file in Y_list3:\n",
    "  im = cv2.imread(Y_file)\n",
    "  im = cv2.cvtColor(im, cv2.COLOR_BGR2RGB)\n",
    "  im = cv2.resize(im, (256,256))\n",
    "  im = im.reshape(1,im.shape[0],im.shape[1],im.shape[2])\n",
    "  if X_test_error is not None:\n",
    "    X_test_error = np.concatenate((X_test_error, im))\n",
    "  if X_test_error is None:\n",
    "    X_test_error = im\n",
    "\n",
    "for Y_file in Y_list4:\n",
    "  im = cv2.imread(Y_file)\n",
    "  im = cv2.cvtColor(im, cv2.COLOR_BGR2RGB)\n",
    "  im = cv2.resize(im, (256,256))\n",
    "  im = im.reshape(1,im.shape[0],im.shape[1],im.shape[2])\n",
    "  if X_test_good is not None:\n",
    "    X_test_good = np.concatenate((X_test_good, im))\n",
    "  if X_test_good is None:\n",
    "    X_test_good = im\n",
    "    \n",
    "# X_train = X_train/255\n",
    "# X_test_good = X_test_good/255\n",
    "# X_test_error = X_test_error/255\n",
    "x_train, x_test = train_test_split(X_train, test_size=0.2)"
   ]
  },
  {
   "cell_type": "code",
   "execution_count": 3,
   "id": "f27bfc1f",
   "metadata": {},
   "outputs": [],
   "source": [
    "image_size = x_train.shape[1] \n",
    "original_dim = image_size * image_size * 3\n",
    "x_train = np.reshape(x_train, [-1, original_dim])\n",
    "x_test = np.reshape(x_test, [-1, original_dim])\n",
    "x_train = x_train.astype('float32') / 255\n",
    "x_test = x_test.astype('float32') / 255\n",
    "\n",
    "X_train = np.reshape(X_train, [-1, original_dim])\n",
    "X_train = X_train.astype('float32') / 255\n",
    "\n",
    "X_test_good = np.reshape(X_test_good, [-1, original_dim])\n",
    "X_test_good = X_test_good.astype('float32') / 255\n",
    "\n",
    "X_test_error = np.reshape(X_test_error, [-1, original_dim])\n",
    "X_test_error = X_test_error.astype('float32') / 255\n",
    "\n",
    "input_shape = (original_dim, )\n",
    "latent_dim = 2"
   ]
  },
  {
   "cell_type": "code",
   "execution_count": null,
   "id": "f72694ee",
   "metadata": {},
   "outputs": [
    {
     "name": "stdout",
     "output_type": "stream",
     "text": [
      "Model: \"encoder\"\n",
      "__________________________________________________________________________________________________\n",
      " Layer (type)                   Output Shape         Param #     Connected to                     \n",
      "==================================================================================================\n",
      " input_1 (InputLayer)           [(None, 196608)]     0           []                               \n",
      "                                                                                                  \n",
      " dense (Dense)                  (None, 256)          50331904    ['input_1[0][0]']                \n",
      "                                                                                                  \n",
      " dense_1 (Dense)                (None, 64)           16448       ['dense[0][0]']                  \n",
      "                                                                                                  \n",
      " dense_2 (Dense)                (None, 2)            130         ['dense_1[0][0]']                \n",
      "                                                                                                  \n",
      " dense_3 (Dense)                (None, 2)            130         ['dense_1[0][0]']                \n",
      "                                                                                                  \n",
      " lambda (Lambda)                (None, 2)            0           ['dense_2[0][0]',                \n",
      "                                                                  'dense_3[0][0]']                \n",
      "                                                                                                  \n",
      "==================================================================================================\n",
      "Total params: 50,348,612\n",
      "Trainable params: 50,348,612\n",
      "Non-trainable params: 0\n",
      "__________________________________________________________________________________________________\n",
      "Model: \"decoder\"\n",
      "_________________________________________________________________\n",
      " Layer (type)                Output Shape              Param #   \n",
      "=================================================================\n",
      " input_2 (InputLayer)        [(None, 2)]               0         \n",
      "                                                                 \n",
      " dense_4 (Dense)             (None, 64)                192       \n",
      "                                                                 \n",
      " dense_5 (Dense)             (None, 256)               16640     \n",
      "                                                                 \n",
      " dense_6 (Dense)             (None, 196608)            50528256  \n",
      "                                                                 \n",
      "=================================================================\n",
      "Total params: 50,545,088\n",
      "Trainable params: 50,545,088\n",
      "Non-trainable params: 0\n",
      "_________________________________________________________________\n",
      "Epoch 1/15\n",
      "3/3 [==============================] - 15s 3s/step - loss: 48053.5938 - val_loss: 44598.5078\n",
      "Epoch 2/15\n",
      "3/3 [==============================] - 5s 2s/step - loss: 39636.6406 - val_loss: 26946.4492\n",
      "Epoch 3/15\n",
      "3/3 [==============================] - 7s 3s/step - loss: 18357.4453 - val_loss: 4180.5366\n",
      "Epoch 4/15\n",
      "3/3 [==============================] - 5s 2s/step - loss: 1960.7407 - val_loss: 311.8885\n",
      "Epoch 5/15\n"
     ]
    }
   ],
   "source": [
    "# Reparametrization Trick \n",
    "def sampling(args):\n",
    "    z_mean, z_logvar = args\n",
    "    batch = K.shape(z_mean)[0]\n",
    "    dim = K.int_shape(z_mean)[1]\n",
    "    epsilon = K.random_normal(shape=(batch, dim), seed = 5) # ε\n",
    "    return z_mean + K.exp(0.5 * z_logvar) * epsilon\n",
    "\n",
    "# VAEモデル構築\n",
    "inputs = Input(shape=input_shape)\n",
    "x1 = Dense(256, activation='relu')(inputs)  \n",
    "x2 = Dense(64, activation='relu')(x1) \n",
    "z_mean = Dense(latent_dim)(x2)\n",
    "z_logvar = Dense(latent_dim)(x2)\n",
    "z = Lambda(sampling, output_shape=(latent_dim,))([z_mean, z_logvar])\n",
    "encoder = Model(inputs, [z_mean, z_logvar, z], name='encoder')\n",
    "encoder.summary()\n",
    "\n",
    "latent_inputs = Input(shape=(latent_dim,))\n",
    "x3 = Dense(64, activation='relu')(latent_inputs)  \n",
    "x4 = Dense(256, activation='relu')(x3)  \n",
    "outputs = Dense(original_dim, activation='sigmoid')(x4)\n",
    "decoder = Model(latent_inputs, outputs, name='decoder')\n",
    "decoder.summary()\n",
    "\n",
    "z_output = encoder(inputs)[2]\n",
    "outputs = decoder(z_output)\n",
    "vae = Model(inputs, outputs, name='variational_autoencoder')\n",
    "\n",
    "# 損失関数\n",
    "# Kullback-Leibler Loss\n",
    "kl_loss = 1 + z_logvar - K.square(z_mean) - K.exp(z_logvar)\n",
    "kl_loss = K.sum(kl_loss, axis=-1)\n",
    "kl_loss *= -0.5\n",
    "# Reconstruction Loss\n",
    "reconstruction_loss = mse(inputs, outputs)\n",
    "reconstruction_loss *= original_dim\n",
    "\n",
    "vae_loss = K.mean(reconstruction_loss + kl_loss)\n",
    "vae.add_loss(vae_loss)\n",
    "vae.compile(optimizer='adam')\n",
    "vae.fit(x_train,\n",
    "                epochs=15,\n",
    "                batch_size=64,\n",
    "                validation_data=(x_test, None))"
   ]
  },
  {
   "cell_type": "code",
   "execution_count": 9,
   "id": "cc98a534",
   "metadata": {},
   "outputs": [
    {
     "ename": "ValueError",
     "evalue": "in user code:\n\n    File \"C:\\Users\\Shuta Tsuchio\\anaconda3\\lib\\site-packages\\keras\\engine\\training.py\", line 1845, in predict_function  *\n        return step_function(self, iterator)\n    File \"C:\\Users\\Shuta Tsuchio\\anaconda3\\lib\\site-packages\\keras\\engine\\training.py\", line 1834, in step_function  **\n        outputs = model.distribute_strategy.run(run_step, args=(data,))\n    File \"C:\\Users\\Shuta Tsuchio\\anaconda3\\lib\\site-packages\\keras\\engine\\training.py\", line 1823, in run_step  **\n        outputs = model.predict_step(data)\n    File \"C:\\Users\\Shuta Tsuchio\\anaconda3\\lib\\site-packages\\keras\\engine\\training.py\", line 1791, in predict_step\n        return self(x, training=False)\n    File \"C:\\Users\\Shuta Tsuchio\\anaconda3\\lib\\site-packages\\keras\\utils\\traceback_utils.py\", line 67, in error_handler\n        raise e.with_traceback(filtered_tb) from None\n    File \"C:\\Users\\Shuta Tsuchio\\anaconda3\\lib\\site-packages\\keras\\engine\\input_spec.py\", line 264, in assert_input_compatibility\n        raise ValueError(f'Input {input_index} of layer \"{layer_name}\" is '\n\n    ValueError: Input 0 of layer \"encoder\" is incompatible with the layer: expected shape=(None, 256, 256, 3), found shape=(None, 196608)\n",
     "output_type": "error",
     "traceback": [
      "\u001b[1;31m---------------------------------------------------------------------------\u001b[0m",
      "\u001b[1;31mValueError\u001b[0m                                Traceback (most recent call last)",
      "Input \u001b[1;32mIn [9]\u001b[0m, in \u001b[0;36m<cell line: 5>\u001b[1;34m()\u001b[0m\n\u001b[0;32m      1\u001b[0m \u001b[38;5;66;03m# _, _, x_tr = encoder.predict(X_train)\u001b[39;00m\n\u001b[0;32m      2\u001b[0m \u001b[38;5;66;03m# _, _, x_tg = encoder.predict(X_test_good)\u001b[39;00m\n\u001b[0;32m      3\u001b[0m \u001b[38;5;66;03m# _, _, x_te = encoder.predict(X_test_error)\u001b[39;00m\n\u001b[1;32m----> 5\u001b[0m x_tr, _, _ \u001b[38;5;241m=\u001b[39m \u001b[43mencoder\u001b[49m\u001b[38;5;241;43m.\u001b[39;49m\u001b[43mpredict\u001b[49m\u001b[43m(\u001b[49m\u001b[43mX_train\u001b[49m\u001b[43m)\u001b[49m\n\u001b[0;32m      6\u001b[0m x_tg, _, _ \u001b[38;5;241m=\u001b[39m encoder\u001b[38;5;241m.\u001b[39mpredict(X_test_good)\n\u001b[0;32m      7\u001b[0m x_te, _, _ \u001b[38;5;241m=\u001b[39m encoder\u001b[38;5;241m.\u001b[39mpredict(X_test_error)\n",
      "File \u001b[1;32m~\\anaconda3\\lib\\site-packages\\keras\\utils\\traceback_utils.py:67\u001b[0m, in \u001b[0;36mfilter_traceback.<locals>.error_handler\u001b[1;34m(*args, **kwargs)\u001b[0m\n\u001b[0;32m     65\u001b[0m \u001b[38;5;28;01mexcept\u001b[39;00m \u001b[38;5;167;01mException\u001b[39;00m \u001b[38;5;28;01mas\u001b[39;00m e:  \u001b[38;5;66;03m# pylint: disable=broad-except\u001b[39;00m\n\u001b[0;32m     66\u001b[0m   filtered_tb \u001b[38;5;241m=\u001b[39m _process_traceback_frames(e\u001b[38;5;241m.\u001b[39m__traceback__)\n\u001b[1;32m---> 67\u001b[0m   \u001b[38;5;28;01mraise\u001b[39;00m e\u001b[38;5;241m.\u001b[39mwith_traceback(filtered_tb) \u001b[38;5;28;01mfrom\u001b[39;00m \u001b[38;5;28mNone\u001b[39m\n\u001b[0;32m     68\u001b[0m \u001b[38;5;28;01mfinally\u001b[39;00m:\n\u001b[0;32m     69\u001b[0m   \u001b[38;5;28;01mdel\u001b[39;00m filtered_tb\n",
      "File \u001b[1;32mC:\\Users\\SHUTAT~1\\AppData\\Local\\Temp\\__autograph_generated_file_rerafin.py:15\u001b[0m, in \u001b[0;36mouter_factory.<locals>.inner_factory.<locals>.tf__predict_function\u001b[1;34m(iterator)\u001b[0m\n\u001b[0;32m     13\u001b[0m \u001b[38;5;28;01mtry\u001b[39;00m:\n\u001b[0;32m     14\u001b[0m     do_return \u001b[38;5;241m=\u001b[39m \u001b[38;5;28;01mTrue\u001b[39;00m\n\u001b[1;32m---> 15\u001b[0m     retval_ \u001b[38;5;241m=\u001b[39m ag__\u001b[38;5;241m.\u001b[39mconverted_call(ag__\u001b[38;5;241m.\u001b[39mld(step_function), (ag__\u001b[38;5;241m.\u001b[39mld(\u001b[38;5;28mself\u001b[39m), ag__\u001b[38;5;241m.\u001b[39mld(iterator)), \u001b[38;5;28;01mNone\u001b[39;00m, fscope)\n\u001b[0;32m     16\u001b[0m \u001b[38;5;28;01mexcept\u001b[39;00m:\n\u001b[0;32m     17\u001b[0m     do_return \u001b[38;5;241m=\u001b[39m \u001b[38;5;28;01mFalse\u001b[39;00m\n",
      "\u001b[1;31mValueError\u001b[0m: in user code:\n\n    File \"C:\\Users\\Shuta Tsuchio\\anaconda3\\lib\\site-packages\\keras\\engine\\training.py\", line 1845, in predict_function  *\n        return step_function(self, iterator)\n    File \"C:\\Users\\Shuta Tsuchio\\anaconda3\\lib\\site-packages\\keras\\engine\\training.py\", line 1834, in step_function  **\n        outputs = model.distribute_strategy.run(run_step, args=(data,))\n    File \"C:\\Users\\Shuta Tsuchio\\anaconda3\\lib\\site-packages\\keras\\engine\\training.py\", line 1823, in run_step  **\n        outputs = model.predict_step(data)\n    File \"C:\\Users\\Shuta Tsuchio\\anaconda3\\lib\\site-packages\\keras\\engine\\training.py\", line 1791, in predict_step\n        return self(x, training=False)\n    File \"C:\\Users\\Shuta Tsuchio\\anaconda3\\lib\\site-packages\\keras\\utils\\traceback_utils.py\", line 67, in error_handler\n        raise e.with_traceback(filtered_tb) from None\n    File \"C:\\Users\\Shuta Tsuchio\\anaconda3\\lib\\site-packages\\keras\\engine\\input_spec.py\", line 264, in assert_input_compatibility\n        raise ValueError(f'Input {input_index} of layer \"{layer_name}\" is '\n\n    ValueError: Input 0 of layer \"encoder\" is incompatible with the layer: expected shape=(None, 256, 256, 3), found shape=(None, 196608)\n"
     ]
    }
   ],
   "source": [
    "# _, _, x_tr = encoder.predict(X_train)\n",
    "# _, _, x_tg = encoder.predict(X_test_good)\n",
    "# _, _, x_te = encoder.predict(X_test_error)\n",
    "\n",
    "x_tr, _, _ = encoder.predict(X_train)\n",
    "x_tg, _, _ = encoder.predict(X_test_good)\n",
    "x_te, _, _ = encoder.predict(X_test_error)"
   ]
  },
  {
   "cell_type": "code",
   "execution_count": 6,
   "id": "a05f3277",
   "metadata": {},
   "outputs": [
    {
     "data": {
      "image/png": "[encoded data removed]",
      "text/plain": [
       "<Figure size 576x576 with 1 Axes>"
      ]
     },
     "metadata": {
      "needs_background": "light"
     },
     "output_type": "display_data"
    }
   ],
   "source": [
    "plt.figure(figsize=(8, 8))\n",
    "plt.scatter(x_tr[:, 0], x_tr[:, 1], c='b')\n",
    "plt.scatter(x_tg[:, 0], x_tg[:, 1], c='g')\n",
    "plt.scatter(x_te[:, 0], x_te[:, 1], c='black')\n",
    "\n",
    "train_data = x_tr\n",
    "test_data_good = x_tg\n",
    "test_data_error = x_te"
   ]
  },
  {
   "cell_type": "code",
   "execution_count": 7,
   "id": "3e096f4f",
   "metadata": {},
   "outputs": [
    {
     "data": {
      "image/png": "[encoded data removed]",
      "text/plain": [
       "<Figure size 576x576 with 1 Axes>"
      ]
     },
     "metadata": {
      "needs_background": "light"
     },
     "output_type": "display_data"
    },
    {
     "name": "stdout",
     "output_type": "stream",
     "text": [
      "15 48\n",
      "3 17\n",
      "accuracy: 0.3855421686746988\n"
     ]
    }
   ],
   "source": [
    "clf = OneClassSVM(nu=2**(-3), kernel=\"rbf\", gamma=0.01)\n",
    "clf.fit(train_data)\n",
    "pred_tr = clf.predict(train_data)\n",
    "pred_tg = clf.predict(test_data_good)\n",
    "pred_te = clf.predict(test_data_error)\n",
    "\n",
    "index_tr = np.where(pred_tr < 0)\n",
    "index_tg = np.where(pred_tg < 0)\n",
    "index_te = np.where(pred_te < 0)\n",
    "plt.figure(figsize=(8, 8))\n",
    "plt.scatter(train_data[:,0], train_data[:,1], c='b')\n",
    "plt.scatter(train_data[index_tr, 0], train_data[index_tr, 1], c='red', label='outlair')\n",
    "\n",
    "plt.scatter(test_data_good[:,0], test_data_good[:,1], c='g')\n",
    "plt.scatter(test_data_good[index_tg, 0], test_data_good[index_tg, 1], c='red', label='outlair')\n",
    "\n",
    "plt.scatter(test_data_error[:,0], test_data_error[:,1], c='black')\n",
    "plt.scatter(test_data_error[index_te, 0], test_data_error[index_te, 1], c='red', label='outlair')\n",
    "plt.legend()\n",
    "plt.savefig('OneClassSVM.png')\n",
    "plt.show()\n",
    "\n",
    "in_tg = np.array(index_tg)\n",
    "in_te = np.array(index_te)\n",
    "\n",
    "a0, b0 = in_tg.shape\n",
    "a1, b1 = in_te.shape\n",
    "\n",
    "TN = len(test_data_good) - b0\n",
    "FP = b0\n",
    "FN = len(test_data_error) - b1\n",
    "TP = b1\n",
    "print(TP, FN)\n",
    "print(FP, TN)\n",
    "print('accuracy:',(TP + TN)/(TP+TN+FP+FN)) "
   ]
  },
  {
   "cell_type": "code",
   "execution_count": 8,
   "id": "6b46addc",
   "metadata": {},
   "outputs": [
    {
     "name": "stdout",
     "output_type": "stream",
     "text": [
      "Epoch 1/10\n",
      "1/1 [==============================] - 7s 7s/step - loss: 5.6583 - val_loss: 5.5273\n",
      "Epoch 2/10\n",
      "1/1 [==============================] - 3s 3s/step - loss: 5.8371 - val_loss: 5.5367\n",
      "Epoch 3/10\n",
      "1/1 [==============================] - 2s 2s/step - loss: 5.5631 - val_loss: 5.5711\n",
      "Epoch 4/10\n",
      "1/1 [==============================] - 2s 2s/step - loss: 5.8106 - val_loss: 5.7080\n",
      "Epoch 5/10\n",
      "1/1 [==============================] - 4s 4s/step - loss: 5.4528 - val_loss: 5.6798\n",
      "Epoch 6/10\n",
      "1/1 [==============================] - 1s 1s/step - loss: 5.8719 - val_loss: 5.3590\n",
      "Epoch 7/10\n",
      "1/1 [==============================] - 1s 1s/step - loss: 5.6214 - val_loss: 5.3322\n",
      "Epoch 8/10\n",
      "1/1 [==============================] - 2s 2s/step - loss: 5.7611 - val_loss: 6.0441\n",
      "Epoch 9/10\n",
      "1/1 [==============================] - 2s 2s/step - loss: 5.5508 - val_loss: 5.2300\n",
      "Epoch 10/10\n",
      "1/1 [==============================] - 1s 1s/step - loss: 5.3577 - val_loss: 5.2058\n",
      "CPU times: total: 1min 2s\n",
      "Wall time: 43.3 s\n"
     ]
    },
    {
     "data": {
      "text/plain": [
       "<keras.callbacks.History at 0x1f11d566a00>"
      ]
     },
     "execution_count": 8,
     "metadata": {},
     "output_type": "execute_result"
    }
   ],
   "source": [
    "%%time\n",
    "s_v = np.array(clf.support_)\n",
    "SV = []\n",
    "\n",
    "for i in range(len(s_v)):\n",
    "    SV.append(list(X_train[s_v[i], :]))\n",
    "sv = np.array(SV)\n",
    "sv.shape\n",
    "# sv = np.reshape(sv, [-1, original_dim])\n",
    "# sv = sv.astype('float32') / 255\n",
    "\n",
    "vae.fit(sv, epochs=10, batch_size=64, validation_data=(x_test, None))"
   ]
  },
  {
   "cell_type": "code",
   "execution_count": 16,
   "id": "2eca5990",
   "metadata": {},
   "outputs": [
    {
     "name": "stdout",
     "output_type": "stream",
     "text": [
      "7/7 [==============================] - 1s 100ms/step\n",
      "1/1 [==============================] - 0s 151ms/step\n",
      "2/2 [==============================] - 0s 129ms/step\n"
     ]
    },
    {
     "data": {
      "image/png": "[encoded data removed]",
      "text/plain": [
       "<Figure size 576x576 with 1 Axes>"
      ]
     },
     "metadata": {
      "needs_background": "light"
     },
     "output_type": "display_data"
    }
   ],
   "source": [
    "_, _, x_trf = encoder.predict(X_train)\n",
    "_, _, x_tgf = encoder.predict(X_test_good)\n",
    "_, _, x_tef = encoder.predict(X_test_error)\n",
    "\n",
    "# x_trf, _, _ = encoder.predict(X_train)\n",
    "# x_tgf, _, _ = encoder.predict(X_test_good)\n",
    "# x_tef, _, _ = encoder.predict(X_test_error)\n",
    "\n",
    "plt.figure(figsize=(8, 8))\n",
    "plt.scatter(x_trf[:, 0], x_trf[:, 1], c='b')\n",
    "plt.scatter(x_tgf[:, 0], x_tgf[:, 1], c='g')\n",
    "plt.scatter(x_tef[:, 0], x_tef[:, 1], c='black')\n",
    "\n",
    "train_data = x_trf\n",
    "test_data_good = x_tgf\n",
    "test_data_error = x_tef"
   ]
  },
  {
   "cell_type": "code",
   "execution_count": 17,
   "id": "1e110f27",
   "metadata": {},
   "outputs": [
    {
     "data": {
      "image/png": "[encoded data removed]",
      "text/plain": [
       "<Figure size 576x576 with 1 Axes>"
      ]
     },
     "metadata": {
      "needs_background": "light"
     },
     "output_type": "display_data"
    },
    {
     "name": "stdout",
     "output_type": "stream",
     "text": [
      "9 54\n",
      "1 19\n",
      "accuracy: 0.3855421686746988\n",
      "CPU times: total: 969 ms\n",
      "Wall time: 1.56 s\n"
     ]
    }
   ],
   "source": [
    "%%time\n",
    "clf.fit(train_data)\n",
    "pred_tr = clf.predict(train_data)\n",
    "pred_tg = clf.predict(test_data_good)\n",
    "pred_te = clf.predict(test_data_error)\n",
    "\n",
    "index_tr = np.where(pred_tr < 0)\n",
    "index_tg = np.where(pred_tg < 0)\n",
    "index_te = np.where(pred_te < 0)\n",
    "plt.figure(figsize=(8, 8))\n",
    "plt.scatter(train_data[:,0], train_data[:,1], c='b')\n",
    "plt.scatter(train_data[index_tr, 0], train_data[index_tr, 1], c='red', label='outlair')\n",
    "\n",
    "plt.scatter(test_data_good[:,0], test_data_good[:,1], c='g')\n",
    "plt.scatter(test_data_good[index_tg, 0], test_data_good[index_tg, 1], c='red')\n",
    "\n",
    "plt.scatter(test_data_error[:,0], test_data_error[:,1], c='g')\n",
    "plt.scatter(test_data_error[index_te, 0], test_data_error[index_te, 1], c='red')\n",
    "plt.legend()\n",
    "plt.savefig('OneClassSVM.png')\n",
    "plt.show()\n",
    "\n",
    "in_tg = np.array(index_tg)\n",
    "in_te = np.array(index_te)\n",
    "\n",
    "a0, b0 = in_tg.shape\n",
    "a1, b1 = in_te.shape\n",
    "\n",
    "TN1 = len(test_data_good) - b0\n",
    "FP1 = b0\n",
    "FN1 = len(test_data_error) - b1\n",
    "TP1 = b1\n",
    "print(TP1, FN1)\n",
    "print(FP1, TN1)\n",
    "print('accuracy:',(TP + TN)/(TP+TN+FP+FN)) "
   ]
  },
  {
   "cell_type": "code",
   "execution_count": null,
   "id": "2727510a",
   "metadata": {},
   "outputs": [],
   "source": []
  },
  {
   "cell_type": "code",
   "execution_count": null,
   "id": "cd1fbcba",
   "metadata": {},
   "outputs": [],
   "source": []
  }
 ],
 "metadata": {
  "kernelspec": {
   "display_name": "Python 3 (ipykernel)",
   "language": "python",
   "name": "python3"
  },
  "language_info": {
   "codemirror_mode": {
    "name": "ipython",
    "version": 3
   },
   "file_extension": ".py",
   "mimetype": "text/x-python",
   "name": "python",
   "nbconvert_exporter": "python",
   "pygments_lexer": "ipython3",
   "version": "3.9.12"
  }
 },
 "nbformat": 4,
 "nbformat_minor": 5
}
