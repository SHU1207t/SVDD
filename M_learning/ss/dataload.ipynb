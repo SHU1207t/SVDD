{
 "cells": [
  {
   "cell_type": "code",
   "execution_count": 2,
   "id": "9f7acf70",
   "metadata": {},
   "outputs": [],
   "source": [
    "import numpy as np\n",
    "import os\n",
    "import PIL\n",
    "import PIL.Image\n",
    "import tensorflow as tf\n",
    "# import tensorflow_datasets as tfds"
   ]
  },
  {
   "cell_type": "code",
   "execution_count": 18,
   "id": "af958246",
   "metadata": {},
   "outputs": [],
   "source": [
    "batch_size = 32\n",
    "img_height = 256\n",
    "img_width = 256\n",
    "data_dir = 'bottle/test'"
   ]
  },
  {
   "cell_type": "code",
   "execution_count": 19,
   "id": "f080125e",
   "metadata": {},
   "outputs": [
    {
     "name": "stdout",
     "output_type": "stream",
     "text": [
      "Found 83 files belonging to 5 classes.\n",
      "Using 75 files for training.\n"
     ]
    }
   ],
   "source": [
    "train_ds = tf.keras.utils.image_dataset_from_directory(\n",
    "  data_dir,\n",
    "  validation_split=0.1,\n",
    "  subset=\"training\",\n",
    "  seed=123,\n",
    "  image_size=(img_height, img_width),\n",
    "  batch_size=batch_size)"
   ]
  },
  {
   "cell_type": "code",
   "execution_count": 20,
   "id": "d73a8c20",
   "metadata": {},
   "outputs": [
    {
     "name": "stdout",
     "output_type": "stream",
     "text": [
      "tf.Tensor([2 1 2 1 4 2 3 1 1 2 1 4 4 4 4 3 1 3 3 4 2 3 2 3 3 1 2 2 4 1 2 2], shape=(32,), dtype=int32)\n",
      "tf.Tensor([2 4 1 4 3 3 1 1 2 1 3 3 2 4 1 3 2 4 3 1 2 3 4 1 4 1 3 1 4 3 2 1], shape=(32,), dtype=int32)\n",
      "tf.Tensor([3 4 2 1 4 4 4 2 2 3 2], shape=(11,), dtype=int32)\n"
     ]
    }
   ],
   "source": [
    "for i,j in train_ds:\n",
    "    print(j)"
   ]
  },
  {
   "cell_type": "code",
   "execution_count": null,
   "id": "d0a4b581",
   "metadata": {},
   "outputs": [],
   "source": []
  }
 ],
 "metadata": {
  "kernelspec": {
   "display_name": "Python 3 (ipykernel)",
   "language": "python",
   "name": "python3"
  },
  "language_info": {
   "codemirror_mode": {
    "name": "ipython",
    "version": 3
   },
   "file_extension": ".py",
   "mimetype": "text/x-python",
   "name": "python",
   "nbconvert_exporter": "python",
   "pygments_lexer": "ipython3",
   "version": "3.9.17"
  }
 },
 "nbformat": 4,
 "nbformat_minor": 5
}
