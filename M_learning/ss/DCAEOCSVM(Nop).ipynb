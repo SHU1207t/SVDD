{
 "cells": [
  {
   "cell_type": "code",
   "execution_count": 1,
   "id": "31716e25",
   "metadata": {},
   "outputs": [],
   "source": [
    "import os\n",
    "import sys\n",
    "import csv\n",
    "import numpy as np\n",
    "import matplotlib.pyplot as plt\n",
    "import tensorflow as tf\n",
    "from tensorflow.keras.models import Model\n",
    "from tensorflow.keras.layers import Dense, UpSampling2D, Conv2D, Conv2DTranspose, Reshape, Input\n",
    "from tensorflow.keras import optimizers\n",
    "from efficientnet.tfkeras import EfficientNetB2, preprocess_input\n",
    "import sklearn\n",
    "from sklearn.model_selection import train_test_split, GridSearchCV\n",
    "from sklearn.svm import OneClassSVM\n",
    "from sklearn.metrics import roc_auc_score, f1_score, accuracy_score\n",
    "import cv2\n",
    "import MVTecAD_loaddata as mv\n",
    "import pandas as pd\n",
    "\n",
    "res = []\n",
    "\n",
    "def OCSVM(X, x_test, y, y_test):\n",
    "    tuned_parameters = [\n",
    "        {'nu': [2**-3, 2**-4, 2**-5, 2**-6, 2**-7], 'kernel': ['rbf'], 'gamma': [10**-3, 10**-4, 10**-5, 10**-6, 10**-7]},\n",
    "    ]\n",
    "    score = 'accuracy'\n",
    "    clf = GridSearchCV(\n",
    "        OneClassSVM(),\n",
    "        tuned_parameters,\n",
    "        cv=5,\n",
    "        scoring=score)\n",
    "#         scoring='%s_weighted' % score )\n",
    "          \n",
    "    clf.fit(X, y)\n",
    "          \n",
    "    a = clf.decision_function(x_test)\n",
    "    b = clf.predict(x_test)\n",
    "    r1 = roc_auc_score(y_test,a)\n",
    "    r2 = f1_score(y_test,b)\n",
    "    r3 = accuracy_score(y_test,b)\n",
    "    print('roc_auc : ',r1)\n",
    "    print('f1_score : ', r2)\n",
    "    print('accuracy_score : ', r3)\n",
    "    print('best_params : ', clf.best_params_)\n",
    "    result = [r1,r2,r3]\n",
    "    return result\n",
    "\n",
    "def model_train(X_train, X_test):\n",
    "    input_shape = (256, 256, 3)\n",
    "    inputs = Input(input_shape)\n",
    "\n",
    "    base_model = EfficientNetB2(include_top=False, weights='imagenet')(inputs)\n",
    "    outputs = Reshape((8*8*1408))(base_model)\n",
    "    model = Model(inputs=inputs, outputs=outputs)\n",
    "    model.compile(optimizer=optimizers.Adam(learning_rate=1e-4), loss=\"mean_squared_error\")\n",
    "\n",
    "#     model.fit(X_train, X_train, epochs=20, batch_size=16, shuffle=True)\n",
    "#     encoder = Model(model.layers[0].input, model.layers[-8].output)\n",
    "    f_tr = model.predict(X_train, verbose=0)\n",
    "    f_ts = model.predict(X_test, verbose=0)\n",
    "    x_tr = np.reshape(f_tr, (f_tr.shape[0], f_tr.shape[1] * f_tr.shape[2] * f_tr.shape[3]))\n",
    "    x_ts = np.reshape(f_ts, (f_ts.shape[0], f_ts.shape[1] * f_ts.shape[2] * f_ts.shape[3]))\n",
    "    return x_tr, x_ts"
   ]
  },
  {
   "cell_type": "code",
   "execution_count": null,
   "id": "5df126a9",
   "metadata": {},
   "outputs": [],
   "source": []
  },
  {
   "cell_type": "code",
   "execution_count": 2,
   "id": "d1cc4d3f",
   "metadata": {},
   "outputs": [
    {
     "name": "stdout",
     "output_type": "stream",
     "text": [
      "roc_auc :  0.9888888888888889\n",
      "f1_score :  0.9230769230769231\n",
      "accuracy_score :  0.963855421686747\n",
      "best_params :  {'gamma': 1e-06, 'kernel': 'rbf', 'nu': 0.015625}\n"
     ]
    }
   ],
   "source": [
    "X_train, X_test, X_test_good, X_test_error, y_tr, y_tg, y_te, y_ts = mv.bottle()\n",
    "# X_train, X_test, X_test_good, X_test_error, y_tr, y_tg, y_te, y_ts = mv.cable()\n",
    "# X_train, X_test, X_test_good, X_test_error, y_tr, y_tg, y_te, y_ts = mv.capsule()\n",
    "# X_train, X_test, X_test_good, X_test_error, y_tr, y_tg, y_te, y_ts = mv.carpet()\n",
    "# X_train, X_test, X_test_good, X_test_error, y_tr, y_tg, y_te, y_ts = mv.grid()\n",
    "# X_train, X_test, X_test_good, X_test_error, y_tr, y_tg, y_te, y_ts = mv.hazelnut()\n",
    "# X_train, X_test, X_test_good, X_test_error, y_tr, y_tg, y_te, y_ts = mv.leather()\n",
    "# X_train, X_test, X_test_good, X_test_error, y_tr, y_tg, y_te, y_ts = mv.metal_nut()\n",
    "# X_train, X_test, X_test_good, X_test_error, y_tr, y_tg, y_te, y_ts = mv.pill()\n",
    "# X_train, X_test, X_test_good, X_test_error, y_tr, y_tg, y_te, y_ts = mv.screw()\n",
    "# X_train, X_test, X_test_good, X_test_error, y_tr, y_tg, y_te, y_ts = mv.tile()\n",
    "# X_train, X_test, X_test_good, X_test_error, y_tr, y_tg, y_te, y_ts = mv.toothbrush()\n",
    "# X_train, X_test, X_test_good, X_test_error, y_tr, y_tg, y_te, y_ts = mv.transistor()\n",
    "# X_train, X_test, X_test_good, X_test_error, y_tr, y_tg, y_te, y_ts = mv.wood()\n",
    "# X_train, X_test, X_test_good, X_test_error, y_tr, y_tg, y_te, y_ts = mv.zipper()\n",
    "x_train, x_test = model_train(X_train, X_test)\n",
    "result = OCSVM(x_train, x_test, y_tr, y_ts)\n",
    "res.append(result)"
   ]
  },
  {
   "cell_type": "code",
   "execution_count": 3,
   "id": "a53cf1f9",
   "metadata": {},
   "outputs": [
    {
     "name": "stdout",
     "output_type": "stream",
     "text": [
      "roc_auc :  0.8961312026913373\n",
      "f1_score :  0.7536231884057972\n",
      "accuracy_score :  0.7571428571428571\n",
      "best_params :  {'gamma': 1e-06, 'kernel': 'rbf', 'nu': 0.015625}\n"
     ]
    }
   ],
   "source": [
    "# X_train, X_test, X_test_good, X_test_error, y_tr, y_tg, y_te, y_ts = mv.bottle()\n",
    "X_train, X_test, X_test_good, X_test_error, y_tr, y_tg, y_te, y_ts = mv.cable()\n",
    "# X_train, X_test, X_test_good, X_test_error, y_tr, y_tg, y_te, y_ts = mv.capsule()\n",
    "# X_train, X_test, X_test_good, X_test_error, y_tr, y_tg, y_te, y_ts = mv.carpet()\n",
    "# X_train, X_test, X_test_good, X_test_error, y_tr, y_tg, y_te, y_ts = mv.grid()\n",
    "# X_train, X_test, X_test_good, X_test_error, y_tr, y_tg, y_te, y_ts = mv.hazelnut()\n",
    "# X_train, X_test, X_test_good, X_test_error, y_tr, y_tg, y_te, y_ts = mv.leather()\n",
    "# X_train, X_test, X_test_good, X_test_error, y_tr, y_tg, y_te, y_ts = mv.metal_nut()\n",
    "# X_train, X_test, X_test_good, X_test_error, y_tr, y_tg, y_te, y_ts = mv.pill()\n",
    "# X_train, X_test, X_test_good, X_test_error, y_tr, y_tg, y_te, y_ts = mv.screw()\n",
    "# X_train, X_test, X_test_good, X_test_error, y_tr, y_tg, y_te, y_ts = mv.tile()\n",
    "# X_train, X_test, X_test_good, X_test_error, y_tr, y_tg, y_te, y_ts = mv.toothbrush()\n",
    "# X_train, X_test, X_test_good, X_test_error, y_tr, y_tg, y_te, y_ts = mv.transistor()\n",
    "# X_train, X_test, X_test_good, X_test_error, y_tr, y_tg, y_te, y_ts = mv.wood()\n",
    "# X_train, X_test, X_test_good, X_test_error, y_tr, y_tg, y_te, y_ts = mv.zipper()\n",
    "x_train, x_test = model_train(X_train, X_test)\n",
    "result = OCSVM(x_train, x_test, y_tr, y_ts)\n",
    "res.append(result)"
   ]
  },
  {
   "cell_type": "code",
   "execution_count": 4,
   "id": "daa210cc",
   "metadata": {},
   "outputs": [
    {
     "name": "stdout",
     "output_type": "stream",
     "text": [
      "roc_auc :  0.7140007977662545\n",
      "f1_score :  0.3559322033898305\n",
      "accuracy_score :  0.42424242424242425\n",
      "best_params :  {'gamma': 1e-06, 'kernel': 'rbf', 'nu': 0.0078125}\n"
     ]
    }
   ],
   "source": [
    "# X_train, X_test, X_test_good, X_test_error, y_tr, y_tg, y_te, y_ts = mv.bottle()\n",
    "# X_train, X_test, X_test_good, X_test_error, y_tr, y_tg, y_te, y_ts = mv.cable()\n",
    "X_train, X_test, X_test_good, X_test_error, y_tr, y_tg, y_te, y_ts = mv.capsule()\n",
    "# X_train, X_test, X_test_good, X_test_error, y_tr, y_tg, y_te, y_ts = mv.carpet()\n",
    "# X_train, X_test, X_test_good, X_test_error, y_tr, y_tg, y_te, y_ts = mv.grid()\n",
    "# X_train, X_test, X_test_good, X_test_error, y_tr, y_tg, y_te, y_ts = mv.hazelnut()\n",
    "# X_train, X_test, X_test_good, X_test_error, y_tr, y_tg, y_te, y_ts = mv.leather()\n",
    "# X_train, X_test, X_test_good, X_test_error, y_tr, y_tg, y_te, y_ts = mv.metal_nut()\n",
    "# X_train, X_test, X_test_good, X_test_error, y_tr, y_tg, y_te, y_ts = mv.pill()\n",
    "# X_train, X_test, X_test_good, X_test_error, y_tr, y_tg, y_te, y_ts = mv.screw()\n",
    "# X_train, X_test, X_test_good, X_test_error, y_tr, y_tg, y_te, y_ts = mv.tile()\n",
    "# X_train, X_test, X_test_good, X_test_error, y_tr, y_tg, y_te, y_ts = mv.toothbrush()\n",
    "# X_train, X_test, X_test_good, X_test_error, y_tr, y_tg, y_te, y_ts = mv.transistor()\n",
    "# X_train, X_test, X_test_good, X_test_error, y_tr, y_tg, y_te, y_ts = mv.wood()\n",
    "# X_train, X_test, X_test_good, X_test_error, y_tr, y_tg, y_te, y_ts = mv.zipper()\n",
    "x_train, x_test = model_train(X_train, X_test)\n",
    "result = OCSVM(x_train, x_test, y_tr, y_ts)\n",
    "res.append(result)"
   ]
  },
  {
   "cell_type": "code",
   "execution_count": 5,
   "id": "eec953f6",
   "metadata": {},
   "outputs": [
    {
     "name": "stdout",
     "output_type": "stream",
     "text": [
      "roc_auc :  0.8759920634920636\n",
      "f1_score :  0.5333333333333333\n",
      "accuracy_score :  0.7941176470588235\n",
      "best_params :  {'gamma': 1e-05, 'kernel': 'rbf', 'nu': 0.015625}\n"
     ]
    }
   ],
   "source": [
    "# X_train, X_test, X_test_good, X_test_error, y_tr, y_tg, y_te, y_ts = mv.bottle()\n",
    "# X_train, X_test, X_test_good, X_test_error, y_tr, y_tg, y_te, y_ts = mv.cable()\n",
    "# X_train, X_test, X_test_good, X_test_error, y_tr, y_tg, y_te, y_ts = mv.capsule()\n",
    "X_train, X_test, X_test_good, X_test_error, y_tr, y_tg, y_te, y_ts = mv.carpet()\n",
    "# X_train, X_test, X_test_good, X_test_error, y_tr, y_tg, y_te, y_ts = mv.grid()\n",
    "# X_train, X_test, X_test_good, X_test_error, y_tr, y_tg, y_te, y_ts = mv.hazelnut()\n",
    "# X_train, X_test, X_test_good, X_test_error, y_tr, y_tg, y_te, y_ts = mv.leather()\n",
    "# X_train, X_test, X_test_good, X_test_error, y_tr, y_tg, y_te, y_ts = mv.metal_nut()\n",
    "# X_train, X_test, X_test_good, X_test_error, y_tr, y_tg, y_te, y_ts = mv.pill()\n",
    "# X_train, X_test, X_test_good, X_test_error, y_tr, y_tg, y_te, y_ts = mv.screw()\n",
    "# X_train, X_test, X_test_good, X_test_error, y_tr, y_tg, y_te, y_ts = mv.tile()\n",
    "# X_train, X_test, X_test_good, X_test_error, y_tr, y_tg, y_te, y_ts = mv.toothbrush()\n",
    "# X_train, X_test, X_test_good, X_test_error, y_tr, y_tg, y_te, y_ts = mv.transistor()\n",
    "# X_train, X_test, X_test_good, X_test_error, y_tr, y_tg, y_te, y_ts = mv.wood()\n",
    "# X_train, X_test, X_test_good, X_test_error, y_tr, y_tg, y_te, y_ts = mv.zipper()\n",
    "x_train, x_test = model_train(X_train, X_test)\n",
    "result = OCSVM(x_train, x_test, y_tr, y_ts)\n",
    "res.append(result)"
   ]
  },
  {
   "cell_type": "code",
   "execution_count": 6,
   "id": "5b85ac73",
   "metadata": {},
   "outputs": [
    {
     "name": "stdout",
     "output_type": "stream",
     "text": [
      "roc_auc :  0.4903926482873851\n",
      "f1_score :  0.4\n",
      "accuracy_score :  0.34615384615384615\n",
      "best_params :  {'gamma': 1e-06, 'kernel': 'rbf', 'nu': 0.015625}\n"
     ]
    }
   ],
   "source": [
    "# X_train, X_test, X_test_good, X_test_error, y_tr, y_tg, y_te, y_ts = mv.bottle()\n",
    "# X_train, X_test, X_test_good, X_test_error, y_tr, y_tg, y_te, y_ts = mv.cable()\n",
    "# X_train, X_test, X_test_good, X_test_error, y_tr, y_tg, y_te, y_ts = mv.capsule()\n",
    "# X_train, X_test, X_test_good, X_test_error, y_tr, y_tg, y_te, y_ts = mv.carpet()\n",
    "X_train, X_test, X_test_good, X_test_error, y_tr, y_tg, y_te, y_ts = mv.grid()\n",
    "# X_train, X_test, X_test_good, X_test_error, y_tr, y_tg, y_te, y_ts = mv.hazelnut()\n",
    "# X_train, X_test, X_test_good, X_test_error, y_tr, y_tg, y_te, y_ts = mv.leather()\n",
    "# X_train, X_test, X_test_good, X_test_error, y_tr, y_tg, y_te, y_ts = mv.metal_nut()\n",
    "# X_train, X_test, X_test_good, X_test_error, y_tr, y_tg, y_te, y_ts = mv.pill()\n",
    "# X_train, X_test, X_test_good, X_test_error, y_tr, y_tg, y_te, y_ts = mv.screw()\n",
    "# X_train, X_test, X_test_good, X_test_error, y_tr, y_tg, y_te, y_ts = mv.tile()\n",
    "# X_train, X_test, X_test_good, X_test_error, y_tr, y_tg, y_te, y_ts = mv.toothbrush()\n",
    "# X_train, X_test, X_test_good, X_test_error, y_tr, y_tg, y_te, y_ts = mv.transistor()\n",
    "# X_train, X_test, X_test_good, X_test_error, y_tr, y_tg, y_te, y_ts = mv.wood()\n",
    "# X_train, X_test, X_test_good, X_test_error, y_tr, y_tg, y_te, y_ts = mv.zipper()\n",
    "x_train, x_test = model_train(X_train, X_test)\n",
    "result = OCSVM(x_train, x_test, y_tr, y_ts)\n",
    "res.append(result)"
   ]
  },
  {
   "cell_type": "code",
   "execution_count": 7,
   "id": "00fa33d3",
   "metadata": {},
   "outputs": [
    {
     "name": "stdout",
     "output_type": "stream",
     "text": [
      "roc_auc :  0.7985714285714286\n",
      "f1_score :  0.6206896551724138\n",
      "accuracy_score :  0.6\n",
      "best_params :  {'gamma': 1e-07, 'kernel': 'rbf', 'nu': 0.015625}\n"
     ]
    }
   ],
   "source": [
    "# X_train, X_test, X_test_good, X_test_error, y_tr, y_tg, y_te, y_ts = mv.bottle()\n",
    "# X_train, X_test, X_test_good, X_test_error, y_tr, y_tg, y_te, y_ts = mv.cable()\n",
    "# X_train, X_test, X_test_good, X_test_error, y_tr, y_tg, y_te, y_ts = mv.capsule()\n",
    "# X_train, X_test, X_test_good, X_test_error, y_tr, y_tg, y_te, y_ts = mv.carpet()\n",
    "# X_train, X_test, X_test_good, X_test_error, y_tr, y_tg, y_te, y_ts = mv.grid()\n",
    "X_train, X_test, X_test_good, X_test_error, y_tr, y_tg, y_te, y_ts = mv.hazelnut()\n",
    "# X_train, X_test, X_test_good, X_test_error, y_tr, y_tg, y_te, y_ts = mv.leather()\n",
    "# X_train, X_test, X_test_good, X_test_error, y_tr, y_tg, y_te, y_ts = mv.metal_nut()\n",
    "# X_train, X_test, X_test_good, X_test_error, y_tr, y_tg, y_te, y_ts = mv.pill()\n",
    "# X_train, X_test, X_test_good, X_test_error, y_tr, y_tg, y_te, y_ts = mv.screw()\n",
    "# X_train, X_test, X_test_good, X_test_error, y_tr, y_tg, y_te, y_ts = mv.tile()\n",
    "# X_train, X_test, X_test_good, X_test_error, y_tr, y_tg, y_te, y_ts = mv.toothbrush()\n",
    "# X_train, X_test, X_test_good, X_test_error, y_tr, y_tg, y_te, y_ts = mv.transistor()\n",
    "# X_train, X_test, X_test_good, X_test_error, y_tr, y_tg, y_te, y_ts = mv.wood()\n",
    "# X_train, X_test, X_test_good, X_test_error, y_tr, y_tg, y_te, y_ts = mv.zipper()\n",
    "x_train, x_test = model_train(X_train, X_test)\n",
    "result = OCSVM(x_train, x_test, y_tr, y_ts)\n",
    "res.append(result)"
   ]
  },
  {
   "cell_type": "code",
   "execution_count": 8,
   "id": "ff3819a2",
   "metadata": {},
   "outputs": [
    {
     "name": "stdout",
     "output_type": "stream",
     "text": [
      "roc_auc :  0.9891304347826086\n",
      "f1_score :  0.8275862068965517\n",
      "accuracy_score :  0.9193548387096774\n",
      "best_params :  {'gamma': 1e-05, 'kernel': 'rbf', 'nu': 0.015625}\n"
     ]
    }
   ],
   "source": [
    "# X_train, X_test, X_test_good, X_test_error, y_tr, y_tg, y_te, y_ts = mv.bottle()\n",
    "# X_train, X_test, X_test_good, X_test_error, y_tr, y_tg, y_te, y_ts = mv.cable()\n",
    "# X_train, X_test, X_test_good, X_test_error, y_tr, y_tg, y_te, y_ts = mv.capsule()\n",
    "# X_train, X_test, X_test_good, X_test_error, y_tr, y_tg, y_te, y_ts = mv.carpet()\n",
    "# X_train, X_test, X_test_good, X_test_error, y_tr, y_tg, y_te, y_ts = mv.grid()\n",
    "# X_train, X_test, X_test_good, X_test_error, y_tr, y_tg, y_te, y_ts = mv.hazelnut()\n",
    "X_train, X_test, X_test_good, X_test_error, y_tr, y_tg, y_te, y_ts = mv.leather()\n",
    "# X_train, X_test, X_test_good, X_test_error, y_tr, y_tg, y_te, y_ts = mv.metal_nut()\n",
    "# X_train, X_test, X_test_good, X_test_error, y_tr, y_tg, y_te, y_ts = mv.pill()\n",
    "# X_train, X_test, X_test_good, X_test_error, y_tr, y_tg, y_te, y_ts = mv.screw()\n",
    "# X_train, X_test, X_test_good, X_test_error, y_tr, y_tg, y_te, y_ts = mv.tile()\n",
    "# X_train, X_test, X_test_good, X_test_error, y_tr, y_tg, y_te, y_ts = mv.toothbrush()\n",
    "# X_train, X_test, X_test_good, X_test_error, y_tr, y_tg, y_te, y_ts = mv.transistor()\n",
    "# X_train, X_test, X_test_good, X_test_error, y_tr, y_tg, y_te, y_ts = mv.wood()\n",
    "# X_train, X_test, X_test_good, X_test_error, y_tr, y_tg, y_te, y_ts = mv.zipper()\n",
    "x_train, x_test = model_train(X_train, X_test)\n",
    "result = OCSVM(x_train, x_test, y_tr, y_ts)\n",
    "res.append(result)"
   ]
  },
  {
   "cell_type": "code",
   "execution_count": 9,
   "id": "fb70364b",
   "metadata": {},
   "outputs": [
    {
     "name": "stdout",
     "output_type": "stream",
     "text": [
      "roc_auc :  0.9330400782013686\n",
      "f1_score :  0.5866666666666668\n",
      "accuracy_score :  0.7304347826086957\n",
      "best_params :  {'gamma': 1e-06, 'kernel': 'rbf', 'nu': 0.0078125}\n"
     ]
    }
   ],
   "source": [
    "# X_train, X_test, X_test_good, X_test_error, y_tr, y_tg, y_te, y_ts = mv.bottle()\n",
    "# X_train, X_test, X_test_good, X_test_error, y_tr, y_tg, y_te, y_ts = mv.cable()\n",
    "# X_train, X_test, X_test_good, X_test_error, y_tr, y_tg, y_te, y_ts = mv.capsule()\n",
    "# X_train, X_test, X_test_good, X_test_error, y_tr, y_tg, y_te, y_ts = mv.carpet()\n",
    "# X_train, X_test, X_test_good, X_test_error, y_tr, y_tg, y_te, y_ts = mv.grid()\n",
    "# X_train, X_test, X_test_good, X_test_error, y_tr, y_tg, y_te, y_ts = mv.hazelnut()\n",
    "# X_train, X_test, X_test_good, X_test_error, y_tr, y_tg, y_te, y_ts = mv.leather()\n",
    "X_train, X_test, X_test_good, X_test_error, y_tr, y_tg, y_te, y_ts = mv.metal_nut()\n",
    "# X_train, X_test, X_test_good, X_test_error, y_tr, y_tg, y_te, y_ts = mv.pill()\n",
    "# X_train, X_test, X_test_good, X_test_error, y_tr, y_tg, y_te, y_ts = mv.screw()\n",
    "# X_train, X_test, X_test_good, X_test_error, y_tr, y_tg, y_te, y_ts = mv.tile()\n",
    "# X_train, X_test, X_test_good, X_test_error, y_tr, y_tg, y_te, y_ts = mv.toothbrush()\n",
    "# X_train, X_test, X_test_good, X_test_error, y_tr, y_tg, y_te, y_ts = mv.transistor()\n",
    "# X_train, X_test, X_test_good, X_test_error, y_tr, y_tg, y_te, y_ts = mv.wood()\n",
    "# X_train, X_test, X_test_good, X_test_error, y_tr, y_tg, y_te, y_ts = mv.zipper()\n",
    "x_train, x_test = model_train(X_train, X_test)\n",
    "result = OCSVM(x_train, x_test, y_tr, y_ts)\n",
    "res.append(result)"
   ]
  },
  {
   "cell_type": "code",
   "execution_count": 10,
   "id": "8ebc55f5",
   "metadata": {},
   "outputs": [
    {
     "name": "stdout",
     "output_type": "stream",
     "text": [
      "roc_auc :  0.707583196944899\n",
      "f1_score :  0.2893081761006289\n",
      "accuracy_score :  0.32335329341317365\n",
      "best_params :  {'gamma': 1e-06, 'kernel': 'rbf', 'nu': 0.0078125}\n"
     ]
    }
   ],
   "source": [
    "# X_train, X_test, X_test_good, X_test_error, y_tr, y_tg, y_te, y_ts = mv.bottle()\n",
    "# X_train, X_test, X_test_good, X_test_error, y_tr, y_tg, y_te, y_ts = mv.cable()\n",
    "# X_train, X_test, X_test_good, X_test_error, y_tr, y_tg, y_te, y_ts = mv.capsule()\n",
    "# X_train, X_test, X_test_good, X_test_error, y_tr, y_tg, y_te, y_ts = mv.carpet()\n",
    "# X_train, X_test, X_test_good, X_test_error, y_tr, y_tg, y_te, y_ts = mv.grid()\n",
    "# X_train, X_test, X_test_good, X_test_error, y_tr, y_tg, y_te, y_ts = mv.hazelnut()\n",
    "# X_train, X_test, X_test_good, X_test_error, y_tr, y_tg, y_te, y_ts = mv.leather()\n",
    "# X_train, X_test, X_test_good, X_test_error, y_tr, y_tg, y_te, y_ts = mv.metal_nut()\n",
    "X_train, X_test, X_test_good, X_test_error, y_tr, y_tg, y_te, y_ts = mv.pill()\n",
    "# X_train, X_test, X_test_good, X_test_error, y_tr, y_tg, y_te, y_ts = mv.screw()\n",
    "# X_train, X_test, X_test_good, X_test_error, y_tr, y_tg, y_te, y_ts = mv.tile()\n",
    "# X_train, X_test, X_test_good, X_test_error, y_tr, y_tg, y_te, y_ts = mv.toothbrush()\n",
    "# X_train, X_test, X_test_good, X_test_error, y_tr, y_tg, y_te, y_ts = mv.transistor()\n",
    "# X_train, X_test, X_test_good, X_test_error, y_tr, y_tg, y_te, y_ts = mv.wood()\n",
    "# X_train, X_test, X_test_good, X_test_error, y_tr, y_tg, y_te, y_ts = mv.zipper()\n",
    "x_train, x_test = model_train(X_train, X_test)\n",
    "result = OCSVM(x_train, x_test, y_tr, y_ts)\n",
    "res.append(result)"
   ]
  },
  {
   "cell_type": "code",
   "execution_count": 11,
   "id": "81c4a83d",
   "metadata": {},
   "outputs": [
    {
     "name": "stdout",
     "output_type": "stream",
     "text": [
      "roc_auc :  0.3693379790940767\n",
      "f1_score :  0.358695652173913\n",
      "accuracy_score :  0.2625\n",
      "best_params :  {'gamma': 1e-06, 'kernel': 'rbf', 'nu': 0.03125}\n"
     ]
    }
   ],
   "source": [
    "# X_train, X_test, X_test_good, X_test_error, y_tr, y_tg, y_te, y_ts = mv.bottle()\n",
    "# X_train, X_test, X_test_good, X_test_error, y_tr, y_tg, y_te, y_ts = mv.cable()\n",
    "# X_train, X_test, X_test_good, X_test_error, y_tr, y_tg, y_te, y_ts = mv.capsule()\n",
    "# X_train, X_test, X_test_good, X_test_error, y_tr, y_tg, y_te, y_ts = mv.carpet()\n",
    "# X_train, X_test, X_test_good, X_test_error, y_tr, y_tg, y_te, y_ts = mv.grid()\n",
    "# X_train, X_test, X_test_good, X_test_error, y_tr, y_tg, y_te, y_ts = mv.hazelnut()\n",
    "# X_train, X_test, X_test_good, X_test_error, y_tr, y_tg, y_te, y_ts = mv.leather()\n",
    "# X_train, X_test, X_test_good, X_test_error, y_tr, y_tg, y_te, y_ts = mv.metal_nut()\n",
    "# X_train, X_test, X_test_good, X_test_error, y_tr, y_tg, y_te, y_ts = mv.pill()\n",
    "X_train, X_test, X_test_good, X_test_error, y_tr, y_tg, y_te, y_ts = mv.screw()\n",
    "# X_train, X_test, X_test_good, X_test_error, y_tr, y_tg, y_te, y_ts = mv.tile()\n",
    "# X_train, X_test, X_test_good, X_test_error, y_tr, y_tg, y_te, y_ts = mv.toothbrush()\n",
    "# X_train, X_test, X_test_good, X_test_error, y_tr, y_tg, y_te, y_ts = mv.transistor()\n",
    "# X_train, X_test, X_test_good, X_test_error, y_tr, y_tg, y_te, y_ts = mv.wood()\n",
    "# X_train, X_test, X_test_good, X_test_error, y_tr, y_tg, y_te, y_ts = mv.zipper()\n",
    "x_train, x_test = model_train(X_train, X_test)\n",
    "result = OCSVM(x_train, x_test, y_tr, y_ts)\n",
    "res.append(result)"
   ]
  },
  {
   "cell_type": "code",
   "execution_count": 12,
   "id": "fc4bce90",
   "metadata": {},
   "outputs": [
    {
     "name": "stdout",
     "output_type": "stream",
     "text": [
      "roc_auc :  0.9401154401154401\n",
      "f1_score :  0.8048780487804877\n",
      "accuracy_score :  0.8632478632478633\n",
      "best_params :  {'gamma': 1e-05, 'kernel': 'rbf', 'nu': 0.015625}\n"
     ]
    }
   ],
   "source": [
    "# X_train, X_test, X_test_good, X_test_error, y_tr, y_tg, y_te, y_ts = mv.bottle()\n",
    "# X_train, X_test, X_test_good, X_test_error, y_tr, y_tg, y_te, y_ts = mv.cable()\n",
    "# X_train, X_test, X_test_good, X_test_error, y_tr, y_tg, y_te, y_ts = mv.capsule()\n",
    "# X_train, X_test, X_test_good, X_test_error, y_tr, y_tg, y_te, y_ts = mv.carpet()\n",
    "# X_train, X_test, X_test_good, X_test_error, y_tr, y_tg, y_te, y_ts = mv.grid()\n",
    "# X_train, X_test, X_test_good, X_test_error, y_tr, y_tg, y_te, y_ts = mv.hazelnut()\n",
    "# X_train, X_test, X_test_good, X_test_error, y_tr, y_tg, y_te, y_ts = mv.leather()\n",
    "# X_train, X_test, X_test_good, X_test_error, y_tr, y_tg, y_te, y_ts = mv.metal_nut()\n",
    "# X_train, X_test, X_test_good, X_test_error, y_tr, y_tg, y_te, y_ts = mv.pill()\n",
    "# X_train, X_test, X_test_good, X_test_error, y_tr, y_tg, y_te, y_ts = mv.screw()\n",
    "X_train, X_test, X_test_good, X_test_error, y_tr, y_tg, y_te, y_ts = mv.tile()\n",
    "# X_train, X_test, X_test_good, X_test_error, y_tr, y_tg, y_te, y_ts = mv.toothbrush()\n",
    "# X_train, X_test, X_test_good, X_test_error, y_tr, y_tg, y_te, y_ts = mv.transistor()\n",
    "# X_train, X_test, X_test_good, X_test_error, y_tr, y_tg, y_te, y_ts = mv.wood()\n",
    "# X_train, X_test, X_test_good, X_test_error, y_tr, y_tg, y_te, y_ts = mv.zipper()\n",
    "x_train, x_test = model_train(X_train, X_test)\n",
    "result = OCSVM(x_train, x_test, y_tr, y_ts)\n",
    "res.append(result)"
   ]
  },
  {
   "cell_type": "code",
   "execution_count": 13,
   "id": "534fffdc",
   "metadata": {},
   "outputs": [
    {
     "name": "stdout",
     "output_type": "stream",
     "text": [
      "roc_auc :  0.8194444444444444\n",
      "f1_score :  0.6451612903225806\n",
      "accuracy_score :  0.7380952380952381\n",
      "best_params :  {'gamma': 1e-06, 'kernel': 'rbf', 'nu': 0.015625}\n"
     ]
    }
   ],
   "source": [
    "# X_train, X_test, X_test_good, X_test_error, y_tr, y_tg, y_te, y_ts = mv.bottle()\n",
    "# X_train, X_test, X_test_good, X_test_error, y_tr, y_tg, y_te, y_ts = mv.cable()\n",
    "# X_train, X_test, X_test_good, X_test_error, y_tr, y_tg, y_te, y_ts = mv.capsule()\n",
    "# X_train, X_test, X_test_good, X_test_error, y_tr, y_tg, y_te, y_ts = mv.carpet()\n",
    "# X_train, X_test, X_test_good, X_test_error, y_tr, y_tg, y_te, y_ts = mv.grid()\n",
    "# X_train, X_test, X_test_good, X_test_error, y_tr, y_tg, y_te, y_ts = mv.hazelnut()\n",
    "# X_train, X_test, X_test_good, X_test_error, y_tr, y_tg, y_te, y_ts = mv.leather()\n",
    "# X_train, X_test, X_test_good, X_test_error, y_tr, y_tg, y_te, y_ts = mv.metal_nut()\n",
    "# X_train, X_test, X_test_good, X_test_error, y_tr, y_tg, y_te, y_ts = mv.pill()\n",
    "# X_train, X_test, X_test_good, X_test_error, y_tr, y_tg, y_te, y_ts = mv.screw()\n",
    "# X_train, X_test, X_test_good, X_test_error, y_tr, y_tg, y_te, y_ts = mv.tile()\n",
    "X_train, X_test, X_test_good, X_test_error, y_tr, y_tg, y_te, y_ts = mv.toothbrush()\n",
    "# X_train, X_test, X_test_good, X_test_error, y_tr, y_tg, y_te, y_ts = mv.transistor()\n",
    "# X_train, X_test, X_test_good, X_test_error, y_tr, y_tg, y_te, y_ts = mv.wood()\n",
    "# X_train, X_test, X_test_good, X_test_error, y_tr, y_tg, y_te, y_ts = mv.zipper()\n",
    "x_train, x_test = model_train(X_train, X_test)\n",
    "result = OCSVM(x_train, x_test, y_tr, y_ts)\n",
    "res.append(result)"
   ]
  },
  {
   "cell_type": "code",
   "execution_count": 14,
   "id": "8e275d11",
   "metadata": {},
   "outputs": [
    {
     "name": "stdout",
     "output_type": "stream",
     "text": [
      "roc_auc :  0.8391666666666666\n",
      "f1_score :  0.8489208633093525\n",
      "accuracy_score :  0.79\n",
      "best_params :  {'gamma': 1e-07, 'kernel': 'rbf', 'nu': 0.015625}\n"
     ]
    }
   ],
   "source": [
    "# X_train, X_test, X_test_good, X_test_error, y_tr, y_tg, y_te, y_ts = mv.bottle()\n",
    "# X_train, X_test, X_test_good, X_test_error, y_tr, y_tg, y_te, y_ts = mv.cable()\n",
    "# X_train, X_test, X_test_good, X_test_error, y_tr, y_tg, y_te, y_ts = mv.capsule()\n",
    "# X_train, X_test, X_test_good, X_test_error, y_tr, y_tg, y_te, y_ts = mv.carpet()\n",
    "# X_train, X_test, X_test_good, X_test_error, y_tr, y_tg, y_te, y_ts = mv.grid()\n",
    "# X_train, X_test, X_test_good, X_test_error, y_tr, y_tg, y_te, y_ts = mv.hazelnut()\n",
    "# X_train, X_test, X_test_good, X_test_error, y_tr, y_tg, y_te, y_ts = mv.leather()\n",
    "# X_train, X_test, X_test_good, X_test_error, y_tr, y_tg, y_te, y_ts = mv.metal_nut()\n",
    "# X_train, X_test, X_test_good, X_test_error, y_tr, y_tg, y_te, y_ts = mv.pill()\n",
    "# X_train, X_test, X_test_good, X_test_error, y_tr, y_tg, y_te, y_ts = mv.screw()\n",
    "# X_train, X_test, X_test_good, X_test_error, y_tr, y_tg, y_te, y_ts = mv.tile()\n",
    "# X_train, X_test, X_test_good, X_test_error, y_tr, y_tg, y_te, y_ts = mv.toothbrush()\n",
    "X_train, X_test, X_test_good, X_test_error, y_tr, y_tg, y_te, y_ts = mv.transistor()\n",
    "# X_train, X_test, X_test_good, X_test_error, y_tr, y_tg, y_te, y_ts = mv.wood()\n",
    "# X_train, X_test, X_test_good, X_test_error, y_tr, y_tg, y_te, y_ts = mv.zipper()\n",
    "x_train, x_test = model_train(X_train, X_test)\n",
    "result = OCSVM(x_train, x_test, y_tr, y_ts)\n",
    "res.append(result)"
   ]
  },
  {
   "cell_type": "code",
   "execution_count": 15,
   "id": "576d9e61",
   "metadata": {},
   "outputs": [
    {
     "name": "stdout",
     "output_type": "stream",
     "text": [
      "roc_auc :  0.9754385964912281\n",
      "f1_score :  0.8571428571428571\n",
      "accuracy_score :  0.9240506329113924\n",
      "best_params :  {'gamma': 1e-06, 'kernel': 'rbf', 'nu': 0.0078125}\n"
     ]
    }
   ],
   "source": [
    "# X_train, X_test, X_test_good, X_test_error, y_tr, y_tg, y_te, y_ts = mv.bottle()\n",
    "# X_train, X_test, X_test_good, X_test_error, y_tr, y_tg, y_te, y_ts = mv.cable()\n",
    "# X_train, X_test, X_test_good, X_test_error, y_tr, y_tg, y_te, y_ts = mv.capsule()\n",
    "# X_train, X_test, X_test_good, X_test_error, y_tr, y_tg, y_te, y_ts = mv.carpet()\n",
    "# X_train, X_test, X_test_good, X_test_error, y_tr, y_tg, y_te, y_ts = mv.grid()\n",
    "# X_train, X_test, X_test_good, X_test_error, y_tr, y_tg, y_te, y_ts = mv.hazelnut()\n",
    "# X_train, X_test, X_test_good, X_test_error, y_tr, y_tg, y_te, y_ts = mv.leather()\n",
    "# X_train, X_test, X_test_good, X_test_error, y_tr, y_tg, y_te, y_ts = mv.metal_nut()\n",
    "# X_train, X_test, X_test_good, X_test_error, y_tr, y_tg, y_te, y_ts = mv.pill()\n",
    "# X_train, X_test, X_test_good, X_test_error, y_tr, y_tg, y_te, y_ts = mv.screw()\n",
    "# X_train, X_test, X_test_good, X_test_error, y_tr, y_tg, y_te, y_ts = mv.tile()\n",
    "# X_train, X_test, X_test_good, X_test_error, y_tr, y_tg, y_te, y_ts = mv.toothbrush()\n",
    "# X_train, X_test, X_test_good, X_test_error, y_tr, y_tg, y_te, y_ts = mv.transistor()\n",
    "X_train, X_test, X_test_good, X_test_error, y_tr, y_tg, y_te, y_ts = mv.wood()\n",
    "# X_train, X_test, X_test_good, X_test_error, y_tr, y_tg, y_te, y_ts = mv.zipper()\n",
    "x_train, x_test = model_train(X_train, X_test)\n",
    "result = OCSVM(x_train, x_test, y_tr, y_ts)\n",
    "res.append(result)"
   ]
  },
  {
   "cell_type": "code",
   "execution_count": 16,
   "id": "85b55cd6",
   "metadata": {},
   "outputs": [
    {
     "name": "stdout",
     "output_type": "stream",
     "text": [
      "roc_auc :  0.8308823529411764\n",
      "f1_score :  0.48387096774193544\n",
      "accuracy_score :  0.5761589403973509\n",
      "best_params :  {'gamma': 1e-06, 'kernel': 'rbf', 'nu': 0.015625}\n"
     ]
    }
   ],
   "source": [
    "# X_train, X_test, X_test_good, X_test_error, y_tr, y_tg, y_te, y_ts = mv.bottle()\n",
    "# X_train, X_test, X_test_good, X_test_error, y_tr, y_tg, y_te, y_ts = mv.cable()\n",
    "# X_train, X_test, X_test_good, X_test_error, y_tr, y_tg, y_te, y_ts = mv.capsule()\n",
    "# X_train, X_test, X_test_good, X_test_error, y_tr, y_tg, y_te, y_ts = mv.carpet()\n",
    "# X_train, X_test, X_test_good, X_test_error, y_tr, y_tg, y_te, y_ts = mv.grid()\n",
    "# X_train, X_test, X_test_good, X_test_error, y_tr, y_tg, y_te, y_ts = mv.hazelnut()\n",
    "# X_train, X_test, X_test_good, X_test_error, y_tr, y_tg, y_te, y_ts = mv.leather()\n",
    "# X_train, X_test, X_test_good, X_test_error, y_tr, y_tg, y_te, y_ts = mv.metal_nut()\n",
    "# X_train, X_test, X_test_good, X_test_error, y_tr, y_tg, y_te, y_ts = mv.pill()\n",
    "# X_train, X_test, X_test_good, X_test_error, y_tr, y_tg, y_te, y_ts = mv.screw()\n",
    "# X_train, X_test, X_test_good, X_test_error, y_tr, y_tg, y_te, y_ts = mv.tile()\n",
    "# X_train, X_test, X_test_good, X_test_error, y_tr, y_tg, y_te, y_ts = mv.toothbrush()\n",
    "# X_train, X_test, X_test_good, X_test_error, y_tr, y_tg, y_te, y_ts = mv.transistor()\n",
    "# X_train, X_test, X_test_good, X_test_error, y_tr, y_tg, y_te, y_ts = mv.wood()\n",
    "X_train, X_test, X_test_good, X_test_error, y_tr, y_tg, y_te, y_ts = mv.zipper()\n",
    "x_train, x_test = model_train(X_train, X_test)\n",
    "result = OCSVM(x_train, x_test, y_tr, y_ts)\n",
    "res.append(result)"
   ]
  },
  {
   "cell_type": "code",
   "execution_count": 17,
   "id": "b239705b",
   "metadata": {},
   "outputs": [],
   "source": [
    "df = pd.DataFrame(res)\n",
    "df.to_csv('DCAEOCSVM_Nop.csv')"
   ]
  },
  {
   "cell_type": "code",
   "execution_count": null,
   "id": "d5cae7ba",
   "metadata": {},
   "outputs": [],
   "source": []
  }
 ],
 "metadata": {
  "kernelspec": {
   "display_name": "Python 3 (ipykernel)",
   "language": "python",
   "name": "python3"
  },
  "language_info": {
   "codemirror_mode": {
    "name": "ipython",
    "version": 3
   },
   "file_extension": ".py",
   "mimetype": "text/x-python",
   "name": "python",
   "nbconvert_exporter": "python",
   "pygments_lexer": "ipython3",
   "version": "3.9.17"
  }
 },
 "nbformat": 4,
 "nbformat_minor": 5
}
