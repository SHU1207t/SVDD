{
 "cells": [
  {
   "cell_type": "code",
   "execution_count": 1,
   "id": "d3aa8fe0",
   "metadata": {},
   "outputs": [],
   "source": [
    "import MVTecAD_loaddata as mv\n",
    "import matplotlib.pyplot as plt\n",
    "import numpy as np\n",
    "import os\n",
    "from keras.datasets import mnist\n",
    "from keras.layers import Activation, BatchNormalization, Dense, Dropout, Flatten, Reshape\n",
    "from keras.layers import LeakyReLU\n",
    "from keras.layers.convolutional import Conv2D, Conv2DTranspose\n",
    "from keras.models import Sequential\n",
    "from keras.optimizers import Adam\n",
    "from tensorflow.keras.utils import load_img, img_to_array, array_to_img\n",
    "#モデルの可視化\n",
    "#from tensorflow.python.keras.utils.vis_utils import plot_model\n",
    "\n",
    "from keras.utils.vis_utils import plot_model\n",
    "from keras.models import load_model\t\n",
    "import glob\n",
    "\n",
    "# Kerasライブラリのインポート\n",
    "import keras\n",
    "from keras.datasets import cifar10\n",
    "from keras.models import Sequential, Model\n",
    "from keras.layers import Dense, Reshape, Input, BatchNormalization, LeakyReLU, Conv2DTranspose, Conv2D\n",
    "\n",
    "import os\n",
    "import sys\n",
    "import csv\n",
    "import numpy as np\n",
    "import matplotlib.pyplot as plt\n",
    "import tensorflow as tf\n",
    "from tensorflow.keras.models import Model\n",
    "from tensorflow.keras.layers import Dense, UpSampling2D, Conv2D, Conv2DTranspose, Reshape, Input\n",
    "from tensorflow.keras import optimizers\n",
    "from efficientnet.tfkeras import EfficientNetB2, preprocess_input\n",
    "import sklearn\n",
    "from sklearn.model_selection import train_test_split, GridSearchCV\n",
    "from sklearn.svm import OneClassSVM\n",
    "from sklearn.metrics import roc_auc_score, f1_score, accuracy_score\n",
    "import cv2\n",
    "import MVTecAD_loaddata as mv\n",
    "import pandas as pd"
   ]
  },
  {
   "cell_type": "code",
   "execution_count": 44,
   "id": "38e6e52d",
   "metadata": {},
   "outputs": [],
   "source": [
    "def OCSVM(X, x_test, y, y_test):\n",
    "    tuned_parameters = [\n",
    "        {'nu': [2**-3, 2**-4, 2**-5, 2**-6], 'kernel': ['rbf'], 'gamma': [10**-4, 10**-5, 10**-6]},\n",
    "    ]\n",
    "    score = 'accuracy'\n",
    "    clf = GridSearchCV(\n",
    "        OneClassSVM(),\n",
    "        tuned_parameters,\n",
    "        cv=5,\n",
    "        scoring=score)\n",
    "    clf.fit(X, y)\n",
    "    a = clf.decision_function(x_test)\n",
    "    b = clf.predict(x_test)\n",
    "    r1 = roc_auc_score(y_test,a)\n",
    "    r2 = f1_score(y_test,b)\n",
    "    r3 = accuracy_score(y_test,b)\n",
    "    print('roc_auc : ',r1)\n",
    "    print('f1_score : ', r2)\n",
    "    print('accuracy_score : ', r3)\n",
    "    print('best_params : ', clf.best_params_)\n",
    "    result = [r1,r2,r3]\n",
    "    return result\n",
    "res = []"
   ]
  },
  {
   "cell_type": "code",
   "execution_count": 45,
   "id": "60afe2f7",
   "metadata": {},
   "outputs": [],
   "source": [
    "X_train, X_test, X_test_good, X_test_error, y_tr, y_tg, y_te, y_ts = mv.bottle()\n",
    "# X_train, X_test, X_test_good, X_test_error, y_tr, y_tg, y_te, y_ts = mv.cable()\n",
    "# X_train, X_test, X_test_good, X_test_error, y_tr, y_tg, y_te, y_ts = mv.capsule()\n",
    "# X_train, X_test, X_test_good, X_test_error, y_tr, y_tg, y_te, y_ts = mv.carpet()\n",
    "# X_train, X_test, X_test_good, X_test_error, y_tr, y_tg, y_te, y_ts = mv.grid()\n",
    "# X_train, X_test, X_test_good, X_test_error, y_tr, y_tg, y_te, y_ts = mv.hazelnut()\n",
    "# X_train, X_test, X_test_good, X_test_error, y_tr, y_tg, y_te, y_ts = mv.leather()\n",
    "# X_train, X_test, X_test_good, X_test_error, y_tr, y_tg, y_te, y_ts = mv.metal_nut()\n",
    "# X_train, X_test, X_test_good, X_test_error, y_tr, y_tg, y_te, y_ts = mv.pill()\n",
    "# X_train, X_test, X_test_good, X_test_error, y_tr, y_tg, y_te, y_ts = mv.screw()\n",
    "# X_train, X_test, X_test_good, X_test_error, y_tr, y_tg, y_te, y_ts = mv.tile()\n",
    "# X_train, X_test, X_test_good, X_test_error, y_tr, y_tg, y_te, y_ts = mv.toothbrush()\n",
    "# X_train, X_test, X_test_good, X_test_error, y_tr, y_tg, y_te, y_ts = mv.transistor()\n",
    "# X_train, X_test, X_test_good, X_test_error, y_tr, y_tg, y_te, y_ts = mv.wood()\n",
    "# X_train, X_test, X_test_good, X_test_error, y_tr, y_tg, y_te, y_ts = mv.zipper()\n",
    "\n",
    "x_train = np.reshape(X_train, (len(X_train), -1))\n",
    "x_test = np.reshape(X_test, (len(X_test), -1))\n",
    "result = OCSVM(x_train, x_test, y_tr, y_ts)\n",
    "res.append(result)"
   ]
  },
  {
   "cell_type": "code",
   "execution_count": 46,
   "id": "bd085260",
   "metadata": {},
   "outputs": [
    {
     "name": "stdout",
     "output_type": "stream",
     "text": [
      "roc_auc :  0.6944911690496215\n",
      "f1_score :  0.6586826347305389\n",
      "accuracy_score :  0.5928571428571429\n",
      "best_params :  {'gamma': 1e-05, 'kernel': 'rbf', 'nu': 0.03125}\n"
     ]
    }
   ],
   "source": [
    "# X_train, X_test, X_test_good, X_test_error, y_tr, y_tg, y_te, y_ts = mv.bottle()\n",
    "X_train, X_test, X_test_good, X_test_error, y_tr, y_tg, y_te, y_ts = mv.cable()\n",
    "# X_train, X_test, X_test_good, X_test_error, y_tr, y_tg, y_te, y_ts = mv.capsule()\n",
    "# X_train, X_test, X_test_good, X_test_error, y_tr, y_tg, y_te, y_ts = mv.carpet()\n",
    "# X_train, X_test, X_test_good, X_test_error, y_tr, y_tg, y_te, y_ts = mv.grid()\n",
    "# X_train, X_test, X_test_good, X_test_error, y_tr, y_tg, y_te, y_ts = mv.hazelnut()\n",
    "# X_train, X_test, X_test_good, X_test_error, y_tr, y_tg, y_te, y_ts = mv.leather()\n",
    "# X_train, X_test, X_test_good, X_test_error, y_tr, y_tg, y_te, y_ts = mv.metal_nut()\n",
    "# X_train, X_test, X_test_good, X_test_error, y_tr, y_tg, y_te, y_ts = mv.pill()\n",
    "# X_train, X_test, X_test_good, X_test_error, y_tr, y_tg, y_te, y_ts = mv.screw()\n",
    "# X_train, X_test, X_test_good, X_test_error, y_tr, y_tg, y_te, y_ts = mv.tile()\n",
    "# X_train, X_test, X_test_good, X_test_error, y_tr, y_tg, y_te, y_ts = mv.toothbrush()\n",
    "# X_train, X_test, X_test_good, X_test_error, y_tr, y_tg, y_te, y_ts = mv.transistor()\n",
    "# X_train, X_test, X_test_good, X_test_error, y_tr, y_tg, y_te, y_ts = mv.wood()\n",
    "# X_train, X_test, X_test_good, X_test_error, y_tr, y_tg, y_te, y_ts = mv.zipper()\n",
    "\n",
    "x_train = np.reshape(X_train, (len(X_train), -1))\n",
    "x_test = np.reshape(X_test, (len(X_test), -1))\n",
    "result = OCSVM(x_train, x_test, y_tr, y_ts)\n",
    "res.append(result)"
   ]
  },
  {
   "cell_type": "code",
   "execution_count": 47,
   "id": "b0095ce7",
   "metadata": {},
   "outputs": [
    {
     "name": "stdout",
     "output_type": "stream",
     "text": [
      "roc_auc :  0.5321100917431192\n",
      "f1_score :  0.29729729729729726\n",
      "accuracy_score :  0.21212121212121213\n",
      "best_params :  {'gamma': 1e-06, 'kernel': 'rbf', 'nu': 0.03125}\n"
     ]
    }
   ],
   "source": [
    "# X_train, X_test, X_test_good, X_test_error, y_tr, y_tg, y_te, y_ts = mv.bottle()\n",
    "# X_train, X_test, X_test_good, X_test_error, y_tr, y_tg, y_te, y_ts = mv.cable()\n",
    "X_train, X_test, X_test_good, X_test_error, y_tr, y_tg, y_te, y_ts = mv.capsule()\n",
    "# X_train, X_test, X_test_good, X_test_error, y_tr, y_tg, y_te, y_ts = mv.carpet()\n",
    "# X_train, X_test, X_test_good, X_test_error, y_tr, y_tg, y_te, y_ts = mv.grid()\n",
    "# X_train, X_test, X_test_good, X_test_error, y_tr, y_tg, y_te, y_ts = mv.hazelnut()\n",
    "# X_train, X_test, X_test_good, X_test_error, y_tr, y_tg, y_te, y_ts = mv.leather()\n",
    "# X_train, X_test, X_test_good, X_test_error, y_tr, y_tg, y_te, y_ts = mv.metal_nut()\n",
    "# X_train, X_test, X_test_good, X_test_error, y_tr, y_tg, y_te, y_ts = mv.pill()\n",
    "# X_train, X_test, X_test_good, X_test_error, y_tr, y_tg, y_te, y_ts = mv.screw()\n",
    "# X_train, X_test, X_test_good, X_test_error, y_tr, y_tg, y_te, y_ts = mv.tile()\n",
    "# X_train, X_test, X_test_good, X_test_error, y_tr, y_tg, y_te, y_ts = mv.toothbrush()\n",
    "# X_train, X_test, X_test_good, X_test_error, y_tr, y_tg, y_te, y_ts = mv.transistor()\n",
    "# X_train, X_test, X_test_good, X_test_error, y_tr, y_tg, y_te, y_ts = mv.wood()\n",
    "# X_train, X_test, X_test_good, X_test_error, y_tr, y_tg, y_te, y_ts = mv.zipper()\n",
    "\n",
    "x_train = np.reshape(X_train, (len(X_train), -1))\n",
    "x_test = np.reshape(X_test, (len(X_test), -1))\n",
    "result = OCSVM(x_train, x_test, y_tr, y_ts)\n",
    "res.append(result)"
   ]
  },
  {
   "cell_type": "code",
   "execution_count": 48,
   "id": "31e59e26",
   "metadata": {},
   "outputs": [
    {
     "name": "stdout",
     "output_type": "stream",
     "text": [
      "roc_auc :  0.44775132275132273\n",
      "f1_score :  0.34146341463414637\n",
      "accuracy_score :  0.20588235294117646\n",
      "best_params :  {'gamma': 1e-06, 'kernel': 'rbf', 'nu': 0.03125}\n"
     ]
    }
   ],
   "source": [
    "# X_train, X_test, X_test_good, X_test_error, y_tr, y_tg, y_te, y_ts = mv.bottle()\n",
    "# X_train, X_test, X_test_good, X_test_error, y_tr, y_tg, y_te, y_ts = mv.cable()\n",
    "# X_train, X_test, X_test_good, X_test_error, y_tr, y_tg, y_te, y_ts = mv.capsule()\n",
    "X_train, X_test, X_test_good, X_test_error, y_tr, y_tg, y_te, y_ts = mv.carpet()\n",
    "# X_train, X_test, X_test_good, X_test_error, y_tr, y_tg, y_te, y_ts = mv.grid()\n",
    "# X_train, X_test, X_test_good, X_test_error, y_tr, y_tg, y_te, y_ts = mv.hazelnut()\n",
    "# X_train, X_test, X_test_good, X_test_error, y_tr, y_tg, y_te, y_ts = mv.leather()\n",
    "# X_train, X_test, X_test_good, X_test_error, y_tr, y_tg, y_te, y_ts = mv.metal_nut()\n",
    "# X_train, X_test, X_test_good, X_test_error, y_tr, y_tg, y_te, y_ts = mv.pill()\n",
    "# X_train, X_test, X_test_good, X_test_error, y_tr, y_tg, y_te, y_ts = mv.screw()\n",
    "# X_train, X_test, X_test_good, X_test_error, y_tr, y_tg, y_te, y_ts = mv.tile()\n",
    "# X_train, X_test, X_test_good, X_test_error, y_tr, y_tg, y_te, y_ts = mv.toothbrush()\n",
    "# X_train, X_test, X_test_good, X_test_error, y_tr, y_tg, y_te, y_ts = mv.transistor()\n",
    "# X_train, X_test, X_test_good, X_test_error, y_tr, y_tg, y_te, y_ts = mv.wood()\n",
    "# X_train, X_test, X_test_good, X_test_error, y_tr, y_tg, y_te, y_ts = mv.zipper()\n",
    "\n",
    "x_train = np.reshape(X_train, (len(X_train), -1))\n",
    "x_test = np.reshape(X_test, (len(X_test), -1))\n",
    "result = OCSVM(x_train, x_test, y_tr, y_ts)\n",
    "res.append(result)"
   ]
  },
  {
   "cell_type": "code",
   "execution_count": 49,
   "id": "8ef939bf",
   "metadata": {},
   "outputs": [
    {
     "name": "stdout",
     "output_type": "stream",
     "text": [
      "roc_auc :  0.4402673350041771\n",
      "f1_score :  0.42424242424242425\n",
      "accuracy_score :  0.2692307692307692\n",
      "best_params :  {'gamma': 1e-05, 'kernel': 'rbf', 'nu': 0.03125}\n"
     ]
    }
   ],
   "source": [
    "# X_train, X_test, X_test_good, X_test_error, y_tr, y_tg, y_te, y_ts = mv.bottle()\n",
    "# X_train, X_test, X_test_good, X_test_error, y_tr, y_tg, y_te, y_ts = mv.cable()\n",
    "# X_train, X_test, X_test_good, X_test_error, y_tr, y_tg, y_te, y_ts = mv.capsule()\n",
    "# X_train, X_test, X_test_good, X_test_error, y_tr, y_tg, y_te, y_ts = mv.carpet()\n",
    "X_train, X_test, X_test_good, X_test_error, y_tr, y_tg, y_te, y_ts = mv.grid()\n",
    "# X_train, X_test, X_test_good, X_test_error, y_tr, y_tg, y_te, y_ts = mv.hazelnut()\n",
    "# X_train, X_test, X_test_good, X_test_error, y_tr, y_tg, y_te, y_ts = mv.leather()\n",
    "# X_train, X_test, X_test_good, X_test_error, y_tr, y_tg, y_te, y_ts = mv.metal_nut()\n",
    "# X_train, X_test, X_test_good, X_test_error, y_tr, y_tg, y_te, y_ts = mv.pill()\n",
    "# X_train, X_test, X_test_good, X_test_error, y_tr, y_tg, y_te, y_ts = mv.screw()\n",
    "# X_train, X_test, X_test_good, X_test_error, y_tr, y_tg, y_te, y_ts = mv.tile()\n",
    "# X_train, X_test, X_test_good, X_test_error, y_tr, y_tg, y_te, y_ts = mv.toothbrush()\n",
    "# X_train, X_test, X_test_good, X_test_error, y_tr, y_tg, y_te, y_ts = mv.transistor()\n",
    "# X_train, X_test, X_test_good, X_test_error, y_tr, y_tg, y_te, y_ts = mv.wood()\n",
    "# X_train, X_test, X_test_good, X_test_error, y_tr, y_tg, y_te, y_ts = mv.zipper()\n",
    "\n",
    "x_train = np.reshape(X_train, (len(X_train), -1))\n",
    "x_test = np.reshape(X_test, (len(X_test), -1))\n",
    "result = OCSVM(x_train, x_test, y_tr, y_ts)\n",
    "res.append(result)"
   ]
  },
  {
   "cell_type": "code",
   "execution_count": 50,
   "id": "8d1f23b2",
   "metadata": {},
   "outputs": [
    {
     "name": "stdout",
     "output_type": "stream",
     "text": [
      "roc_auc :  0.7017857142857142\n",
      "f1_score :  0.5839416058394161\n",
      "accuracy_score :  0.4818181818181818\n",
      "best_params :  {'gamma': 1e-05, 'kernel': 'rbf', 'nu': 0.015625}\n"
     ]
    }
   ],
   "source": [
    "# X_train, X_test, X_test_good, X_test_error, y_tr, y_tg, y_te, y_ts = mv.bottle()\n",
    "# X_train, X_test, X_test_good, X_test_error, y_tr, y_tg, y_te, y_ts = mv.cable()\n",
    "# X_train, X_test, X_test_good, X_test_error, y_tr, y_tg, y_te, y_ts = mv.capsule()\n",
    "# X_train, X_test, X_test_good, X_test_error, y_tr, y_tg, y_te, y_ts = mv.carpet()\n",
    "# X_train, X_test, X_test_good, X_test_error, y_tr, y_tg, y_te, y_ts = mv.grid()\n",
    "X_train, X_test, X_test_good, X_test_error, y_tr, y_tg, y_te, y_ts = mv.hazelnut()\n",
    "# X_train, X_test, X_test_good, X_test_error, y_tr, y_tg, y_te, y_ts = mv.leather()\n",
    "# X_train, X_test, X_test_good, X_test_error, y_tr, y_tg, y_te, y_ts = mv.metal_nut()\n",
    "# X_train, X_test, X_test_good, X_test_error, y_tr, y_tg, y_te, y_ts = mv.pill()\n",
    "# X_train, X_test, X_test_good, X_test_error, y_tr, y_tg, y_te, y_ts = mv.screw()\n",
    "# X_train, X_test, X_test_good, X_test_error, y_tr, y_tg, y_te, y_ts = mv.tile()\n",
    "# X_train, X_test, X_test_good, X_test_error, y_tr, y_tg, y_te, y_ts = mv.toothbrush()\n",
    "# X_train, X_test, X_test_good, X_test_error, y_tr, y_tg, y_te, y_ts = mv.transistor()\n",
    "# X_train, X_test, X_test_good, X_test_error, y_tr, y_tg, y_te, y_ts = mv.wood()\n",
    "# X_train, X_test, X_test_good, X_test_error, y_tr, y_tg, y_te, y_ts = mv.zipper()\n",
    "\n",
    "x_train = np.reshape(X_train, (len(X_train), -1))\n",
    "x_test = np.reshape(X_test, (len(X_test), -1))\n",
    "result = OCSVM(x_train, x_test, y_tr, y_ts)\n",
    "res.append(result)"
   ]
  },
  {
   "cell_type": "code",
   "execution_count": 51,
   "id": "74810644",
   "metadata": {},
   "outputs": [
    {
     "name": "stdout",
     "output_type": "stream",
     "text": [
      "roc_auc :  0.44259510869565216\n",
      "f1_score :  0.0\n",
      "accuracy_score :  0.5564516129032258\n",
      "best_params :  {'gamma': 0.0001, 'kernel': 'rbf', 'nu': 0.015625}\n"
     ]
    }
   ],
   "source": [
    "# X_train, X_test, X_test_good, X_test_error, y_tr, y_tg, y_te, y_ts = mv.bottle()\n",
    "# X_train, X_test, X_test_good, X_test_error, y_tr, y_tg, y_te, y_ts = mv.cable()\n",
    "# X_train, X_test, X_test_good, X_test_error, y_tr, y_tg, y_te, y_ts = mv.capsule()\n",
    "# X_train, X_test, X_test_good, X_test_error, y_tr, y_tg, y_te, y_ts = mv.carpet()\n",
    "# X_train, X_test, X_test_good, X_test_error, y_tr, y_tg, y_te, y_ts = mv.grid()\n",
    "# X_train, X_test, X_test_good, X_test_error, y_tr, y_tg, y_te, y_ts = mv.hazelnut()\n",
    "X_train, X_test, X_test_good, X_test_error, y_tr, y_tg, y_te, y_ts = mv.leather()\n",
    "# X_train, X_test, X_test_good, X_test_error, y_tr, y_tg, y_te, y_ts = mv.metal_nut()\n",
    "# X_train, X_test, X_test_good, X_test_error, y_tr, y_tg, y_te, y_ts = mv.pill()\n",
    "# X_train, X_test, X_test_good, X_test_error, y_tr, y_tg, y_te, y_ts = mv.screw()\n",
    "# X_train, X_test, X_test_good, X_test_error, y_tr, y_tg, y_te, y_ts = mv.tile()\n",
    "# X_train, X_test, X_test_good, X_test_error, y_tr, y_tg, y_te, y_ts = mv.toothbrush()\n",
    "# X_train, X_test, X_test_good, X_test_error, y_tr, y_tg, y_te, y_ts = mv.transistor()\n",
    "# X_train, X_test, X_test_good, X_test_error, y_tr, y_tg, y_te, y_ts = mv.wood()\n",
    "# X_train, X_test, X_test_good, X_test_error, y_tr, y_tg, y_te, y_ts = mv.zipper()\n",
    "\n",
    "x_train = np.reshape(X_train, (len(X_train), -1))\n",
    "x_test = np.reshape(X_test, (len(X_test), -1))\n",
    "result = OCSVM(x_train, x_test, y_tr, y_ts)\n",
    "res.append(result)"
   ]
  },
  {
   "cell_type": "code",
   "execution_count": 52,
   "id": "cbe5f469",
   "metadata": {},
   "outputs": [
    {
     "name": "stdout",
     "output_type": "stream",
     "text": [
      "roc_auc :  0.4594330400782014\n",
      "f1_score :  0.30303030303030304\n",
      "accuracy_score :  0.2\n",
      "best_params :  {'gamma': 1e-05, 'kernel': 'rbf', 'nu': 0.03125}\n"
     ]
    }
   ],
   "source": [
    "# X_train, X_test, X_test_good, X_test_error, y_tr, y_tg, y_te, y_ts = mv.bottle()\n",
    "# X_train, X_test, X_test_good, X_test_error, y_tr, y_tg, y_te, y_ts = mv.cable()\n",
    "# X_train, X_test, X_test_good, X_test_error, y_tr, y_tg, y_te, y_ts = mv.capsule()\n",
    "# X_train, X_test, X_test_good, X_test_error, y_tr, y_tg, y_te, y_ts = mv.carpet()\n",
    "# X_train, X_test, X_test_good, X_test_error, y_tr, y_tg, y_te, y_ts = mv.grid()\n",
    "# X_train, X_test, X_test_good, X_test_error, y_tr, y_tg, y_te, y_ts = mv.hazelnut()\n",
    "# X_train, X_test, X_test_good, X_test_error, y_tr, y_tg, y_te, y_ts = mv.leather()\n",
    "X_train, X_test, X_test_good, X_test_error, y_tr, y_tg, y_te, y_ts = mv.metal_nut()\n",
    "# X_train, X_test, X_test_good, X_test_error, y_tr, y_tg, y_te, y_ts = mv.pill()\n",
    "# X_train, X_test, X_test_good, X_test_error, y_tr, y_tg, y_te, y_ts = mv.screw()\n",
    "# X_train, X_test, X_test_good, X_test_error, y_tr, y_tg, y_te, y_ts = mv.tile()\n",
    "# X_train, X_test, X_test_good, X_test_error, y_tr, y_tg, y_te, y_ts = mv.toothbrush()\n",
    "# X_train, X_test, X_test_good, X_test_error, y_tr, y_tg, y_te, y_ts = mv.transistor()\n",
    "# X_train, X_test, X_test_good, X_test_error, y_tr, y_tg, y_te, y_ts = mv.wood()\n",
    "# X_train, X_test, X_test_good, X_test_error, y_tr, y_tg, y_te, y_ts = mv.zipper()\n",
    "\n",
    "x_train = np.reshape(X_train, (len(X_train), -1))\n",
    "x_test = np.reshape(X_test, (len(X_test), -1))\n",
    "result = OCSVM(x_train, x_test, y_tr, y_ts)\n",
    "res.append(result)"
   ]
  },
  {
   "cell_type": "code",
   "execution_count": 53,
   "id": "788f5201",
   "metadata": {},
   "outputs": [
    {
     "name": "stdout",
     "output_type": "stream",
     "text": [
      "roc_auc :  0.7430441898527005\n",
      "f1_score :  0.3561643835616438\n",
      "accuracy_score :  0.437125748502994\n",
      "best_params :  {'gamma': 0.0001, 'kernel': 'rbf', 'nu': 0.015625}\n"
     ]
    }
   ],
   "source": [
    "# X_train, X_test, X_test_good, X_test_error, y_tr, y_tg, y_te, y_ts = mv.bottle()\n",
    "# X_train, X_test, X_test_good, X_test_error, y_tr, y_tg, y_te, y_ts = mv.cable()\n",
    "# X_train, X_test, X_test_good, X_test_error, y_tr, y_tg, y_te, y_ts = mv.capsule()\n",
    "# X_train, X_test, X_test_good, X_test_error, y_tr, y_tg, y_te, y_ts = mv.carpet()\n",
    "# X_train, X_test, X_test_good, X_test_error, y_tr, y_tg, y_te, y_ts = mv.grid()\n",
    "# X_train, X_test, X_test_good, X_test_error, y_tr, y_tg, y_te, y_ts = mv.hazelnut()\n",
    "# X_train, X_test, X_test_good, X_test_error, y_tr, y_tg, y_te, y_ts = mv.leather()\n",
    "# X_train, X_test, X_test_good, X_test_error, y_tr, y_tg, y_te, y_ts = mv.metal_nut()\n",
    "X_train, X_test, X_test_good, X_test_error, y_tr, y_tg, y_te, y_ts = mv.pill()\n",
    "# X_train, X_test, X_test_good, X_test_error, y_tr, y_tg, y_te, y_ts = mv.screw()\n",
    "# X_train, X_test, X_test_good, X_test_error, y_tr, y_tg, y_te, y_ts = mv.tile()\n",
    "# X_train, X_test, X_test_good, X_test_error, y_tr, y_tg, y_te, y_ts = mv.toothbrush()\n",
    "# X_train, X_test, X_test_good, X_test_error, y_tr, y_tg, y_te, y_ts = mv.transistor()\n",
    "# X_train, X_test, X_test_good, X_test_error, y_tr, y_tg, y_te, y_ts = mv.wood()\n",
    "# X_train, X_test, X_test_good, X_test_error, y_tr, y_tg, y_te, y_ts = mv.zipper()\n",
    "\n",
    "x_train = np.reshape(X_train, (len(X_train), -1))\n",
    "x_test = np.reshape(X_test, (len(X_test), -1))\n",
    "result = OCSVM(x_train, x_test, y_tr, y_ts)\n",
    "res.append(result)"
   ]
  },
  {
   "cell_type": "code",
   "execution_count": 54,
   "id": "2809e25a",
   "metadata": {},
   "outputs": [
    {
     "name": "stdout",
     "output_type": "stream",
     "text": [
      "roc_auc :  0.06189792990366878\n",
      "f1_score :  0.1954022988505747\n",
      "accuracy_score :  0.125\n",
      "best_params :  {'gamma': 1e-05, 'kernel': 'rbf', 'nu': 0.015625}\n"
     ]
    }
   ],
   "source": [
    "# X_train, X_test, X_test_good, X_test_error, y_tr, y_tg, y_te, y_ts = mv.bottle()\n",
    "# X_train, X_test, X_test_good, X_test_error, y_tr, y_tg, y_te, y_ts = mv.cable()\n",
    "# X_train, X_test, X_test_good, X_test_error, y_tr, y_tg, y_te, y_ts = mv.capsule()\n",
    "# X_train, X_test, X_test_good, X_test_error, y_tr, y_tg, y_te, y_ts = mv.carpet()\n",
    "# X_train, X_test, X_test_good, X_test_error, y_tr, y_tg, y_te, y_ts = mv.grid()\n",
    "# X_train, X_test, X_test_good, X_test_error, y_tr, y_tg, y_te, y_ts = mv.hazelnut()\n",
    "# X_train, X_test, X_test_good, X_test_error, y_tr, y_tg, y_te, y_ts = mv.leather()\n",
    "# X_train, X_test, X_test_good, X_test_error, y_tr, y_tg, y_te, y_ts = mv.metal_nut()\n",
    "# X_train, X_test, X_test_good, X_test_error, y_tr, y_tg, y_te, y_ts = mv.pill()\n",
    "X_train, X_test, X_test_good, X_test_error, y_tr, y_tg, y_te, y_ts = mv.screw()\n",
    "# X_train, X_test, X_test_good, X_test_error, y_tr, y_tg, y_te, y_ts = mv.tile()\n",
    "# X_train, X_test, X_test_good, X_test_error, y_tr, y_tg, y_te, y_ts = mv.toothbrush()\n",
    "# X_train, X_test, X_test_good, X_test_error, y_tr, y_tg, y_te, y_ts = mv.transistor()\n",
    "# X_train, X_test, X_test_good, X_test_error, y_tr, y_tg, y_te, y_ts = mv.wood()\n",
    "# X_train, X_test, X_test_good, X_test_error, y_tr, y_tg, y_te, y_ts = mv.zipper()\n",
    "\n",
    "x_train = np.reshape(X_train, (len(X_train), -1))\n",
    "x_test = np.reshape(X_test, (len(X_test), -1))\n",
    "result = OCSVM(x_train, x_test, y_tr, y_ts)\n",
    "res.append(result)"
   ]
  },
  {
   "cell_type": "code",
   "execution_count": 55,
   "id": "a17de8de",
   "metadata": {},
   "outputs": [
    {
     "name": "stdout",
     "output_type": "stream",
     "text": [
      "roc_auc :  0.7406204906204906\n",
      "f1_score :  0.4626865671641791\n",
      "accuracy_score :  0.38461538461538464\n",
      "best_params :  {'gamma': 1e-05, 'kernel': 'rbf', 'nu': 0.03125}\n"
     ]
    }
   ],
   "source": [
    "# X_train, X_test, X_test_good, X_test_error, y_tr, y_tg, y_te, y_ts = mv.bottle()\n",
    "# X_train, X_test, X_test_good, X_test_error, y_tr, y_tg, y_te, y_ts = mv.cable()\n",
    "# X_train, X_test, X_test_good, X_test_error, y_tr, y_tg, y_te, y_ts = mv.capsule()\n",
    "# X_train, X_test, X_test_good, X_test_error, y_tr, y_tg, y_te, y_ts = mv.carpet()\n",
    "# X_train, X_test, X_test_good, X_test_error, y_tr, y_tg, y_te, y_ts = mv.grid()\n",
    "# X_train, X_test, X_test_good, X_test_error, y_tr, y_tg, y_te, y_ts = mv.hazelnut()\n",
    "# X_train, X_test, X_test_good, X_test_error, y_tr, y_tg, y_te, y_ts = mv.leather()\n",
    "# X_train, X_test, X_test_good, X_test_error, y_tr, y_tg, y_te, y_ts = mv.metal_nut()\n",
    "# X_train, X_test, X_test_good, X_test_error, y_tr, y_tg, y_te, y_ts = mv.pill()\n",
    "# X_train, X_test, X_test_good, X_test_error, y_tr, y_tg, y_te, y_ts = mv.screw()\n",
    "X_train, X_test, X_test_good, X_test_error, y_tr, y_tg, y_te, y_ts = mv.tile()\n",
    "# X_train, X_test, X_test_good, X_test_error, y_tr, y_tg, y_te, y_ts = mv.toothbrush()\n",
    "# X_train, X_test, X_test_good, X_test_error, y_tr, y_tg, y_te, y_ts = mv.transistor()\n",
    "# X_train, X_test, X_test_good, X_test_error, y_tr, y_tg, y_te, y_ts = mv.wood()\n",
    "# X_train, X_test, X_test_good, X_test_error, y_tr, y_tg, y_te, y_ts = mv.zipper()\n",
    "\n",
    "x_train = np.reshape(X_train, (len(X_train), -1))\n",
    "x_test = np.reshape(X_test, (len(X_test), -1))\n",
    "result = OCSVM(x_train, x_test, y_tr, y_ts)\n",
    "res.append(result)"
   ]
  },
  {
   "cell_type": "code",
   "execution_count": 56,
   "id": "519e2a6c",
   "metadata": {},
   "outputs": [
    {
     "name": "stdout",
     "output_type": "stream",
     "text": [
      "roc_auc :  0.8833333333333334\n",
      "f1_score :  0.7333333333333334\n",
      "accuracy_score :  0.8095238095238095\n",
      "best_params :  {'gamma': 1e-05, 'kernel': 'rbf', 'nu': 0.0625}\n"
     ]
    }
   ],
   "source": [
    "# X_train, X_test, X_test_good, X_test_error, y_tr, y_tg, y_te, y_ts = mv.bottle()\n",
    "# X_train, X_test, X_test_good, X_test_error, y_tr, y_tg, y_te, y_ts = mv.cable()\n",
    "# X_train, X_test, X_test_good, X_test_error, y_tr, y_tg, y_te, y_ts = mv.capsule()\n",
    "# X_train, X_test, X_test_good, X_test_error, y_tr, y_tg, y_te, y_ts = mv.carpet()\n",
    "# X_train, X_test, X_test_good, X_test_error, y_tr, y_tg, y_te, y_ts = mv.grid()\n",
    "# X_train, X_test, X_test_good, X_test_error, y_tr, y_tg, y_te, y_ts = mv.hazelnut()\n",
    "# X_train, X_test, X_test_good, X_test_error, y_tr, y_tg, y_te, y_ts = mv.leather()\n",
    "# X_train, X_test, X_test_good, X_test_error, y_tr, y_tg, y_te, y_ts = mv.metal_nut()\n",
    "# X_train, X_test, X_test_good, X_test_error, y_tr, y_tg, y_te, y_ts = mv.pill()\n",
    "# X_train, X_test, X_test_good, X_test_error, y_tr, y_tg, y_te, y_ts = mv.screw()\n",
    "# X_train, X_test, X_test_good, X_test_error, y_tr, y_tg, y_te, y_ts = mv.tile()\n",
    "X_train, X_test, X_test_good, X_test_error, y_tr, y_tg, y_te, y_ts = mv.toothbrush()\n",
    "# X_train, X_test, X_test_good, X_test_error, y_tr, y_tg, y_te, y_ts = mv.transistor()\n",
    "# X_train, X_test, X_test_good, X_test_error, y_tr, y_tg, y_te, y_ts = mv.wood()\n",
    "# X_train, X_test, X_test_good, X_test_error, y_tr, y_tg, y_te, y_ts = mv.zipper()\n",
    "\n",
    "x_train = np.reshape(X_train, (len(X_train), -1))\n",
    "x_test = np.reshape(X_test, (len(X_test), -1))\n",
    "result = OCSVM(x_train, x_test, y_tr, y_ts)\n",
    "res.append(result)"
   ]
  },
  {
   "cell_type": "code",
   "execution_count": 57,
   "id": "695ce3b7",
   "metadata": {},
   "outputs": [
    {
     "name": "stdout",
     "output_type": "stream",
     "text": [
      "roc_auc :  0.7091666666666667\n",
      "f1_score :  0.8000000000000002\n",
      "accuracy_score :  0.71\n",
      "best_params :  {'gamma': 1e-06, 'kernel': 'rbf', 'nu': 0.015625}\n"
     ]
    }
   ],
   "source": [
    "# X_train, X_test, X_test_good, X_test_error, y_tr, y_tg, y_te, y_ts = mv.bottle()\n",
    "# X_train, X_test, X_test_good, X_test_error, y_tr, y_tg, y_te, y_ts = mv.cable()\n",
    "# X_train, X_test, X_test_good, X_test_error, y_tr, y_tg, y_te, y_ts = mv.capsule()\n",
    "# X_train, X_test, X_test_good, X_test_error, y_tr, y_tg, y_te, y_ts = mv.carpet()\n",
    "# X_train, X_test, X_test_good, X_test_error, y_tr, y_tg, y_te, y_ts = mv.grid()\n",
    "# X_train, X_test, X_test_good, X_test_error, y_tr, y_tg, y_te, y_ts = mv.hazelnut()\n",
    "# X_train, X_test, X_test_good, X_test_error, y_tr, y_tg, y_te, y_ts = mv.leather()\n",
    "# X_train, X_test, X_test_good, X_test_error, y_tr, y_tg, y_te, y_ts = mv.metal_nut()\n",
    "# X_train, X_test, X_test_good, X_test_error, y_tr, y_tg, y_te, y_ts = mv.pill()\n",
    "# X_train, X_test, X_test_good, X_test_error, y_tr, y_tg, y_te, y_ts = mv.screw()\n",
    "# X_train, X_test, X_test_good, X_test_error, y_tr, y_tg, y_te, y_ts = mv.tile()\n",
    "# X_train, X_test, X_test_good, X_test_error, y_tr, y_tg, y_te, y_ts = mv.toothbrush()\n",
    "X_train, X_test, X_test_good, X_test_error, y_tr, y_tg, y_te, y_ts = mv.transistor()\n",
    "# X_train, X_test, X_test_good, X_test_error, y_tr, y_tg, y_te, y_ts = mv.wood()\n",
    "# X_train, X_test, X_test_good, X_test_error, y_tr, y_tg, y_te, y_ts = mv.zipper()\n",
    "\n",
    "x_train = np.reshape(X_train, (len(X_train), -1))\n",
    "x_test = np.reshape(X_test, (len(X_test), -1))\n",
    "result = OCSVM(x_train, x_test, y_tr, y_ts)\n",
    "res.append(result)"
   ]
  },
  {
   "cell_type": "code",
   "execution_count": 58,
   "id": "232ac5a1",
   "metadata": {},
   "outputs": [
    {
     "name": "stdout",
     "output_type": "stream",
     "text": [
      "roc_auc :  0.9210526315789473\n",
      "f1_score :  0.46341463414634143\n",
      "accuracy_score :  0.4430379746835443\n",
      "best_params :  {'gamma': 1e-05, 'kernel': 'rbf', 'nu': 0.015625}\n"
     ]
    }
   ],
   "source": [
    "# X_train, X_test, X_test_good, X_test_error, y_tr, y_tg, y_te, y_ts = mv.bottle()\n",
    "# X_train, X_test, X_test_good, X_test_error, y_tr, y_tg, y_te, y_ts = mv.cable()\n",
    "# X_train, X_test, X_test_good, X_test_error, y_tr, y_tg, y_te, y_ts = mv.capsule()\n",
    "# X_train, X_test, X_test_good, X_test_error, y_tr, y_tg, y_te, y_ts = mv.carpet()\n",
    "# X_train, X_test, X_test_good, X_test_error, y_tr, y_tg, y_te, y_ts = mv.grid()\n",
    "# X_train, X_test, X_test_good, X_test_error, y_tr, y_tg, y_te, y_ts = mv.hazelnut()\n",
    "# X_train, X_test, X_test_good, X_test_error, y_tr, y_tg, y_te, y_ts = mv.leather()\n",
    "# X_train, X_test, X_test_good, X_test_error, y_tr, y_tg, y_te, y_ts = mv.metal_nut()\n",
    "# X_train, X_test, X_test_good, X_test_error, y_tr, y_tg, y_te, y_ts = mv.pill()\n",
    "# X_train, X_test, X_test_good, X_test_error, y_tr, y_tg, y_te, y_ts = mv.screw()\n",
    "# X_train, X_test, X_test_good, X_test_error, y_tr, y_tg, y_te, y_ts = mv.tile()\n",
    "# X_train, X_test, X_test_good, X_test_error, y_tr, y_tg, y_te, y_ts = mv.toothbrush()\n",
    "# X_train, X_test, X_test_good, X_test_error, y_tr, y_tg, y_te, y_ts = mv.transistor()\n",
    "X_train, X_test, X_test_good, X_test_error, y_tr, y_tg, y_te, y_ts = mv.wood()\n",
    "# X_train, X_test, X_test_good, X_test_error, y_tr, y_tg, y_te, y_ts = mv.zipper()\n",
    "\n",
    "x_train = np.reshape(X_train, (len(X_train), -1))\n",
    "x_test = np.reshape(X_test, (len(X_test), -1))\n",
    "result = OCSVM(x_train, x_test, y_tr, y_ts)\n",
    "res.append(result)"
   ]
  },
  {
   "cell_type": "code",
   "execution_count": 59,
   "id": "b71b88a1",
   "metadata": {},
   "outputs": [
    {
     "name": "stdout",
     "output_type": "stream",
     "text": [
      "roc_auc :  0.5210084033613446\n",
      "f1_score :  0.3529411764705882\n",
      "accuracy_score :  0.271523178807947\n",
      "best_params :  {'gamma': 1e-06, 'kernel': 'rbf', 'nu': 0.03125}\n"
     ]
    }
   ],
   "source": [
    "# X_train, X_test, X_test_good, X_test_error, y_tr, y_tg, y_te, y_ts = mv.bottle()\n",
    "# X_train, X_test, X_test_good, X_test_error, y_tr, y_tg, y_te, y_ts = mv.cable()\n",
    "# X_train, X_test, X_test_good, X_test_error, y_tr, y_tg, y_te, y_ts = mv.capsule()\n",
    "# X_train, X_test, X_test_good, X_test_error, y_tr, y_tg, y_te, y_ts = mv.carpet()\n",
    "# X_train, X_test, X_test_good, X_test_error, y_tr, y_tg, y_te, y_ts = mv.grid()\n",
    "# X_train, X_test, X_test_good, X_test_error, y_tr, y_tg, y_te, y_ts = mv.hazelnut()\n",
    "# X_train, X_test, X_test_good, X_test_error, y_tr, y_tg, y_te, y_ts = mv.leather()\n",
    "# X_train, X_test, X_test_good, X_test_error, y_tr, y_tg, y_te, y_ts = mv.metal_nut()\n",
    "# X_train, X_test, X_test_good, X_test_error, y_tr, y_tg, y_te, y_ts = mv.pill()\n",
    "# X_train, X_test, X_test_good, X_test_error, y_tr, y_tg, y_te, y_ts = mv.screw()\n",
    "# X_train, X_test, X_test_good, X_test_error, y_tr, y_tg, y_te, y_ts = mv.tile()\n",
    "# X_train, X_test, X_test_good, X_test_error, y_tr, y_tg, y_te, y_ts = mv.toothbrush()\n",
    "# X_train, X_test, X_test_good, X_test_error, y_tr, y_tg, y_te, y_ts = mv.transistor()\n",
    "# X_train, X_test, X_test_good, X_test_error, y_tr, y_tg, y_te, y_ts = mv.wood()\n",
    "X_train, X_test, X_test_good, X_test_error, y_tr, y_tg, y_te, y_ts = mv.zipper()\n",
    "\n",
    "x_train = np.reshape(X_train, (len(X_train), -1))\n",
    "x_test = np.reshape(X_test, (len(X_test), -1))\n",
    "result = OCSVM(x_train, x_test, y_tr, y_ts)\n",
    "res.append(result)"
   ]
  },
  {
   "cell_type": "code",
   "execution_count": 60,
   "id": "9c8baee0",
   "metadata": {},
   "outputs": [],
   "source": [
    "df = pd.DataFrame(res)\n",
    "df.to_csv('OCSVM.csv')"
   ]
  },
  {
   "cell_type": "code",
   "execution_count": null,
   "id": "becc82e2",
   "metadata": {},
   "outputs": [],
   "source": []
  }
 ],
 "metadata": {
  "kernelspec": {
   "display_name": "Python 3 (ipykernel)",
   "language": "python",
   "name": "python3"
  },
  "language_info": {
   "codemirror_mode": {
    "name": "ipython",
    "version": 3
   },
   "file_extension": ".py",
   "mimetype": "text/x-python",
   "name": "python",
   "nbconvert_exporter": "python",
   "pygments_lexer": "ipython3",
   "version": "3.9.17"
  }
 },
 "nbformat": 4,
 "nbformat_minor": 5
}
